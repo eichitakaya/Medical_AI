{
 "cells": [
  {
   "cell_type": "code",
   "execution_count": 17,
   "id": "a3d00bd4-3507-4b86-bafc-eb179ff34c85",
   "metadata": {},
   "outputs": [],
   "source": [
    "from PIL import Image\n",
    "import numpy as np\n",
    "import nibabel as nib\n",
    "\n",
    "def window(img):\n",
    "    ww = img.max() - img.min()\n",
    "    wc = int(ww / 2)\n",
    "    \n",
    "    window_max = wc + ww / 2\n",
    "    window_min = wc - ww / 2\n",
    "    \n",
    "    img = 255 * (img - window_min) / (window_max - window_min)\n",
    "    img[img > 255] = 255\n",
    "    img[img < 0] = 0\n",
    "    return img"
   ]
  },
  {
   "cell_type": "code",
   "execution_count": 66,
   "id": "f3228760",
   "metadata": {},
   "outputs": [
    {
     "name": "stderr",
     "output_type": "stream",
     "text": [
      "/tmp/ipykernel_22884/1692954809.py:2: DeprecationWarning: get_data() is deprecated in favor of get_fdata(), which has a more predictable return type. To obtain get_data() behavior going forward, use numpy.asanyarray(img.dataobj).\n",
      "\n",
      "* deprecated from version: 3.0\n",
      "* Will raise <class 'nibabel.deprecator.ExpiredDeprecationError'> as of version: 5.0\n",
      "  arr = arr.get_data()\n"
     ]
    }
   ],
   "source": [
    "arr = nib.load(\"../data/Multiple_Sclerosis/Testing/Center_01/Patient_02/Masks/Brain_Mask.nii\")\n",
    "arr = arr.get_data()\n",
    "\n",
    "im_list = []\n",
    "\n",
    "#arr = window(arr)\n",
    "for i in range(arr.shape[0]):\n",
    "    img = Image.fromarray(np.uint8(arr[i])*255)\n",
    "    im_list.append(img)\n",
    "\n",
    "im_list[0].save(\"../data/Multiple_Sclerosis/gifs/brain_mask.gif\", \n",
    "                save_all=True, \n",
    "                append_images=im_list[1:],\n",
    "                optimize=True,\n",
    "                duration=50, loop=0)"
   ]
  },
  {
   "cell_type": "code",
   "execution_count": 64,
   "id": "c63a1fe9",
   "metadata": {},
   "outputs": [
    {
     "name": "stderr",
     "output_type": "stream",
     "text": [
      "/tmp/ipykernel_22884/304379662.py:2: DeprecationWarning: get_data() is deprecated in favor of get_fdata(), which has a more predictable return type. To obtain get_data() behavior going forward, use numpy.asanyarray(img.dataobj).\n",
      "\n",
      "* deprecated from version: 3.0\n",
      "* Will raise <class 'nibabel.deprecator.ExpiredDeprecationError'> as of version: 5.0\n",
      "  arr = arr.get_data()\n"
     ]
    }
   ],
   "source": [
    "arr = nib.load(\"../data/Multiple_Sclerosis/Testing/Center_01/Patient_02/Masks/Brain_Mask.nii\")\n",
    "arr = arr.get_data()"
   ]
  },
  {
   "cell_type": "code",
   "execution_count": 65,
   "id": "0425472b",
   "metadata": {},
   "outputs": [
    {
     "data": {
      "text/plain": [
       "(144, 512, 512)"
      ]
     },
     "execution_count": 65,
     "metadata": {},
     "output_type": "execute_result"
    }
   ],
   "source": [
    "arr.shape"
   ]
  },
  {
   "cell_type": "code",
   "execution_count": 14,
   "id": "5a1f1add",
   "metadata": {},
   "outputs": [
    {
     "data": {
      "text/plain": [
       "1.0"
      ]
     },
     "execution_count": 14,
     "metadata": {},
     "output_type": "execute_result"
    }
   ],
   "source": [
    "mask[50].max()"
   ]
  },
  {
   "cell_type": "code",
   "execution_count": 40,
   "id": "2a54179b",
   "metadata": {},
   "outputs": [],
   "source": [
    "from PIL import Image\n",
    "from PIL import ImageDraw\n",
    "import pydicom\n",
    "import numpy as np\n",
    "import cv2\n",
    "\n",
    "def contours2list(contours):\n",
    "    point_list = []\n",
    "    for i in range(contours[0].shape[0]):\n",
    "        point_list.append(tuple(contours[0][i][0]))\n",
    "    return point_list\n",
    "\n",
    "def window(img):\n",
    "    ww = img.max() - img.min()\n",
    "    wc = int(ww / 2)\n",
    "    \n",
    "    window_max = wc + ww / 2\n",
    "    window_min = wc - ww / 2\n",
    "    \n",
    "    img = 255 * (img - window_min) / (window_max - window_min)\n",
    "    img[img > 255] = 255\n",
    "    img[img < 0] = 0\n",
    "    return img\n",
    "\n",
    "dcm = pydicom.read_file(\"0.dcm\")\n",
    "img = Image.fromarray(np.uint8(window(dcm.pixel_array)))\n",
    "img.save(\"raw.png\")\n",
    "\n",
    "def superimpose(img_path, label_path, save_path):\n",
    "    img = Image.open(img_path)\n",
    "    img = img.convert(\"RGBA\")\n",
    "    mask = np.array(Image.open(label_path))\n",
    "    contours, hierarchy = cv2.findContours(mask, cv2.RETR_EXTERNAL, cv2.CHAIN_APPROX_SIMPLE)\n",
    "    poly = Image.new('RGBA', img.size)\n",
    "    pdraw = ImageDraw.Draw(poly)\n",
    "    point_list = contours2list(contours)\n",
    "    pdraw.polygon(point_list, fill=(255,0,255,128), outline=(0,0,0,255))\n",
    "    img.paste(poly,mask=poly)\n",
    "    img.save(save_path)\n",
    "\n",
    "superimpose(\"raw.png\", \"label.png\", \"pasted.png\")"
   ]
  },
  {
   "cell_type": "code",
   "execution_count": 6,
   "id": "dd202b09",
   "metadata": {},
   "outputs": [],
   "source": [
    "mask = np.array(Image.open(\"label.png\"))\n",
    "contours, hierarchy = cv2.findContours(mask, cv2.RETR_EXTERNAL, cv2.CHAIN_APPROX_SIMPLE)"
   ]
  },
  {
   "cell_type": "code",
   "execution_count": 13,
   "id": "e9aa535e",
   "metadata": {},
   "outputs": [
    {
     "data": {
      "text/plain": [
       "array([[ 20, 180]], dtype=int32)"
      ]
     },
     "execution_count": 13,
     "metadata": {},
     "output_type": "execute_result"
    }
   ],
   "source": [
    "contours[0][0]"
   ]
  },
  {
   "cell_type": "code",
   "execution_count": 14,
   "id": "f9d0f451",
   "metadata": {},
   "outputs": [
    {
     "data": {
      "text/plain": [
       "array([[[-1, -1, -1, -1]]], dtype=int32)"
      ]
     },
     "execution_count": 14,
     "metadata": {},
     "output_type": "execute_result"
    }
   ],
   "source": [
    "hierarchy"
   ]
  },
  {
   "cell_type": "code",
   "execution_count": 15,
   "id": "3821eb73",
   "metadata": {},
   "outputs": [
    {
     "data": {
      "text/plain": [
       "(384, 384)"
      ]
     },
     "execution_count": 15,
     "metadata": {},
     "output_type": "execute_result"
    }
   ],
   "source": [
    "img = Image.open(\"raw.png\")\n",
    "img.size"
   ]
  },
  {
   "cell_type": "code",
   "execution_count": 20,
   "id": "46da51bd",
   "metadata": {},
   "outputs": [],
   "source": [
    "x=[1206,1198,1192,1227,1276,1338,1381,1397,1403,1438,1457,1465,1465,1449,1420,1455,1471,1465,1432,1414,1418,1276,1194,1194,1150,1150,1177,1208]\n",
    "y=[669,628,568,558,554,552,552,562,580,570,580,599,624,644,671,673,689,704,712,724,747,749,749,737,712,700,681,669]\n",
    "cup_poly=[(x,y) for x,y in zip(x,y)]"
   ]
  },
  {
   "cell_type": "code",
   "execution_count": 36,
   "id": "f3ce75d8",
   "metadata": {},
   "outputs": [],
   "source": [
    "def contours2list(contours):\n",
    "    point_list = []\n",
    "    for i in range(contours[0].shape[0]):\n",
    "        point_list.append(tuple(contours[0][i][0]))\n",
    "    return point_list"
   ]
  },
  {
   "cell_type": "code",
   "execution_count": 37,
   "id": "cb1021ca",
   "metadata": {},
   "outputs": [
    {
     "data": {
      "text/plain": [
       "[(20, 180),\n",
       " (20, 182),\n",
       " (19, 183),\n",
       " (19, 187),\n",
       " (18, 188),\n",
       " (18, 192),\n",
       " (19, 193),\n",
       " (19, 197),\n",
       " (20, 198),\n",
       " (20, 200),\n",
       " (21, 201),\n",
       " (21, 202),\n",
       " (22, 203),\n",
       " (22, 204),\n",
       " (23, 205),\n",
       " (23, 206),\n",
       " (24, 207),\n",
       " (24, 208),\n",
       " (26, 210),\n",
       " (26, 211),\n",
       " (27, 212),\n",
       " (27, 213),\n",
       " (28, 214),\n",
       " (28, 215),\n",
       " (29, 216),\n",
       " (29, 217),\n",
       " (31, 219),\n",
       " (31, 220),\n",
       " (33, 222),\n",
       " (33, 223),\n",
       " (35, 225),\n",
       " (35, 226),\n",
       " (37, 228),\n",
       " (37, 229),\n",
       " (40, 232),\n",
       " (40, 233),\n",
       " (52, 245),\n",
       " (52, 246),\n",
       " (57, 251),\n",
       " (58, 251),\n",
       " (61, 254),\n",
       " (62, 254),\n",
       " (65, 257),\n",
       " (66, 257),\n",
       " (69, 260),\n",
       " (70, 260),\n",
       " (73, 263),\n",
       " (74, 263),\n",
       " (76, 265),\n",
       " (77, 265),\n",
       " (79, 267),\n",
       " (80, 267),\n",
       " (81, 268),\n",
       " (82, 268),\n",
       " (83, 269),\n",
       " (84, 269),\n",
       " (85, 270),\n",
       " (86, 270),\n",
       " (87, 271),\n",
       " (88, 271),\n",
       " (89, 272),\n",
       " (91, 272),\n",
       " (92, 273),\n",
       " (93, 273),\n",
       " (94, 274),\n",
       " (96, 274),\n",
       " (97, 275),\n",
       " (98, 275),\n",
       " (99, 276),\n",
       " (101, 276),\n",
       " (102, 277),\n",
       " (104, 277),\n",
       " (105, 278),\n",
       " (107, 278),\n",
       " (108, 279),\n",
       " (110, 279),\n",
       " (111, 280),\n",
       " (114, 280),\n",
       " (115, 281),\n",
       " (117, 281),\n",
       " (118, 282),\n",
       " (121, 282),\n",
       " (122, 283),\n",
       " (126, 283),\n",
       " (127, 284),\n",
       " (130, 284),\n",
       " (131, 285),\n",
       " (132, 285),\n",
       " (133, 286),\n",
       " (135, 286),\n",
       " (136, 287),\n",
       " (137, 287),\n",
       " (138, 288),\n",
       " (140, 288),\n",
       " (141, 289),\n",
       " (144, 289),\n",
       " (145, 290),\n",
       " (147, 290),\n",
       " (148, 291),\n",
       " (154, 291),\n",
       " (155, 292),\n",
       " (161, 292),\n",
       " (162, 293),\n",
       " (167, 293),\n",
       " (168, 294),\n",
       " (171, 294),\n",
       " (172, 295),\n",
       " (173, 295),\n",
       " (174, 296),\n",
       " (175, 296),\n",
       " (176, 297),\n",
       " (177, 297),\n",
       " (178, 298),\n",
       " (181, 298),\n",
       " (182, 299),\n",
       " (186, 299),\n",
       " (187, 300),\n",
       " (206, 300),\n",
       " (205, 299),\n",
       " (205, 298),\n",
       " (204, 297),\n",
       " (204, 296),\n",
       " (203, 295),\n",
       " (203, 294),\n",
       " (202, 293),\n",
       " (202, 292),\n",
       " (198, 288),\n",
       " (198, 287),\n",
       " (187, 276),\n",
       " (187, 275),\n",
       " (186, 274),\n",
       " (186, 273),\n",
       " (185, 272),\n",
       " (185, 270),\n",
       " (184, 269),\n",
       " (184, 268),\n",
       " (183, 267),\n",
       " (183, 265),\n",
       " (182, 264),\n",
       " (182, 263),\n",
       " (181, 262),\n",
       " (181, 261),\n",
       " (180, 260),\n",
       " (180, 259),\n",
       " (179, 258),\n",
       " (179, 257),\n",
       " (171, 249),\n",
       " (170, 249),\n",
       " (169, 248),\n",
       " (168, 248),\n",
       " (167, 247),\n",
       " (166, 247),\n",
       " (165, 246),\n",
       " (164, 246),\n",
       " (163, 245),\n",
       " (162, 245),\n",
       " (161, 244),\n",
       " (159, 244),\n",
       " (158, 243),\n",
       " (155, 243),\n",
       " (154, 242),\n",
       " (152, 242),\n",
       " (151, 241),\n",
       " (149, 241),\n",
       " (148, 240),\n",
       " (145, 240),\n",
       " (144, 239),\n",
       " (141, 239),\n",
       " (140, 238),\n",
       " (136, 238),\n",
       " (135, 237),\n",
       " (132, 237),\n",
       " (131, 236),\n",
       " (129, 236),\n",
       " (128, 235),\n",
       " (126, 235),\n",
       " (125, 234),\n",
       " (123, 234),\n",
       " (122, 233),\n",
       " (120, 233),\n",
       " (119, 232),\n",
       " (116, 232),\n",
       " (115, 231),\n",
       " (110, 231),\n",
       " (109, 230),\n",
       " (104, 230),\n",
       " (101, 227),\n",
       " (101, 226),\n",
       " (96, 221),\n",
       " (96, 220),\n",
       " (95, 219),\n",
       " (95, 218),\n",
       " (94, 217),\n",
       " (94, 216),\n",
       " (93, 215),\n",
       " (93, 214),\n",
       " (89, 210),\n",
       " (89, 209),\n",
       " (85, 205),\n",
       " (84, 205),\n",
       " (82, 203),\n",
       " (81, 203),\n",
       " (79, 201),\n",
       " (78, 201),\n",
       " (76, 199),\n",
       " (75, 199),\n",
       " (74, 198),\n",
       " (73, 198),\n",
       " (72, 197),\n",
       " (71, 197),\n",
       " (70, 196),\n",
       " (69, 196),\n",
       " (67, 194),\n",
       " (66, 194),\n",
       " (64, 192),\n",
       " (63, 192),\n",
       " (62, 191),\n",
       " (61, 191),\n",
       " (59, 189),\n",
       " (58, 189),\n",
       " (57, 188),\n",
       " (56, 188),\n",
       " (55, 187),\n",
       " (54, 187),\n",
       " (53, 186),\n",
       " (52, 186),\n",
       " (51, 185),\n",
       " (50, 185),\n",
       " (49, 184),\n",
       " (47, 184),\n",
       " (46, 183),\n",
       " (43, 183),\n",
       " (42, 182),\n",
       " (39, 182),\n",
       " (38, 181),\n",
       " (34, 181),\n",
       " (33, 180)]"
      ]
     },
     "execution_count": 37,
     "metadata": {},
     "output_type": "execute_result"
    }
   ],
   "source": [
    "contours2list(contours)"
   ]
  },
  {
   "cell_type": "code",
   "execution_count": 35,
   "id": "6df92ba8",
   "metadata": {},
   "outputs": [
    {
     "data": {
      "text/plain": [
       "[(1206, 669),\n",
       " (1198, 628),\n",
       " (1192, 568),\n",
       " (1227, 558),\n",
       " (1276, 554),\n",
       " (1338, 552),\n",
       " (1381, 552),\n",
       " (1397, 562),\n",
       " (1403, 580),\n",
       " (1438, 570),\n",
       " (1457, 580),\n",
       " (1465, 599),\n",
       " (1465, 624),\n",
       " (1449, 644),\n",
       " (1420, 671),\n",
       " (1455, 673),\n",
       " (1471, 689),\n",
       " (1465, 704),\n",
       " (1432, 712),\n",
       " (1414, 724),\n",
       " (1418, 747),\n",
       " (1276, 749),\n",
       " (1194, 749),\n",
       " (1194, 737),\n",
       " (1150, 712),\n",
       " (1150, 700),\n",
       " (1177, 681),\n",
       " (1208, 669)]"
      ]
     },
     "execution_count": 35,
     "metadata": {},
     "output_type": "execute_result"
    }
   ],
   "source": [
    "cup_poly"
   ]
  },
  {
   "cell_type": "code",
   "execution_count": null,
   "id": "43ab0f91",
   "metadata": {},
   "outputs": [],
   "source": []
  }
 ],
 "metadata": {
  "kernelspec": {
   "display_name": "Python 3 (ipykernel)",
   "language": "python",
   "name": "python3"
  },
  "language_info": {
   "codemirror_mode": {
    "name": "ipython",
    "version": 3
   },
   "file_extension": ".py",
   "mimetype": "text/x-python",
   "name": "python",
   "nbconvert_exporter": "python",
   "pygments_lexer": "ipython3",
   "version": "3.9.2"
  },
  "vscode": {
   "interpreter": {
    "hash": "2d7b087156161fb625e4a6c422e95b511bfa45e0ec345ce3e52f6d7ffde7b07a"
   }
  }
 },
 "nbformat": 4,
 "nbformat_minor": 5
}
