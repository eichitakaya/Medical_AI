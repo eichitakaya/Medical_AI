{
 "cells": [
  {
   "attachments": {},
   "cell_type": "markdown",
   "metadata": {},
   "source": [
    "## 因子分析をやってみよう\n",
    "知能検査のデータを使って因子分析に挑戦してみましょう．\\\n",
    "データセットは，1939年にHolzingerとSwinefordによる研究で収集されたものを用います．\\\n",
    "Rのライブラリから利用できるようになっていますが，今回はPythonで扱うために，あらかじめcsvファイルに変換してあります．\n",
    "詳細は[こちら](https://rdrr.io/cran/lavaan/man/HolzingerSwineford1939.html)をご覧ください．"
   ]
  },
  {
   "attachments": {},
   "cell_type": "markdown",
   "metadata": {},
   "source": [
    "まずは大まかな流れを確認しておきます．\n",
    "- データを読み込み，整形する\n",
    "- 因子の数を決定する\n",
    "- 因子分析ライブラリにデータを突っ込む\n",
    "- 因子を回転しつつ，因子負荷量の解釈を行う\n",
    "\n",
    "これだけです．簡単ですね！"
   ]
  },
  {
   "attachments": {},
   "cell_type": "markdown",
   "metadata": {},
   "source": [
    "まずは，pandasを用いてデータを読み込み，中身を確認してみましょう！"
   ]
  },
  {
   "cell_type": "code",
   "execution_count": 2,
   "metadata": {},
   "outputs": [],
   "source": [
    "import pandas as pd\n",
    "\n",
    "df = pd.read_csv(\"HolzingerSwineford1939.csv\")"
   ]
  },
  {
   "cell_type": "code",
   "execution_count": 3,
   "metadata": {},
   "outputs": [
    {
     "data": {
      "text/html": [
       "<div>\n",
       "<style scoped>\n",
       "    .dataframe tbody tr th:only-of-type {\n",
       "        vertical-align: middle;\n",
       "    }\n",
       "\n",
       "    .dataframe tbody tr th {\n",
       "        vertical-align: top;\n",
       "    }\n",
       "\n",
       "    .dataframe thead th {\n",
       "        text-align: right;\n",
       "    }\n",
       "</style>\n",
       "<table border=\"1\" class=\"dataframe\">\n",
       "  <thead>\n",
       "    <tr style=\"text-align: right;\">\n",
       "      <th></th>\n",
       "      <th>id</th>\n",
       "      <th>sex</th>\n",
       "      <th>ageyr</th>\n",
       "      <th>agemo</th>\n",
       "      <th>school</th>\n",
       "      <th>grade</th>\n",
       "      <th>x1</th>\n",
       "      <th>x2</th>\n",
       "      <th>x3</th>\n",
       "      <th>x4</th>\n",
       "      <th>x5</th>\n",
       "      <th>x6</th>\n",
       "      <th>x7</th>\n",
       "      <th>x8</th>\n",
       "      <th>x9</th>\n",
       "    </tr>\n",
       "  </thead>\n",
       "  <tbody>\n",
       "    <tr>\n",
       "      <th>0</th>\n",
       "      <td>1</td>\n",
       "      <td>1</td>\n",
       "      <td>13</td>\n",
       "      <td>1</td>\n",
       "      <td>Pasteur</td>\n",
       "      <td>7.0</td>\n",
       "      <td>3.333333</td>\n",
       "      <td>7.75</td>\n",
       "      <td>0.375</td>\n",
       "      <td>2.333333</td>\n",
       "      <td>5.75</td>\n",
       "      <td>1.285714</td>\n",
       "      <td>3.391304</td>\n",
       "      <td>5.75</td>\n",
       "      <td>6.361111</td>\n",
       "    </tr>\n",
       "    <tr>\n",
       "      <th>1</th>\n",
       "      <td>2</td>\n",
       "      <td>2</td>\n",
       "      <td>13</td>\n",
       "      <td>7</td>\n",
       "      <td>Pasteur</td>\n",
       "      <td>7.0</td>\n",
       "      <td>5.333333</td>\n",
       "      <td>5.25</td>\n",
       "      <td>2.125</td>\n",
       "      <td>1.666667</td>\n",
       "      <td>3.00</td>\n",
       "      <td>1.285714</td>\n",
       "      <td>3.782609</td>\n",
       "      <td>6.25</td>\n",
       "      <td>7.916667</td>\n",
       "    </tr>\n",
       "    <tr>\n",
       "      <th>2</th>\n",
       "      <td>3</td>\n",
       "      <td>2</td>\n",
       "      <td>13</td>\n",
       "      <td>1</td>\n",
       "      <td>Pasteur</td>\n",
       "      <td>7.0</td>\n",
       "      <td>4.500000</td>\n",
       "      <td>5.25</td>\n",
       "      <td>1.875</td>\n",
       "      <td>1.000000</td>\n",
       "      <td>1.75</td>\n",
       "      <td>0.428571</td>\n",
       "      <td>3.260870</td>\n",
       "      <td>3.90</td>\n",
       "      <td>4.416667</td>\n",
       "    </tr>\n",
       "    <tr>\n",
       "      <th>3</th>\n",
       "      <td>4</td>\n",
       "      <td>1</td>\n",
       "      <td>13</td>\n",
       "      <td>2</td>\n",
       "      <td>Pasteur</td>\n",
       "      <td>7.0</td>\n",
       "      <td>5.333333</td>\n",
       "      <td>7.75</td>\n",
       "      <td>3.000</td>\n",
       "      <td>2.666667</td>\n",
       "      <td>4.50</td>\n",
       "      <td>2.428571</td>\n",
       "      <td>3.000000</td>\n",
       "      <td>5.30</td>\n",
       "      <td>4.861111</td>\n",
       "    </tr>\n",
       "    <tr>\n",
       "      <th>4</th>\n",
       "      <td>5</td>\n",
       "      <td>2</td>\n",
       "      <td>12</td>\n",
       "      <td>2</td>\n",
       "      <td>Pasteur</td>\n",
       "      <td>7.0</td>\n",
       "      <td>4.833333</td>\n",
       "      <td>4.75</td>\n",
       "      <td>0.875</td>\n",
       "      <td>2.666667</td>\n",
       "      <td>4.00</td>\n",
       "      <td>2.571429</td>\n",
       "      <td>3.695652</td>\n",
       "      <td>6.30</td>\n",
       "      <td>5.916667</td>\n",
       "    </tr>\n",
       "  </tbody>\n",
       "</table>\n",
       "</div>"
      ],
      "text/plain": [
       "   id  sex  ageyr  agemo   school  grade        x1    x2     x3        x4  \\\n",
       "0   1    1     13      1  Pasteur    7.0  3.333333  7.75  0.375  2.333333   \n",
       "1   2    2     13      7  Pasteur    7.0  5.333333  5.25  2.125  1.666667   \n",
       "2   3    2     13      1  Pasteur    7.0  4.500000  5.25  1.875  1.000000   \n",
       "3   4    1     13      2  Pasteur    7.0  5.333333  7.75  3.000  2.666667   \n",
       "4   5    2     12      2  Pasteur    7.0  4.833333  4.75  0.875  2.666667   \n",
       "\n",
       "     x5        x6        x7    x8        x9  \n",
       "0  5.75  1.285714  3.391304  5.75  6.361111  \n",
       "1  3.00  1.285714  3.782609  6.25  7.916667  \n",
       "2  1.75  0.428571  3.260870  3.90  4.416667  \n",
       "3  4.50  2.428571  3.000000  5.30  4.861111  \n",
       "4  4.00  2.571429  3.695652  6.30  5.916667  "
      ]
     },
     "execution_count": 3,
     "metadata": {},
     "output_type": "execute_result"
    }
   ],
   "source": [
    "df.head(5)"
   ]
  },
  {
   "attachments": {},
   "cell_type": "markdown",
   "metadata": {},
   "source": [
    "x1~x9の内容を説明"
   ]
  },
  {
   "cell_type": "code",
   "execution_count": 4,
   "metadata": {},
   "outputs": [],
   "source": [
    "# x1~x9のみを取り出す．\n",
    "df_x = df.iloc[:, 6:16]"
   ]
  },
  {
   "attachments": {},
   "cell_type": "markdown",
   "metadata": {},
   "source": [
    "### 因子数の決定\n",
    "因子分析における因子数は，あらかじめ決めておく必要があります．\\\n",
    "ここでは，カイザー基準とスクリープロットを用いて検討してみましょう．\\\n",
    "- カイザー基準\n",
    "    - hoge\n",
    "- スクリープロット\n",
    "    - hoge\n",
    "\n",
    "因子分析を行うにあたっては，相関行列を計算しておく必要があります．\\\n",
    "pandasのデータフレームの形式であれば，corr()を使うと簡単に算出できます．\\\n",
    "特に引数を指定しない場合はピアソンの相関係数が使われますが，\\\n",
    "井上先生がおすすめしていたスピアマンの相関係数を使いたい場合は，corr(method=\"spearman\")としましょう．"
   ]
  },
  {
   "cell_type": "code",
   "execution_count": 9,
   "metadata": {},
   "outputs": [],
   "source": [
    "cor_m = df_x.corr()"
   ]
  },
  {
   "cell_type": "code",
   "execution_count": 11,
   "metadata": {},
   "outputs": [
    {
     "data": {
      "text/plain": [
       "(array([3.21634418, 1.63871322, 1.36515935, 0.69891845, 0.23772565,\n",
       "        0.28600236, 0.58434753, 0.47310206, 0.4996872 ]),\n",
       " array([[ 0.36706578,  0.09836417, -0.31741655,  0.44346781,  0.12541265,\n",
       "         -0.06816112,  0.28063873,  0.41949031, -0.53203924],\n",
       "        [ 0.21728651,  0.06774635, -0.53175502, -0.78635458,  0.01134744,\n",
       "          0.01092283, -0.04062703,  0.21043142, -0.0300012 ],\n",
       "        [ 0.26599538,  0.25741149, -0.46438922,  0.34550245,  0.08409719,\n",
       "          0.10614718, -0.58897522, -0.33077008,  0.23090317],\n",
       "        [ 0.42701268, -0.3487677 ,  0.14497289,  0.03542534, -0.59105744,\n",
       "          0.53456676, -0.11833347,  0.15493873,  0.02509644],\n",
       "        [ 0.41125081, -0.37782422,  0.18564799, -0.08547348,  0.72905982,\n",
       "          0.25567059,  0.10686568, -0.17218208,  0.0915867 ],\n",
       "        [ 0.43055396, -0.33496868,  0.0972171 , -0.03277768, -0.19881622,\n",
       "         -0.77794856, -0.11385305, -0.18490224, -0.00324402],\n",
       "        [ 0.19448711,  0.39118693,  0.50586387, -0.08844776,  0.17475189,\n",
       "         -0.09898563, -0.46087984,  0.53705595,  0.0651966 ],\n",
       "        [ 0.25328588,  0.4795746 ,  0.28232502, -0.21019189, -0.11291486,\n",
       "          0.12411981,  0.09211743, -0.54203363, -0.50152253],\n",
       "        [ 0.32935239,  0.39982643,  0.01693637,  0.06302504, -0.11566141,\n",
       "         -0.04930124,  0.55983756,  0.01632744,  0.63080423]]))"
      ]
     },
     "execution_count": 11,
     "metadata": {},
     "output_type": "execute_result"
    }
   ],
   "source": [
    "import numpy as np\n",
    "val_vec = np.linalg.eig(cor_m)\n",
    "val_vec"
   ]
  },
  {
   "cell_type": "code",
   "execution_count": 19,
   "metadata": {},
   "outputs": [],
   "source": [
    "eigen_values = val_vec[0] #固有値のリスト\n",
    "sorted_eigen_values = np.sort(eigen_values)[::-1]"
   ]
  },
  {
   "cell_type": "code",
   "execution_count": 20,
   "metadata": {},
   "outputs": [
    {
     "data": {
      "text/plain": [
       "[<matplotlib.lines.Line2D at 0x7fc90255f0a0>]"
      ]
     },
     "execution_count": 20,
     "metadata": {},
     "output_type": "execute_result"
    },
    {
     "data": {
      "image/png": "[encoded data removed]",
      "text/plain": [
       "<Figure size 432x288 with 1 Axes>"
      ]
     },
     "metadata": {
      "needs_background": "light"
     },
     "output_type": "display_data"
    }
   ],
   "source": [
    "import matplotlib.pyplot as plt\n",
    "\n",
    "plt.plot(sorted_eigen_values)"
   ]
  },
  {
   "attachments": {},
   "cell_type": "markdown",
   "metadata": {},
   "source": [
    "カイザー基準で考える場合，1以上の固有値の数を因子数とするので，3となります．\\\n",
    "固有値を大きい順に並び替えて描いたスクリープロットで考える場合，グラフが大きく折れ曲がる直前までの個数を因子数とするので，やはり3となります．"
   ]
  },
  {
   "attachments": {},
   "cell_type": "markdown",
   "metadata": {},
   "source": [
    "### 因子数を3として因子分析を実行"
   ]
  },
  {
   "cell_type": "code",
   "execution_count": 45,
   "metadata": {},
   "outputs": [],
   "source": [
    "# sklearnの標準化モジュールをインポート\n",
    "from sklearn.preprocessing import StandardScaler\n",
    "\n",
    "# データを変換する計算式を生成\n",
    "sc = StandardScaler()\n",
    "sc.fit(df_x)\n",
    "\n",
    "# 実際にデータを変換\n",
    "z = sc.transform(df_x)"
   ]
  },
  {
   "cell_type": "markdown",
   "metadata": {},
   "source": []
  },
  {
   "cell_type": "code",
   "execution_count": 60,
   "metadata": {},
   "outputs": [],
   "source": [
    "from sklearn.decomposition import FactorAnalysis as FA\n",
    "\n",
    "n_components = 3 # 因子数\n",
    "\n",
    "fa = FA(n_components) # モデルを定義\n",
    "fitted = fa.fit_transform(z)"
   ]
  },
  {
   "cell_type": "code",
   "execution_count": 61,
   "metadata": {},
   "outputs": [
    {
     "data": {
      "text/plain": [
       "array([[ 0.48905793,  0.31206221,  0.38894571],\n",
       "       [ 0.24497892,  0.17213962,  0.40257465],\n",
       "       [ 0.27347104,  0.40486991,  0.46524589],\n",
       "       [ 0.83519451, -0.1546602 , -0.03376719],\n",
       "       [ 0.83705238, -0.20884085, -0.09719254],\n",
       "       [ 0.82369382, -0.13052555,  0.01461763],\n",
       "       [ 0.22946333,  0.4846071 , -0.45881603],\n",
       "       [ 0.27007449,  0.62154953, -0.2669453 ],\n",
       "       [ 0.37710141,  0.56130213,  0.02518649]])"
      ]
     },
     "execution_count": 61,
     "metadata": {},
     "output_type": "execute_result"
    }
   ],
   "source": [
    "fa.components_.T"
   ]
  },
  {
   "attachments": {},
   "cell_type": "markdown",
   "metadata": {},
   "source": [
    "### バリマックス回転\n",
    "回転しても，共通性，独自性などが変化するわけではない．"
   ]
  },
  {
   "cell_type": "code",
   "execution_count": 54,
   "metadata": {},
   "outputs": [],
   "source": [
    "fa = FA(n_components, rotation=\"varimax\") # モデルを定義\n",
    "fitted = fa.fit_transform(z)"
   ]
  },
  {
   "cell_type": "code",
   "execution_count": 56,
   "metadata": {},
   "outputs": [
    {
     "data": {
      "text/plain": [
       "array([[ 0.32058088,  0.12992203,  0.60678449],\n",
       "       [ 0.13527093, -0.04116538,  0.4813733 ],\n",
       "       [ 0.08019412,  0.11339432,  0.66020484],\n",
       "       [ 0.83913806,  0.07654972,  0.11223784],\n",
       "       [ 0.86468545,  0.07031466,  0.03305309],\n",
       "       [ 0.81576618,  0.06552075,  0.16110455],\n",
       "       [ 0.10252039,  0.69536513, -0.06298024],\n",
       "       [ 0.07749664,  0.70282739,  0.17479066],\n",
       "       [ 0.16942275,  0.51113577,  0.40980004]])"
      ]
     },
     "execution_count": 56,
     "metadata": {},
     "output_type": "execute_result"
    }
   ],
   "source": [
    "factor_loadings = fa.components_.T # 因子負荷量\n",
    "factor_loadings"
   ]
  },
  {
   "cell_type": "code",
   "execution_count": 59,
   "metadata": {},
   "outputs": [
    {
     "data": {
      "text/plain": [
       "3"
      ]
     },
     "execution_count": 59,
     "metadata": {},
     "output_type": "execute_result"
    }
   ],
   "source": []
  },
  {
   "attachments": {},
   "cell_type": "markdown",
   "metadata": {},
   "source": [
    "## 因子の解釈"
   ]
  },
  {
   "attachments": {},
   "cell_type": "markdown",
   "metadata": {},
   "source": []
  }
 ],
 "metadata": {
  "kernelspec": {
   "display_name": "Python 3",
   "language": "python",
   "name": "python3"
  },
  "language_info": {
   "codemirror_mode": {
    "name": "ipython",
    "version": 3
   },
   "file_extension": ".py",
   "mimetype": "text/x-python",
   "name": "python",
   "nbconvert_exporter": "python",
   "pygments_lexer": "ipython3",
   "version": "3.9.2"
  },
  "orig_nbformat": 4,
  "vscode": {
   "interpreter": {
    "hash": "2d7b087156161fb625e4a6c422e95b511bfa45e0ec345ce3e52f6d7ffde7b07a"
   }
  }
 },
 "nbformat": 4,
 "nbformat_minor": 2
}
