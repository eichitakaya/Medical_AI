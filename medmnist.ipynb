{
  "cells": [
    {
      "cell_type": "code",
      "execution_count": null,
      "metadata": {
        "colab": {
          "base_uri": "https://localhost:8080/"
        },
        "id": "CWxTVm0WoKJf",
        "outputId": "c2c62ec0-d19f-4fb3-8de9-32da266d37ba"
      },
      "outputs": [
        {
          "name": "stdout",
          "output_type": "stream",
          "text": [
            "Mounted at /content/drive\n"
          ]
        }
      ],
      "source": [
        "from google.colab import drive\n",
        "drive.mount('/content/drive')"
      ]
    },
    {
      "cell_type": "code",
      "execution_count": null,
      "metadata": {
        "colab": {
          "base_uri": "https://localhost:8080/"
        },
        "id": "SB3m19eYAHk1",
        "outputId": "cb07d817-c3ca-45a9-87fd-55997b105cd3"
      },
      "outputs": [
        {
          "name": "stdout",
          "output_type": "stream",
          "text": [
            "Looking in indexes: https://pypi.org/simple, https://us-python.pkg.dev/colab-wheels/public/simple/\n",
            "Collecting git+https://github.com/MedMNIST/MedMNIST.git\n",
            "  Cloning https://github.com/MedMNIST/MedMNIST.git to /tmp/pip-req-build-5k8v6q0b\n",
            "  Running command git clone --filter=blob:none --quiet https://github.com/MedMNIST/MedMNIST.git /tmp/pip-req-build-5k8v6q0b\n",
            "  Resolved https://github.com/MedMNIST/MedMNIST.git to commit 9632b95f59b3bb2b2950d4d9bd372eeaa83060aa\n",
            "  Preparing metadata (setup.py) ... \u001b[?25l\u001b[?25hdone\n",
            "Requirement already satisfied: numpy in /usr/local/lib/python3.8/dist-packages (from medmnist==2.1.0) (1.21.6)\n",
            "Requirement already satisfied: pandas in /usr/local/lib/python3.8/dist-packages (from medmnist==2.1.0) (1.3.5)\n",
            "Requirement already satisfied: scikit-learn in /usr/local/lib/python3.8/dist-packages (from medmnist==2.1.0) (1.0.2)\n",
            "Requirement already satisfied: scikit-image in /usr/local/lib/python3.8/dist-packages (from medmnist==2.1.0) (0.18.3)\n",
            "Requirement already satisfied: tqdm in /usr/local/lib/python3.8/dist-packages (from medmnist==2.1.0) (4.64.1)\n",
            "Requirement already satisfied: Pillow in /usr/local/lib/python3.8/dist-packages (from medmnist==2.1.0) (7.1.2)\n",
            "Collecting fire\n",
            "  Downloading fire-0.5.0.tar.gz (88 kB)\n",
            "\u001b[2K     \u001b[90m━━━━━━━━━━━━━━━━━━━━━━━━━━━━━━━━━━━━━━━━\u001b[0m \u001b[32m88.3/88.3 KB\u001b[0m \u001b[31m7.1 MB/s\u001b[0m eta \u001b[36m0:00:00\u001b[0m\n",
            "\u001b[?25h  Preparing metadata (setup.py) ... \u001b[?25l\u001b[?25hdone\n",
            "Requirement already satisfied: torch in /usr/local/lib/python3.8/dist-packages (from medmnist==2.1.0) (1.13.0+cu116)\n",
            "Requirement already satisfied: torchvision in /usr/local/lib/python3.8/dist-packages (from medmnist==2.1.0) (0.14.0+cu116)\n",
            "Requirement already satisfied: six in /usr/local/lib/python3.8/dist-packages (from fire->medmnist==2.1.0) (1.15.0)\n",
            "Requirement already satisfied: termcolor in /usr/local/lib/python3.8/dist-packages (from fire->medmnist==2.1.0) (2.2.0)\n",
            "Requirement already satisfied: pytz>=2017.3 in /usr/local/lib/python3.8/dist-packages (from pandas->medmnist==2.1.0) (2022.7)\n",
            "Requirement already satisfied: python-dateutil>=2.7.3 in /usr/local/lib/python3.8/dist-packages (from pandas->medmnist==2.1.0) (2.8.2)\n",
            "Requirement already satisfied: matplotlib!=3.0.0,>=2.0.0 in /usr/local/lib/python3.8/dist-packages (from scikit-image->medmnist==2.1.0) (3.2.2)\n",
            "Requirement already satisfied: scipy>=1.0.1 in /usr/local/lib/python3.8/dist-packages (from scikit-image->medmnist==2.1.0) (1.7.3)\n",
            "Requirement already satisfied: tifffile>=2019.7.26 in /usr/local/lib/python3.8/dist-packages (from scikit-image->medmnist==2.1.0) (2022.10.10)\n",
            "Requirement already satisfied: PyWavelets>=1.1.1 in /usr/local/lib/python3.8/dist-packages (from scikit-image->medmnist==2.1.0) (1.4.1)\n",
            "Requirement already satisfied: networkx>=2.0 in /usr/local/lib/python3.8/dist-packages (from scikit-image->medmnist==2.1.0) (2.8.8)\n",
            "Requirement already satisfied: imageio>=2.3.0 in /usr/local/lib/python3.8/dist-packages (from scikit-image->medmnist==2.1.0) (2.9.0)\n",
            "Requirement already satisfied: threadpoolctl>=2.0.0 in /usr/local/lib/python3.8/dist-packages (from scikit-learn->medmnist==2.1.0) (3.1.0)\n",
            "Requirement already satisfied: joblib>=0.11 in /usr/local/lib/python3.8/dist-packages (from scikit-learn->medmnist==2.1.0) (1.2.0)\n",
            "Requirement already satisfied: typing-extensions in /usr/local/lib/python3.8/dist-packages (from torch->medmnist==2.1.0) (4.4.0)\n",
            "Requirement already satisfied: requests in /usr/local/lib/python3.8/dist-packages (from torchvision->medmnist==2.1.0) (2.25.1)\n",
            "Requirement already satisfied: pyparsing!=2.0.4,!=2.1.2,!=2.1.6,>=2.0.1 in /usr/local/lib/python3.8/dist-packages (from matplotlib!=3.0.0,>=2.0.0->scikit-image->medmnist==2.1.0) (3.0.9)\n",
            "Requirement already satisfied: kiwisolver>=1.0.1 in /usr/local/lib/python3.8/dist-packages (from matplotlib!=3.0.0,>=2.0.0->scikit-image->medmnist==2.1.0) (1.4.4)\n",
            "Requirement already satisfied: cycler>=0.10 in /usr/local/lib/python3.8/dist-packages (from matplotlib!=3.0.0,>=2.0.0->scikit-image->medmnist==2.1.0) (0.11.0)\n",
            "Requirement already satisfied: certifi>=2017.4.17 in /usr/local/lib/python3.8/dist-packages (from requests->torchvision->medmnist==2.1.0) (2022.12.7)\n",
            "Requirement already satisfied: urllib3<1.27,>=1.21.1 in /usr/local/lib/python3.8/dist-packages (from requests->torchvision->medmnist==2.1.0) (1.24.3)\n",
            "Requirement already satisfied: chardet<5,>=3.0.2 in /usr/local/lib/python3.8/dist-packages (from requests->torchvision->medmnist==2.1.0) (4.0.0)\n",
            "Requirement already satisfied: idna<3,>=2.5 in /usr/local/lib/python3.8/dist-packages (from requests->torchvision->medmnist==2.1.0) (2.10)\n",
            "Building wheels for collected packages: medmnist, fire\n",
            "  Building wheel for medmnist (setup.py) ... \u001b[?25l\u001b[?25hdone\n",
            "  Created wheel for medmnist: filename=medmnist-2.1.0-py3-none-any.whl size=21641 sha256=6a249c4cef1e21acc4a8b64532a42b15fb763fd29f90c640d0c2b4d55f24bbbd\n",
            "  Stored in directory: /tmp/pip-ephem-wheel-cache-114m4dgw/wheels/97/75/cd/860a928b0738c787736602e16fdca953dcfc47087767e76f72\n",
            "  Building wheel for fire (setup.py) ... \u001b[?25l\u001b[?25hdone\n",
            "  Created wheel for fire: filename=fire-0.5.0-py2.py3-none-any.whl size=116949 sha256=b9a409db37df39c58ae8fbaddf2fc82c8f166285f637dec65c34ee62a40242d3\n",
            "  Stored in directory: /root/.cache/pip/wheels/5b/eb/43/7295e71293b218ddfd627f935229bf54af9018add7fbb5aac6\n",
            "Successfully built medmnist fire\n",
            "Installing collected packages: fire, medmnist\n",
            "Successfully installed fire-0.5.0 medmnist-2.1.0\n",
            "Looking in indexes: https://pypi.org/simple, https://us-python.pkg.dev/colab-wheels/public/simple/\n",
            "Collecting git+https://github.com/rwightman/pytorch-image-models.git@9d6aad44f8fd32e89e5cca503efe3ada5071cc2a\n",
            "  Cloning https://github.com/rwightman/pytorch-image-models.git (to revision 9d6aad44f8fd32e89e5cca503efe3ada5071cc2a) to /tmp/pip-req-build-y97qjks9\n",
            "  Running command git clone --filter=blob:none --quiet https://github.com/rwightman/pytorch-image-models.git /tmp/pip-req-build-y97qjks9\n",
            "  Running command git rev-parse -q --verify 'sha^9d6aad44f8fd32e89e5cca503efe3ada5071cc2a'\n",
            "  Running command git fetch -q https://github.com/rwightman/pytorch-image-models.git 9d6aad44f8fd32e89e5cca503efe3ada5071cc2a\n",
            "  Running command git checkout -q 9d6aad44f8fd32e89e5cca503efe3ada5071cc2a\n",
            "  Resolved https://github.com/rwightman/pytorch-image-models.git to commit 9d6aad44f8fd32e89e5cca503efe3ada5071cc2a\n",
            "  Preparing metadata (setup.py) ... \u001b[?25l\u001b[?25hdone\n",
            "Requirement already satisfied: torch>=1.4 in /usr/local/lib/python3.8/dist-packages (from timm==0.5.0) (1.13.0+cu116)\n",
            "Requirement already satisfied: torchvision in /usr/local/lib/python3.8/dist-packages (from timm==0.5.0) (0.14.0+cu116)\n",
            "Requirement already satisfied: typing-extensions in /usr/local/lib/python3.8/dist-packages (from torch>=1.4->timm==0.5.0) (4.4.0)\n",
            "Requirement already satisfied: pillow!=8.3.*,>=5.3.0 in /usr/local/lib/python3.8/dist-packages (from torchvision->timm==0.5.0) (7.1.2)\n",
            "Requirement already satisfied: numpy in /usr/local/lib/python3.8/dist-packages (from torchvision->timm==0.5.0) (1.21.6)\n",
            "Requirement already satisfied: requests in /usr/local/lib/python3.8/dist-packages (from torchvision->timm==0.5.0) (2.25.1)\n",
            "Requirement already satisfied: certifi>=2017.4.17 in /usr/local/lib/python3.8/dist-packages (from requests->torchvision->timm==0.5.0) (2022.12.7)\n",
            "Requirement already satisfied: chardet<5,>=3.0.2 in /usr/local/lib/python3.8/dist-packages (from requests->torchvision->timm==0.5.0) (4.0.0)\n",
            "Requirement already satisfied: urllib3<1.27,>=1.21.1 in /usr/local/lib/python3.8/dist-packages (from requests->torchvision->timm==0.5.0) (1.24.3)\n",
            "Requirement already satisfied: idna<3,>=2.5 in /usr/local/lib/python3.8/dist-packages (from requests->torchvision->timm==0.5.0) (2.10)\n",
            "Building wheels for collected packages: timm\n",
            "  Building wheel for timm (setup.py) ... \u001b[?25l\u001b[?25hdone\n",
            "  Created wheel for timm: filename=timm-0.5.0-py3-none-any.whl size=423357 sha256=6ddcc35e64104870a2f035c06e1de2ce72e41ab4c8a6321555c71dfc3d5009f8\n",
            "  Stored in directory: /root/.cache/pip/wheels/de/a2/f5/e8471f1549370c7e0fbb38c8446320a5b3cba8441825a31c5d\n",
            "Successfully built timm\n",
            "Installing collected packages: timm\n",
            "Successfully installed timm-0.5.0\n"
          ]
        }
      ],
      "source": [
        "!pip install --upgrade git+https://github.com/MedMNIST/MedMNIST.git\n",
        "!pip install git+https://github.com/rwightman/pytorch-image-models.git@9d6aad44f8fd32e89e5cca503efe3ada5071cc2a"
      ]
    },
    {
      "cell_type": "markdown",
      "metadata": {
        "id": "UWc0Cej8Yst4"
      },
      "source": [
        "!python medmnist_test.py [dataset] [size] [interpolation method] [model] [num_epochs] [batch_size]\n",
        "\n",
        "dataset: {chestmnist, pneumonialmnist, retinamnist, breastmnist} から選択\n",
        "\n",
        "size: 224 (default)\n",
        "\n",
        "interpolation method: {NEAREST, BILINEAR, HAMMING, BICUBIC, LANCZOS} から選択\n",
        "\n",
        "model: {net3, net5, resnet18, resnet50, poolformer} から選択\n",
        "\n",
        "num_epochs: 5 (default)\n",
        "\n",
        "batch_size: 128 (default)"
      ]
    },
    {
      "cell_type": "markdown",
      "metadata": {
        "id": "0hcq6TVgFZpY"
      },
      "source": [
        "# chestmnist"
      ]
    },
    {
      "cell_type": "markdown",
      "metadata": {
        "id": "Sh4OaGZrE_TS"
      },
      "source": [
        "## chestmnist_net3"
      ]
    },
    {
      "cell_type": "code",
      "execution_count": null,
      "metadata": {
        "colab": {
          "base_uri": "https://localhost:8080/"
        },
        "id": "N7LNIk4-C7fS",
        "outputId": "e1097686-4063-4657-b1fe-148c6dcc8e4a"
      },
      "outputs": [
        {
          "name": "stdout",
          "output_type": "stream",
          "text": [
            "If for semantic segmentation, please install mmsegmentation first\n",
            "If for detection, please install mmdetection first\n",
            "Downloading https://zenodo.org/record/6496656/files/chestmnist.npz?download=1 to /root/.medmnist/chestmnist.npz\n",
            "100% 82802576/82802576 [00:04<00:00, 20624836.99it/s]\n",
            "tcmalloc: large alloc 3937214464 bytes == 0xbaf0000 @  0x7f22357981e7 0x7f223302214e 0x7f223307a745 0x7f223307a9bf 0x7f223311d773 0x5aae14 0x49abe4 0x5d8868 0x4990ca 0x5d8868 0x4990ca 0x55cd91 0x55d743 0x642630 0x6426ae 0x644b78 0x64511c 0x677e5e 0x678029 0x7f2235395c87 0x5e1baa\n",
            "tcmalloc: large alloc 3937214464 bytes == 0xf66d0000 @  0x7f223577ab6b 0x7f223579a379 0x7f21b3e93935 0x7f21b3e71093 0x7f21e0f454ca 0x7f21e0f3d603 0x7f21e0f3d65a 0x7f21e0f3d6bf 0x7f21e15e0469 0x7f21e202f7b0 0x7f21e202f810 0x7f21e1cefb33 0x7f21e200231e 0x7f21e1d32deb 0x7f21e1269ec7 0x7f21e15d113b 0x7f21e21bcb3b 0x7f21e1a0a425 0x7f21e2002093 0x7f21e1a0a425 0x7f21e33c2a0b 0x7f21e33c2e7e 0x7f21e1a8a989 0x7f21e15c9517 0x7f21e237af79 0x7f21e1bf1e8a 0x7f2209fb345b 0x7f2209fb8606 0x7f2209be925f 0x5d80be 0x5d8d8c\n",
            "Using downloaded and verified file: /root/.medmnist/chestmnist.npz\n",
            "100% 614/614 [02:04<00:00,  4.94it/s]\n",
            "100% 614/614 [01:59<00:00,  5.14it/s]\n",
            "100% 614/614 [01:59<00:00,  5.14it/s]\n",
            "100% 614/614 [01:59<00:00,  5.12it/s]\n",
            "100% 614/614 [01:59<00:00,  5.12it/s]\n",
            "100% 614/614 [01:59<00:00,  5.12it/s]\n",
            "100% 614/614 [02:00<00:00,  5.11it/s]\n",
            "100% 614/614 [01:59<00:00,  5.12it/s]\n",
            "100% 614/614 [02:00<00:00,  5.12it/s]\n",
            "100% 614/614 [02:00<00:00,  5.11it/s]\n",
            "100% 614/614 [01:59<00:00,  5.12it/s]\n",
            "100% 614/614 [01:59<00:00,  5.12it/s]\n",
            "100% 614/614 [02:00<00:00,  5.11it/s]\n",
            "100% 614/614 [02:00<00:00,  5.11it/s]\n",
            "100% 614/614 [02:00<00:00,  5.11it/s]\n",
            "100% 614/614 [01:59<00:00,  5.12it/s]\n",
            "100% 614/614 [02:00<00:00,  5.12it/s]\n",
            "100% 614/614 [01:59<00:00,  5.12it/s]\n",
            "100% 614/614 [01:59<00:00,  5.12it/s]\n",
            "100% 614/614 [01:59<00:00,  5.12it/s]\n",
            "100% 614/614 [02:00<00:00,  5.12it/s]\n",
            "100% 614/614 [01:59<00:00,  5.12it/s]\n",
            "100% 614/614 [01:59<00:00,  5.12it/s]\n",
            "100% 614/614 [01:59<00:00,  5.13it/s]\n",
            "100% 614/614 [01:59<00:00,  5.12it/s]\n",
            "100% 614/614 [01:59<00:00,  5.12it/s]\n",
            "100% 614/614 [01:59<00:00,  5.13it/s]\n",
            "100% 614/614 [01:59<00:00,  5.12it/s]\n",
            "100% 614/614 [01:59<00:00,  5.12it/s]\n",
            "100% 614/614 [01:59<00:00,  5.12it/s]\n",
            "100% 614/614 [01:59<00:00,  5.12it/s]\n",
            "100% 614/614 [01:59<00:00,  5.12it/s]\n",
            "100% 614/614 [02:00<00:00,  5.11it/s]\n",
            "100% 614/614 [02:00<00:00,  5.11it/s]\n",
            "100% 614/614 [02:00<00:00,  5.11it/s]\n",
            "100% 614/614 [01:59<00:00,  5.12it/s]\n",
            "100% 614/614 [01:59<00:00,  5.12it/s]\n",
            "100% 614/614 [01:59<00:00,  5.12it/s]\n",
            "100% 614/614 [01:59<00:00,  5.12it/s]\n",
            "100% 614/614 [01:59<00:00,  5.12it/s]\n",
            "100% 614/614 [01:59<00:00,  5.12it/s]\n",
            "100% 614/614 [01:59<00:00,  5.12it/s]\n",
            "100% 614/614 [01:59<00:00,  5.12it/s]\n",
            "100% 614/614 [02:00<00:00,  5.12it/s]\n",
            "100% 614/614 [01:59<00:00,  5.12it/s]\n",
            "100% 614/614 [01:59<00:00,  5.12it/s]\n",
            "100% 614/614 [01:59<00:00,  5.12it/s]\n",
            "100% 614/614 [01:59<00:00,  5.12it/s]\n",
            "100% 614/614 [01:59<00:00,  5.12it/s]\n",
            "100% 614/614 [01:59<00:00,  5.12it/s]\n",
            "100% 614/614 [01:59<00:00,  5.12it/s]\n",
            "100% 614/614 [02:00<00:00,  5.12it/s]\n",
            "100% 614/614 [01:59<00:00,  5.12it/s]\n",
            "100% 614/614 [01:59<00:00,  5.12it/s]\n",
            "100% 614/614 [01:59<00:00,  5.12it/s]\n",
            "100% 614/614 [02:00<00:00,  5.11it/s]\n",
            "100% 614/614 [02:00<00:00,  5.11it/s]\n",
            "100% 614/614 [02:00<00:00,  5.11it/s]\n",
            "100% 614/614 [01:59<00:00,  5.12it/s]\n",
            "100% 614/614 [01:59<00:00,  5.12it/s]\n",
            "100% 614/614 [01:59<00:00,  5.12it/s]\n",
            "100% 614/614 [01:59<00:00,  5.12it/s]\n",
            "100% 614/614 [01:59<00:00,  5.12it/s]\n",
            "100% 614/614 [02:00<00:00,  5.12it/s]\n",
            "100% 614/614 [01:59<00:00,  5.12it/s]\n",
            "100% 614/614 [02:00<00:00,  5.11it/s]\n",
            "100% 614/614 [02:00<00:00,  5.11it/s]\n",
            "100% 614/614 [02:00<00:00,  5.12it/s]\n",
            "100% 614/614 [01:59<00:00,  5.12it/s]\n",
            "100% 614/614 [01:59<00:00,  5.12it/s]\n",
            "100% 614/614 [01:59<00:00,  5.12it/s]\n",
            "100% 614/614 [01:59<00:00,  5.12it/s]\n",
            "100% 614/614 [01:59<00:00,  5.12it/s]\n",
            "100% 614/614 [01:59<00:00,  5.12it/s]\n",
            "100% 614/614 [02:00<00:00,  5.11it/s]\n",
            "100% 614/614 [02:00<00:00,  5.11it/s]\n",
            "100% 614/614 [02:00<00:00,  5.12it/s]\n",
            "100% 614/614 [01:59<00:00,  5.12it/s]\n",
            "100% 614/614 [01:59<00:00,  5.12it/s]\n",
            "100% 614/614 [01:59<00:00,  5.12it/s]\n",
            "100% 614/614 [01:59<00:00,  5.12it/s]\n",
            "100% 614/614 [02:00<00:00,  5.12it/s]\n",
            "100% 614/614 [02:00<00:00,  5.11it/s]\n",
            "100% 614/614 [02:00<00:00,  5.11it/s]\n",
            "100% 614/614 [02:00<00:00,  5.11it/s]\n",
            "100% 614/614 [02:00<00:00,  5.12it/s]\n",
            "100% 614/614 [02:00<00:00,  5.11it/s]\n",
            "100% 614/614 [02:00<00:00,  5.11it/s]\n",
            "100% 614/614 [02:00<00:00,  5.11it/s]\n",
            "100% 614/614 [02:00<00:00,  5.11it/s]\n",
            "100% 614/614 [02:00<00:00,  5.11it/s]\n",
            "100% 614/614 [02:00<00:00,  5.11it/s]\n",
            "100% 614/614 [02:00<00:00,  5.11it/s]\n",
            "100% 614/614 [02:00<00:00,  5.11it/s]\n",
            "100% 614/614 [02:00<00:00,  5.12it/s]\n",
            "100% 614/614 [02:00<00:00,  5.11it/s]\n",
            "100% 614/614 [02:00<00:00,  5.11it/s]\n",
            "100% 614/614 [02:00<00:00,  5.11it/s]\n",
            "100% 614/614 [02:00<00:00,  5.11it/s]\n",
            "100% 614/614 [02:00<00:00,  5.11it/s]\n",
            "test  auc:0.678  acc:0.935\n"
          ]
        }
      ],
      "source": [
        "!python /content/drive/MyDrive/medmnist/medmnist_test.py chestmnist 224 NEAREST net3 100 128"
      ]
    },
    {
      "cell_type": "code",
      "execution_count": null,
      "metadata": {
        "colab": {
          "base_uri": "https://localhost:8080/"
        },
        "id": "ohahfL9GDQDZ",
        "outputId": "ae9db25e-a8da-427e-ad3f-11b67cc3d36d"
      },
      "outputs": [
        {
          "name": "stdout",
          "output_type": "stream",
          "text": [
            "If for semantic segmentation, please install mmsegmentation first\n",
            "If for detection, please install mmdetection first\n",
            "Downloading https://zenodo.org/record/6496656/files/chestmnist.npz?download=1 to /root/.medmnist/chestmnist.npz\n",
            "100% 82802576/82802576 [04:10<00:00, 330966.97it/s]\n",
            "tcmalloc: large alloc 3937214464 bytes == 0xc3fc000 @  0x7fe0637c81e7 0x7fe06105214e 0x7fe0610aa745 0x7fe0610aa9bf 0x7fe06114d773 0x5aae14 0x49abe4 0x5d8868 0x4990ca 0x5d8868 0x4990ca 0x55cd91 0x55d743 0x642630 0x6426ae 0x644b78 0x64511c 0x677e5e 0x678029 0x7fe0633c5c87 0x5e1baa\n",
            "tcmalloc: large alloc 3937214464 bytes == 0xf6fdc000 @  0x7fe0637aab6b 0x7fe0637ca379 0x7fdfe1ec3935 0x7fdfe1ea1093 0x7fe00ef754ca 0x7fe00ef6d603 0x7fe00ef6d65a 0x7fe00ef6d6bf 0x7fe00f610469 0x7fe01005f7b0 0x7fe01005f810 0x7fe00fd1fb33 0x7fe01003231e 0x7fe00fd62deb 0x7fe00f299ec7 0x7fe00f60113b 0x7fe0101ecb3b 0x7fe00fa3a425 0x7fe010032093 0x7fe00fa3a425 0x7fe0113f2a0b 0x7fe0113f2e7e 0x7fe00faba989 0x7fe00f5f9517 0x7fe0103aaf79 0x7fe00fc21e8a 0x7fe037fe345b 0x7fe037fe8606 0x7fe037c1925f 0x5d80be 0x5d8d8c\n",
            "Using downloaded and verified file: /root/.medmnist/chestmnist.npz\n",
            "100% 614/614 [02:08<00:00,  4.78it/s]\n",
            "100% 614/614 [02:04<00:00,  4.92it/s]\n",
            "100% 614/614 [02:05<00:00,  4.89it/s]\n",
            "100% 614/614 [02:05<00:00,  4.89it/s]\n",
            "100% 614/614 [02:05<00:00,  4.88it/s]\n",
            "100% 614/614 [02:05<00:00,  4.91it/s]\n",
            "100% 614/614 [02:05<00:00,  4.89it/s]\n",
            "100% 614/614 [02:05<00:00,  4.90it/s]\n",
            "100% 614/614 [02:05<00:00,  4.89it/s]\n",
            "100% 614/614 [02:05<00:00,  4.88it/s]\n",
            "100% 614/614 [02:05<00:00,  4.88it/s]\n",
            "100% 614/614 [02:05<00:00,  4.88it/s]\n",
            "100% 614/614 [02:05<00:00,  4.88it/s]\n",
            "100% 614/614 [02:05<00:00,  4.88it/s]\n",
            "100% 614/614 [02:05<00:00,  4.88it/s]\n",
            "100% 614/614 [02:05<00:00,  4.88it/s]\n",
            "100% 614/614 [02:05<00:00,  4.88it/s]\n",
            "100% 614/614 [02:05<00:00,  4.88it/s]\n",
            "100% 614/614 [02:05<00:00,  4.88it/s]\n",
            "100% 614/614 [02:05<00:00,  4.88it/s]\n",
            "100% 614/614 [02:05<00:00,  4.88it/s]\n",
            "100% 614/614 [02:05<00:00,  4.87it/s]\n",
            "100% 614/614 [02:05<00:00,  4.88it/s]\n",
            "100% 614/614 [02:05<00:00,  4.89it/s]\n",
            "100% 614/614 [02:05<00:00,  4.88it/s]\n",
            "100% 614/614 [02:06<00:00,  4.87it/s]\n",
            "100% 614/614 [02:05<00:00,  4.89it/s]\n",
            "100% 614/614 [02:05<00:00,  4.89it/s]\n",
            "100% 614/614 [02:06<00:00,  4.87it/s]\n",
            "100% 614/614 [02:06<00:00,  4.87it/s]\n",
            "100% 614/614 [02:05<00:00,  4.88it/s]\n",
            "100% 614/614 [02:05<00:00,  4.88it/s]\n",
            "100% 614/614 [02:05<00:00,  4.88it/s]\n",
            "100% 614/614 [02:05<00:00,  4.90it/s]\n",
            "100% 614/614 [02:05<00:00,  4.91it/s]\n",
            "100% 614/614 [02:05<00:00,  4.91it/s]\n",
            "100% 614/614 [02:05<00:00,  4.89it/s]\n",
            "100% 614/614 [02:05<00:00,  4.89it/s]\n",
            "100% 614/614 [02:05<00:00,  4.88it/s]\n",
            "100% 614/614 [02:05<00:00,  4.89it/s]\n",
            "100% 614/614 [02:05<00:00,  4.89it/s]\n",
            "100% 614/614 [02:05<00:00,  4.89it/s]\n",
            "100% 614/614 [02:05<00:00,  4.88it/s]\n",
            "100% 614/614 [02:05<00:00,  4.88it/s]\n",
            "100% 614/614 [02:05<00:00,  4.88it/s]\n",
            "100% 614/614 [02:05<00:00,  4.89it/s]\n",
            "100% 614/614 [02:05<00:00,  4.88it/s]\n",
            "100% 614/614 [02:05<00:00,  4.88it/s]\n",
            "100% 614/614 [02:05<00:00,  4.88it/s]\n",
            "100% 614/614 [02:05<00:00,  4.88it/s]\n",
            "100% 614/614 [02:06<00:00,  4.87it/s]\n",
            "100% 614/614 [02:05<00:00,  4.89it/s]\n",
            "100% 614/614 [02:05<00:00,  4.90it/s]\n",
            "100% 614/614 [02:05<00:00,  4.91it/s]\n",
            "100% 614/614 [02:05<00:00,  4.88it/s]\n",
            "100% 614/614 [02:05<00:00,  4.87it/s]\n",
            "100% 614/614 [02:05<00:00,  4.88it/s]\n",
            "100% 614/614 [02:05<00:00,  4.88it/s]\n",
            "100% 614/614 [02:06<00:00,  4.87it/s]\n",
            "100% 614/614 [02:05<00:00,  4.88it/s]\n",
            "100% 614/614 [02:05<00:00,  4.88it/s]\n",
            "100% 614/614 [02:05<00:00,  4.88it/s]\n",
            "100% 614/614 [02:05<00:00,  4.88it/s]\n",
            "100% 614/614 [02:06<00:00,  4.87it/s]\n",
            "100% 614/614 [02:05<00:00,  4.88it/s]\n",
            "100% 614/614 [02:05<00:00,  4.88it/s]\n",
            "100% 614/614 [02:06<00:00,  4.87it/s]\n",
            "100% 614/614 [02:05<00:00,  4.88it/s]\n",
            "100% 614/614 [02:05<00:00,  4.88it/s]\n",
            "100% 614/614 [02:05<00:00,  4.88it/s]\n",
            "100% 614/614 [02:05<00:00,  4.88it/s]\n",
            "100% 614/614 [02:06<00:00,  4.87it/s]\n",
            "100% 614/614 [02:05<00:00,  4.88it/s]\n",
            "100% 614/614 [02:06<00:00,  4.87it/s]\n",
            "100% 614/614 [02:05<00:00,  4.88it/s]\n",
            "100% 614/614 [02:05<00:00,  4.89it/s]\n",
            "100% 614/614 [02:05<00:00,  4.88it/s]\n",
            "100% 614/614 [02:05<00:00,  4.88it/s]\n",
            "100% 614/614 [02:05<00:00,  4.88it/s]\n",
            "100% 614/614 [02:06<00:00,  4.87it/s]\n",
            "100% 614/614 [02:05<00:00,  4.88it/s]\n",
            "100% 614/614 [02:05<00:00,  4.88it/s]\n",
            "100% 614/614 [02:06<00:00,  4.87it/s]\n",
            "100% 614/614 [02:05<00:00,  4.88it/s]\n",
            "100% 614/614 [02:05<00:00,  4.89it/s]\n",
            "100% 614/614 [02:05<00:00,  4.88it/s]\n",
            "100% 614/614 [02:06<00:00,  4.87it/s]\n",
            "100% 614/614 [02:05<00:00,  4.88it/s]\n",
            "100% 614/614 [02:05<00:00,  4.89it/s]\n",
            "100% 614/614 [02:05<00:00,  4.87it/s]\n",
            "100% 614/614 [02:06<00:00,  4.87it/s]\n",
            "100% 614/614 [02:05<00:00,  4.88it/s]\n",
            "100% 614/614 [02:05<00:00,  4.89it/s]\n",
            "100% 614/614 [02:05<00:00,  4.88it/s]\n",
            "100% 614/614 [02:06<00:00,  4.87it/s]\n",
            "100% 614/614 [02:05<00:00,  4.88it/s]\n",
            "100% 614/614 [02:05<00:00,  4.87it/s]\n",
            "100% 614/614 [02:05<00:00,  4.88it/s]\n",
            "100% 614/614 [02:05<00:00,  4.89it/s]\n",
            "100% 614/614 [02:05<00:00,  4.88it/s]\n",
            "test  auc:0.671  acc:0.938\n"
          ]
        }
      ],
      "source": [
        "!python /content/drive/MyDrive/medmnist/medmnist_test.py chestmnist 224 BILINEAR net3 100 128"
      ]
    },
    {
      "cell_type": "code",
      "execution_count": null,
      "metadata": {
        "colab": {
          "base_uri": "https://localhost:8080/"
        },
        "id": "F3FgVvbqDW_Z",
        "outputId": "7151f035-e446-4b6e-dac0-fced199f1d79"
      },
      "outputs": [
        {
          "name": "stdout",
          "output_type": "stream",
          "text": [
            "If for semantic segmentation, please install mmsegmentation first\n",
            "If for detection, please install mmdetection first\n",
            "Using downloaded and verified file: /root/.medmnist/chestmnist.npz\n",
            "tcmalloc: large alloc 3937214464 bytes == 0xbe36000 @  0x7f685e27f1e7 0x7f685bb0914e 0x7f685bb61745 0x7f685bb619bf 0x7f685bc04773 0x5aae14 0x49abe4 0x5d8868 0x4990ca 0x5d8868 0x4990ca 0x55cd91 0x55d743 0x642630 0x6426ae 0x644b78 0x64511c 0x677e5e 0x678029 0x7f685de7cc87 0x5e1baa\n",
            "tcmalloc: large alloc 3937214464 bytes == 0xf6a16000 @  0x7f685e261b6b 0x7f685e281379 0x7f67dc97a935 0x7f67dc958093 0x7f6809a2c4ca 0x7f6809a24603 0x7f6809a2465a 0x7f6809a246bf 0x7f680a0c7469 0x7f680ab167b0 0x7f680ab16810 0x7f680a7d6b33 0x7f680aae931e 0x7f680a819deb 0x7f6809d50ec7 0x7f680a0b813b 0x7f680aca3b3b 0x7f680a4f1425 0x7f680aae9093 0x7f680a4f1425 0x7f680bea9a0b 0x7f680bea9e7e 0x7f680a571989 0x7f680a0b0517 0x7f680ae61f79 0x7f680a6d8e8a 0x7f6832a9a45b 0x7f6832a9f606 0x7f68326d025f 0x5d80be 0x5d8d8c\n",
            "Using downloaded and verified file: /root/.medmnist/chestmnist.npz\n",
            "100% 614/614 [02:06<00:00,  4.86it/s]\n",
            "100% 614/614 [02:05<00:00,  4.91it/s]\n",
            "100% 614/614 [02:05<00:00,  4.91it/s]\n",
            "100% 614/614 [02:05<00:00,  4.90it/s]\n",
            "100% 614/614 [02:05<00:00,  4.91it/s]\n",
            "100% 614/614 [02:05<00:00,  4.91it/s]\n",
            "100% 614/614 [02:05<00:00,  4.90it/s]\n",
            "100% 614/614 [02:05<00:00,  4.89it/s]\n",
            "100% 614/614 [02:05<00:00,  4.89it/s]\n",
            "100% 614/614 [02:05<00:00,  4.90it/s]\n",
            "100% 614/614 [02:05<00:00,  4.88it/s]\n",
            "100% 614/614 [02:05<00:00,  4.88it/s]\n",
            "100% 614/614 [02:05<00:00,  4.88it/s]\n",
            "100% 614/614 [02:05<00:00,  4.87it/s]\n",
            "100% 614/614 [02:05<00:00,  4.89it/s]\n",
            "100% 614/614 [02:05<00:00,  4.89it/s]\n",
            "100% 614/614 [02:05<00:00,  4.88it/s]\n",
            "100% 614/614 [02:05<00:00,  4.88it/s]\n",
            "100% 614/614 [02:05<00:00,  4.88it/s]\n",
            "100% 614/614 [02:05<00:00,  4.88it/s]\n",
            "100% 614/614 [02:05<00:00,  4.87it/s]\n",
            "100% 614/614 [02:05<00:00,  4.88it/s]\n",
            "100% 614/614 [02:05<00:00,  4.88it/s]\n",
            "100% 614/614 [02:06<00:00,  4.87it/s]\n",
            "100% 614/614 [02:05<00:00,  4.87it/s]\n",
            "100% 614/614 [02:06<00:00,  4.87it/s]\n",
            "100% 614/614 [02:06<00:00,  4.87it/s]\n",
            "100% 614/614 [02:05<00:00,  4.88it/s]\n",
            "100% 614/614 [02:05<00:00,  4.89it/s]\n",
            "100% 614/614 [02:06<00:00,  4.87it/s]\n",
            "100% 614/614 [02:05<00:00,  4.88it/s]\n",
            "100% 614/614 [02:05<00:00,  4.89it/s]\n",
            "100% 614/614 [02:06<00:00,  4.87it/s]\n",
            "100% 614/614 [02:05<00:00,  4.89it/s]\n",
            "100% 614/614 [02:05<00:00,  4.89it/s]\n",
            "100% 614/614 [02:05<00:00,  4.89it/s]\n",
            "100% 614/614 [02:05<00:00,  4.87it/s]\n",
            "100% 614/614 [02:06<00:00,  4.87it/s]\n",
            "100% 614/614 [02:05<00:00,  4.90it/s]\n",
            "100% 614/614 [02:06<00:00,  4.87it/s]\n",
            "100% 614/614 [02:05<00:00,  4.89it/s]\n",
            "100% 614/614 [02:05<00:00,  4.88it/s]\n",
            "100% 614/614 [02:05<00:00,  4.90it/s]\n",
            "100% 614/614 [02:05<00:00,  4.88it/s]\n",
            "100% 614/614 [02:06<00:00,  4.87it/s]\n",
            "100% 614/614 [02:06<00:00,  4.87it/s]\n",
            "100% 614/614 [02:05<00:00,  4.88it/s]\n",
            "100% 614/614 [02:06<00:00,  4.87it/s]\n",
            "100% 614/614 [02:06<00:00,  4.87it/s]\n",
            "100% 614/614 [02:06<00:00,  4.87it/s]\n",
            "100% 614/614 [02:06<00:00,  4.87it/s]\n",
            "100% 614/614 [02:06<00:00,  4.87it/s]\n",
            "100% 614/614 [02:05<00:00,  4.87it/s]\n",
            "100% 614/614 [02:05<00:00,  4.88it/s]\n",
            "100% 614/614 [02:05<00:00,  4.88it/s]\n",
            "100% 614/614 [02:05<00:00,  4.88it/s]\n",
            "100% 614/614 [02:05<00:00,  4.88it/s]\n",
            "100% 614/614 [02:05<00:00,  4.88it/s]\n",
            "100% 614/614 [02:05<00:00,  4.88it/s]\n",
            "100% 614/614 [02:05<00:00,  4.88it/s]\n",
            "100% 614/614 [02:05<00:00,  4.88it/s]\n",
            "100% 614/614 [02:05<00:00,  4.88it/s]\n",
            "100% 614/614 [02:05<00:00,  4.89it/s]\n",
            "100% 614/614 [02:05<00:00,  4.88it/s]\n",
            "100% 614/614 [02:05<00:00,  4.89it/s]\n",
            "100% 614/614 [02:05<00:00,  4.89it/s]\n",
            "100% 614/614 [02:05<00:00,  4.89it/s]\n",
            "100% 614/614 [02:05<00:00,  4.88it/s]\n",
            "100% 614/614 [02:05<00:00,  4.88it/s]\n",
            "100% 614/614 [02:05<00:00,  4.88it/s]\n",
            "100% 614/614 [02:05<00:00,  4.87it/s]\n",
            "100% 614/614 [02:05<00:00,  4.88it/s]\n",
            "100% 614/614 [02:05<00:00,  4.88it/s]\n",
            "100% 614/614 [02:05<00:00,  4.88it/s]\n",
            "100% 614/614 [02:05<00:00,  4.89it/s]\n",
            "100% 614/614 [02:05<00:00,  4.88it/s]\n",
            "100% 614/614 [02:05<00:00,  4.89it/s]\n",
            "100% 614/614 [02:05<00:00,  4.89it/s]\n",
            "100% 614/614 [02:05<00:00,  4.88it/s]\n",
            "100% 614/614 [02:05<00:00,  4.89it/s]\n",
            "100% 614/614 [02:05<00:00,  4.89it/s]\n",
            "100% 614/614 [02:05<00:00,  4.89it/s]\n",
            "100% 614/614 [02:05<00:00,  4.89it/s]\n",
            "100% 614/614 [02:05<00:00,  4.88it/s]\n",
            "100% 614/614 [02:05<00:00,  4.89it/s]\n",
            "100% 614/614 [02:05<00:00,  4.88it/s]\n",
            "100% 614/614 [02:05<00:00,  4.88it/s]\n",
            "100% 614/614 [02:05<00:00,  4.88it/s]\n",
            "100% 614/614 [02:05<00:00,  4.88it/s]\n",
            "100% 614/614 [02:05<00:00,  4.88it/s]\n",
            "100% 614/614 [02:05<00:00,  4.88it/s]\n",
            "100% 614/614 [02:05<00:00,  4.88it/s]\n",
            "100% 614/614 [02:05<00:00,  4.88it/s]\n",
            "100% 614/614 [02:05<00:00,  4.88it/s]\n",
            "100% 614/614 [02:05<00:00,  4.89it/s]\n",
            "100% 614/614 [02:05<00:00,  4.89it/s]\n",
            "100% 614/614 [02:05<00:00,  4.89it/s]\n",
            "100% 614/614 [02:05<00:00,  4.89it/s]\n",
            "100% 614/614 [02:05<00:00,  4.89it/s]\n",
            "100% 614/614 [02:05<00:00,  4.89it/s]\n",
            "test  auc:0.664  acc:0.934\n"
          ]
        }
      ],
      "source": [
        "!python /content/drive/MyDrive/medmnist/medmnist_test.py chestmnist 224 HAMMING net3 100 128"
      ]
    },
    {
      "cell_type": "code",
      "execution_count": null,
      "metadata": {
        "colab": {
          "background_save": true,
          "base_uri": "https://localhost:8080/"
        },
        "id": "mwb6gQQZDW6p",
        "outputId": "3ef47911-e60c-4227-8eea-e4386d1c61a9"
      },
      "outputs": [
        {
          "name": "stdout",
          "output_type": "stream",
          "text": [
            "If for semantic segmentation, please install mmsegmentation first\n",
            "If for detection, please install mmdetection first\n",
            "Using downloaded and verified file: /root/.medmnist/chestmnist.npz\n",
            "tcmalloc: large alloc 3937214464 bytes == 0xbb9a000 @  0x7f38ff2481e7 0x7f38fcad214e 0x7f38fcb2a745 0x7f38fcb2a9bf 0x7f38fcbcd773 0x5aae14 0x49abe4 0x5d8868 0x4990ca 0x5d8868 0x4990ca 0x55cd91 0x55d743 0x642630 0x6426ae 0x644b78 0x64511c 0x677e5e 0x678029 0x7f38fee45c87 0x5e1baa\n",
            "tcmalloc: large alloc 3937214464 bytes == 0xf677a000 @  0x7f38ff22ab6b 0x7f38ff24a379 0x7f387d943935 0x7f387d921093 0x7f38aa9f54ca 0x7f38aa9ed603 0x7f38aa9ed65a 0x7f38aa9ed6bf 0x7f38ab090469 0x7f38abadf7b0 0x7f38abadf810 0x7f38ab79fb33 0x7f38abab231e 0x7f38ab7e2deb 0x7f38aad19ec7 0x7f38ab08113b 0x7f38abc6cb3b 0x7f38ab4ba425 0x7f38abab2093 0x7f38ab4ba425 0x7f38ace72a0b 0x7f38ace72e7e 0x7f38ab53a989 0x7f38ab079517 0x7f38abe2af79 0x7f38ab6a1e8a 0x7f38d3a6345b 0x7f38d3a68606 0x7f38d369925f 0x5d80be 0x5d8d8c\n",
            "Using downloaded and verified file: /root/.medmnist/chestmnist.npz\n",
            "100% 614/614 [02:06<00:00,  4.86it/s]\n",
            "100% 614/614 [02:05<00:00,  4.91it/s]\n",
            "100% 614/614 [02:04<00:00,  4.92it/s]\n",
            "100% 614/614 [02:04<00:00,  4.91it/s]\n",
            "100% 614/614 [02:05<00:00,  4.91it/s]\n",
            "100% 614/614 [02:05<00:00,  4.90it/s]\n",
            "100% 614/614 [02:05<00:00,  4.90it/s]\n",
            "100% 614/614 [02:05<00:00,  4.90it/s]\n",
            "100% 614/614 [02:05<00:00,  4.90it/s]\n",
            "100% 614/614 [02:05<00:00,  4.90it/s]\n",
            "100% 614/614 [02:05<00:00,  4.90it/s]\n",
            "100% 614/614 [02:05<00:00,  4.90it/s]\n",
            "100% 614/614 [02:05<00:00,  4.90it/s]\n",
            "100% 614/614 [02:05<00:00,  4.89it/s]\n",
            "100% 614/614 [02:05<00:00,  4.90it/s]\n",
            "100% 614/614 [02:05<00:00,  4.90it/s]\n",
            "100% 614/614 [02:05<00:00,  4.90it/s]\n",
            "100% 614/614 [02:05<00:00,  4.90it/s]\n",
            "100% 614/614 [02:05<00:00,  4.89it/s]\n",
            "100% 614/614 [02:05<00:00,  4.89it/s]\n",
            "100% 614/614 [02:05<00:00,  4.90it/s]\n",
            "100% 614/614 [02:05<00:00,  4.89it/s]\n",
            "100% 614/614 [02:05<00:00,  4.90it/s]\n",
            "100% 614/614 [02:05<00:00,  4.90it/s]\n",
            "100% 614/614 [02:05<00:00,  4.89it/s]\n",
            "100% 614/614 [02:05<00:00,  4.88it/s]\n",
            "100% 614/614 [02:05<00:00,  4.87it/s]\n",
            "100% 614/614 [02:05<00:00,  4.88it/s]\n",
            "100% 614/614 [02:05<00:00,  4.88it/s]\n",
            "100% 614/614 [02:05<00:00,  4.88it/s]\n",
            "100% 614/614 [02:05<00:00,  4.88it/s]\n",
            "100% 614/614 [02:05<00:00,  4.88it/s]\n",
            "100% 614/614 [02:05<00:00,  4.88it/s]\n",
            "100% 614/614 [02:05<00:00,  4.89it/s]\n",
            "100% 614/614 [02:05<00:00,  4.88it/s]\n",
            "100% 614/614 [02:05<00:00,  4.88it/s]\n",
            "100% 614/614 [02:05<00:00,  4.87it/s]\n",
            "100% 614/614 [02:05<00:00,  4.87it/s]\n",
            "100% 614/614 [02:05<00:00,  4.88it/s]\n",
            "100% 614/614 [02:05<00:00,  4.87it/s]\n",
            "100% 614/614 [02:05<00:00,  4.88it/s]\n",
            "100% 614/614 [02:05<00:00,  4.88it/s]\n",
            "100% 614/614 [02:05<00:00,  4.88it/s]\n",
            "100% 614/614 [02:05<00:00,  4.87it/s]\n",
            "100% 614/614 [02:05<00:00,  4.88it/s]\n",
            "100% 614/614 [02:05<00:00,  4.88it/s]\n",
            "100% 614/614 [02:05<00:00,  4.88it/s]\n",
            "100% 614/614 [02:05<00:00,  4.88it/s]\n",
            "100% 614/614 [02:05<00:00,  4.88it/s]\n",
            "100% 614/614 [02:05<00:00,  4.88it/s]\n",
            "100% 614/614 [02:05<00:00,  4.88it/s]\n",
            "100% 614/614 [02:05<00:00,  4.88it/s]\n",
            "100% 614/614 [02:05<00:00,  4.88it/s]\n",
            "100% 614/614 [02:05<00:00,  4.88it/s]\n",
            "100% 614/614 [02:05<00:00,  4.87it/s]\n",
            "100% 614/614 [02:05<00:00,  4.88it/s]\n",
            "100% 614/614 [02:05<00:00,  4.87it/s]\n",
            "100% 614/614 [02:06<00:00,  4.87it/s]\n",
            "100% 614/614 [02:06<00:00,  4.87it/s]\n",
            "100% 614/614 [02:06<00:00,  4.87it/s]\n",
            "100% 614/614 [02:05<00:00,  4.88it/s]\n",
            "100% 614/614 [02:05<00:00,  4.87it/s]\n",
            "100% 614/614 [02:05<00:00,  4.87it/s]\n",
            "100% 614/614 [02:05<00:00,  4.87it/s]\n",
            "100% 614/614 [02:05<00:00,  4.87it/s]\n",
            "100% 614/614 [02:06<00:00,  4.87it/s]\n",
            "100% 614/614 [02:05<00:00,  4.88it/s]\n",
            "100% 614/614 [02:05<00:00,  4.88it/s]\n",
            "100% 614/614 [02:05<00:00,  4.88it/s]\n",
            "100% 614/614 [02:05<00:00,  4.88it/s]\n",
            "100% 614/614 [02:05<00:00,  4.88it/s]\n",
            "100% 614/614 [02:05<00:00,  4.89it/s]\n",
            "100% 614/614 [02:05<00:00,  4.88it/s]\n",
            "100% 614/614 [02:06<00:00,  4.87it/s]\n",
            "100% 614/614 [02:06<00:00,  4.87it/s]\n",
            "100% 614/614 [02:05<00:00,  4.87it/s]\n",
            "100% 614/614 [02:05<00:00,  4.87it/s]\n",
            "100% 614/614 [02:05<00:00,  4.88it/s]\n",
            "100% 614/614 [02:05<00:00,  4.88it/s]\n",
            "100% 614/614 [02:05<00:00,  4.88it/s]\n",
            "100% 614/614 [02:05<00:00,  4.88it/s]\n",
            "100% 614/614 [02:05<00:00,  4.88it/s]\n",
            "100% 614/614 [02:05<00:00,  4.88it/s]\n",
            "100% 614/614 [02:05<00:00,  4.88it/s]\n",
            "100% 614/614 [02:05<00:00,  4.88it/s]\n",
            "100% 614/614 [02:05<00:00,  4.88it/s]\n",
            "100% 614/614 [02:05<00:00,  4.88it/s]\n",
            "100% 614/614 [02:05<00:00,  4.88it/s]\n",
            "100% 614/614 [02:05<00:00,  4.88it/s]\n",
            "100% 614/614 [02:06<00:00,  4.87it/s]\n",
            "100% 614/614 [02:06<00:00,  4.87it/s]\n",
            "100% 614/614 [02:05<00:00,  4.88it/s]\n",
            "100% 614/614 [02:06<00:00,  4.87it/s]\n",
            "100% 614/614 [02:05<00:00,  4.88it/s]\n",
            "100% 614/614 [02:05<00:00,  4.88it/s]\n",
            "100% 614/614 [02:06<00:00,  4.87it/s]\n",
            "100% 614/614 [02:06<00:00,  4.87it/s]\n",
            "100% 614/614 [02:06<00:00,  4.87it/s]\n",
            "100% 614/614 [02:05<00:00,  4.88it/s]\n",
            "100% 614/614 [02:06<00:00,  4.87it/s]\n",
            "test  auc:0.678  acc:0.938\n"
          ]
        }
      ],
      "source": [
        "!python /content/drive/MyDrive/medmnist/medmnist_test.py chestmnist 224 BICUBIC net3 100 128"
      ]
    },
    {
      "cell_type": "code",
      "execution_count": null,
      "metadata": {
        "colab": {
          "background_save": true
        },
        "id": "3BJYecJ0DWto",
        "outputId": "21f76d73-ce42-48a4-ccd2-697716a4970e"
      },
      "outputs": [
        {
          "name": "stdout",
          "output_type": "stream",
          "text": [
            "If for semantic segmentation, please install mmsegmentation first\n",
            "If for detection, please install mmdetection first\n",
            "Using downloaded and verified file: /root/.medmnist/chestmnist.npz\n",
            "tcmalloc: large alloc 3937214464 bytes == 0xca78000 @  0x7ff4bb2f31e7 0x7ff4b8b7d14e 0x7ff4b8bd5745 0x7ff4b8bd59bf 0x7ff4b8c78773 0x5aae14 0x49abe4 0x5d8868 0x4990ca 0x5d8868 0x4990ca 0x55cd91 0x55d743 0x642630 0x6426ae 0x644b78 0x64511c 0x677e5e 0x678029 0x7ff4baef0c87 0x5e1baa\n",
            "tcmalloc: large alloc 3937214464 bytes == 0xf7658000 @  0x7ff4bb2d5b6b 0x7ff4bb2f5379 0x7ff4399ee935 0x7ff4399cc093 0x7ff466aa04ca 0x7ff466a98603 0x7ff466a9865a 0x7ff466a986bf 0x7ff46713b469 0x7ff467b8a7b0 0x7ff467b8a810 0x7ff46784ab33 0x7ff467b5d31e 0x7ff46788ddeb 0x7ff466dc4ec7 0x7ff46712c13b 0x7ff467d17b3b 0x7ff467565425 0x7ff467b5d093 0x7ff467565425 0x7ff468f1da0b 0x7ff468f1de7e 0x7ff4675e5989 0x7ff467124517 0x7ff467ed5f79 0x7ff46774ce8a 0x7ff48fb0e45b 0x7ff48fb13606 0x7ff48f74425f 0x5d80be 0x5d8d8c\n",
            "Using downloaded and verified file: /root/.medmnist/chestmnist.npz\n",
            "100% 614/614 [02:06<00:00,  4.87it/s]\n",
            "100% 614/614 [02:05<00:00,  4.90it/s]\n",
            "100% 614/614 [02:05<00:00,  4.91it/s]\n",
            "100% 614/614 [02:05<00:00,  4.89it/s]\n",
            "100% 614/614 [02:04<00:00,  4.91it/s]\n",
            "100% 614/614 [02:05<00:00,  4.90it/s]\n",
            "100% 614/614 [02:05<00:00,  4.90it/s]\n",
            "100% 614/614 [02:05<00:00,  4.90it/s]\n",
            "100% 614/614 [02:05<00:00,  4.89it/s]\n",
            "100% 614/614 [02:05<00:00,  4.89it/s]\n",
            "100% 614/614 [02:05<00:00,  4.90it/s]\n",
            "100% 614/614 [02:05<00:00,  4.88it/s]\n",
            "100% 614/614 [02:05<00:00,  4.89it/s]\n",
            "100% 614/614 [02:05<00:00,  4.89it/s]\n",
            "100% 614/614 [02:05<00:00,  4.88it/s]\n",
            "100% 614/614 [02:05<00:00,  4.89it/s]\n",
            "100% 614/614 [02:05<00:00,  4.89it/s]\n",
            "100% 614/614 [02:05<00:00,  4.88it/s]\n",
            "100% 614/614 [02:05<00:00,  4.88it/s]\n",
            "100% 614/614 [02:05<00:00,  4.89it/s]\n",
            "100% 614/614 [02:05<00:00,  4.88it/s]\n",
            "100% 614/614 [02:05<00:00,  4.88it/s]\n",
            "100% 614/614 [02:05<00:00,  4.89it/s]\n",
            "100% 614/614 [02:05<00:00,  4.88it/s]\n",
            "100% 614/614 [02:05<00:00,  4.89it/s]\n",
            "100% 614/614 [02:05<00:00,  4.87it/s]\n",
            "100% 614/614 [02:06<00:00,  4.87it/s]\n",
            "100% 614/614 [02:05<00:00,  4.88it/s]\n",
            "100% 614/614 [02:05<00:00,  4.88it/s]\n",
            "100% 614/614 [02:05<00:00,  4.88it/s]\n",
            "100% 614/614 [02:05<00:00,  4.88it/s]\n",
            "100% 614/614 [02:05<00:00,  4.89it/s]\n",
            "100% 614/614 [02:06<00:00,  4.87it/s]\n",
            "100% 614/614 [02:05<00:00,  4.88it/s]\n",
            "100% 614/614 [02:05<00:00,  4.89it/s]\n",
            "100% 614/614 [02:05<00:00,  4.88it/s]\n",
            "100% 614/614 [02:05<00:00,  4.88it/s]\n",
            "100% 614/614 [02:05<00:00,  4.88it/s]\n",
            "100% 614/614 [02:06<00:00,  4.87it/s]\n",
            "100% 614/614 [02:06<00:00,  4.87it/s]\n",
            "100% 614/614 [02:05<00:00,  4.88it/s]\n",
            "100% 614/614 [02:05<00:00,  4.88it/s]\n",
            "100% 614/614 [02:05<00:00,  4.88it/s]\n",
            "100% 614/614 [02:05<00:00,  4.88it/s]\n",
            "100% 614/614 [02:06<00:00,  4.87it/s]\n",
            "100% 614/614 [02:06<00:00,  4.87it/s]\n",
            "100% 614/614 [02:06<00:00,  4.87it/s]\n",
            "100% 614/614 [02:06<00:00,  4.87it/s]\n",
            "100% 614/614 [02:06<00:00,  4.87it/s]\n",
            "100% 614/614 [02:06<00:00,  4.87it/s]\n",
            "100% 614/614 [02:05<00:00,  4.88it/s]\n",
            "100% 614/614 [02:06<00:00,  4.87it/s]\n",
            "100% 614/614 [02:05<00:00,  4.88it/s]\n",
            "100% 614/614 [02:06<00:00,  4.87it/s]\n",
            "100% 614/614 [02:05<00:00,  4.88it/s]\n",
            "100% 614/614 [02:05<00:00,  4.88it/s]\n",
            "100% 614/614 [02:05<00:00,  4.87it/s]\n",
            "100% 614/614 [02:05<00:00,  4.88it/s]\n",
            "100% 614/614 [02:06<00:00,  4.87it/s]\n",
            "100% 614/614 [02:05<00:00,  4.87it/s]\n",
            "100% 614/614 [02:06<00:00,  4.87it/s]\n",
            "100% 614/614 [02:05<00:00,  4.88it/s]\n",
            "100% 614/614 [02:05<00:00,  4.87it/s]\n",
            "100% 614/614 [02:05<00:00,  4.88it/s]\n",
            "100% 614/614 [02:06<00:00,  4.87it/s]\n",
            "100% 614/614 [02:06<00:00,  4.86it/s]\n",
            "100% 614/614 [02:06<00:00,  4.87it/s]\n",
            "100% 614/614 [02:06<00:00,  4.87it/s]\n",
            "100% 614/614 [02:06<00:00,  4.86it/s]\n",
            "100% 614/614 [02:05<00:00,  4.90it/s]\n",
            "100% 614/614 [02:05<00:00,  4.91it/s]\n",
            "100% 614/614 [02:04<00:00,  4.91it/s]\n",
            "100% 614/614 [02:04<00:00,  4.92it/s]\n",
            "100% 614/614 [02:04<00:00,  4.92it/s]\n",
            "100% 614/614 [02:05<00:00,  4.88it/s]\n",
            "100% 614/614 [02:05<00:00,  4.90it/s]\n",
            "100% 614/614 [02:05<00:00,  4.91it/s]\n",
            "100% 614/614 [02:05<00:00,  4.91it/s]\n",
            "100% 614/614 [02:04<00:00,  4.91it/s]\n",
            "100% 614/614 [02:05<00:00,  4.91it/s]\n",
            "100% 614/614 [02:05<00:00,  4.91it/s]\n",
            "100% 614/614 [02:05<00:00,  4.91it/s]\n",
            "100% 614/614 [02:05<00:00,  4.90it/s]\n",
            "100% 614/614 [02:05<00:00,  4.90it/s]\n",
            "100% 614/614 [02:05<00:00,  4.91it/s]\n",
            "100% 614/614 [02:04<00:00,  4.91it/s]\n",
            "100% 614/614 [02:04<00:00,  4.91it/s]\n",
            "100% 614/614 [02:05<00:00,  4.91it/s]\n",
            "100% 614/614 [02:05<00:00,  4.91it/s]\n",
            "100% 614/614 [02:04<00:00,  4.91it/s]\n",
            "100% 614/614 [02:04<00:00,  4.92it/s]\n",
            "100% 614/614 [02:05<00:00,  4.88it/s]\n",
            "100% 614/614 [02:05<00:00,  4.91it/s]\n",
            "100% 614/614 [02:04<00:00,  4.92it/s]\n",
            "100% 614/614 [02:04<00:00,  4.92it/s]\n",
            "100% 614/614 [02:05<00:00,  4.91it/s]\n",
            "100% 614/614 [02:04<00:00,  4.92it/s]\n",
            "100% 614/614 [02:04<00:00,  4.92it/s]\n",
            "100% 614/614 [02:04<00:00,  4.92it/s]\n",
            "100% 614/614 [02:05<00:00,  4.88it/s]\n",
            "test  auc:0.670  acc:0.930\n"
          ]
        }
      ],
      "source": [
        "!python /content/drive/MyDrive/medmnist/medmnist_test.py chestmnist 224 LANCZOS net3 100 128"
      ]
    },
    {
      "cell_type": "markdown",
      "metadata": {
        "id": "MGjIK4mPFHMq"
      },
      "source": [
        "## chestmnist_net5"
      ]
    },
    {
      "cell_type": "code",
      "execution_count": null,
      "metadata": {
        "id": "EHTkQ023DfHX"
      },
      "outputs": [],
      "source": [
        "!python /content/drive/MyDrive/medmnist/medmnist_test.py chestmnist 224 NEAREST net5 100 128"
      ]
    },
    {
      "cell_type": "code",
      "execution_count": null,
      "metadata": {
        "id": "FUZndvgXDey3"
      },
      "outputs": [],
      "source": [
        "!python /content/drive/MyDrive/medmnist/medmnist_test.py chestmnist 224 BILINEAR net5 100 128"
      ]
    },
    {
      "cell_type": "code",
      "execution_count": null,
      "metadata": {
        "id": "Jb_iQnBMFKrz"
      },
      "outputs": [],
      "source": [
        "!python /content/drive/MyDrive/medmnist/medmnist_test.py chestmnist 224 HAMMING net5 100 128"
      ]
    },
    {
      "cell_type": "code",
      "execution_count": null,
      "metadata": {
        "id": "uniJXR_EFKkZ"
      },
      "outputs": [],
      "source": [
        "!python /content/drive/MyDrive/medmnist/medmnist_test.py chestmnist 224 BICUBIC net5 100 128"
      ]
    },
    {
      "cell_type": "code",
      "execution_count": null,
      "metadata": {
        "id": "zdF6FAggFKbx"
      },
      "outputs": [],
      "source": [
        "!python /content/drive/MyDrive/medmnist/medmnist_test.py chestmnist 224 LANCZOS net5 100 128"
      ]
    },
    {
      "cell_type": "markdown",
      "metadata": {
        "id": "NoiQILOOFLdJ"
      },
      "source": [
        "## chestmnist_resnet18"
      ]
    },
    {
      "cell_type": "code",
      "execution_count": null,
      "metadata": {
        "id": "ch-c6toHHQSz"
      },
      "outputs": [],
      "source": [
        "!python /content/drive/MyDrive/medmnist/medmnist_test.py chestmnist 224 NEAREST resnet18 100 128"
      ]
    },
    {
      "cell_type": "code",
      "execution_count": null,
      "metadata": {
        "id": "Jda3-3hOHQS5"
      },
      "outputs": [],
      "source": [
        "!python /content/drive/MyDrive/medmnist/medmnist_test.py chestmnist 224 BILINEAR resnet18 100 128"
      ]
    },
    {
      "cell_type": "code",
      "execution_count": null,
      "metadata": {
        "colab": {
          "base_uri": "https://localhost:8080/"
        },
        "id": "y4r5IKYyHQS5",
        "outputId": "249fc123-9575-4dfb-b2d8-85e77b9bf05a"
      },
      "outputs": [
        {
          "name": "stdout",
          "output_type": "stream",
          "text": [
            "If for semantic segmentation, please install mmsegmentation first\n",
            "If for detection, please install mmdetection first\n",
            "Using downloaded and verified file: /root/.medmnist/chestmnist.npz\n",
            "tcmalloc: large alloc 3937214464 bytes == 0xb488000 @  0x7f84810f41e7 0x7f847e97e14e 0x7f847e9d6745 0x7f847e9d69bf 0x7f847ea79773 0x5aae14 0x49abe4 0x5d8868 0x4990ca 0x5d8868 0x4990ca 0x55cd91 0x55d743 0x642630 0x6426ae 0x644b78 0x64511c 0x677e5e 0x678029 0x7f8480cf1c87 0x5e1baa\n",
            "tcmalloc: large alloc 3937214464 bytes == 0xf6068000 @  0x7f84810d6b6b 0x7f84810f6379 0x7f83ff7ef935 0x7f83ff7cd093 0x7f842c8a14ca 0x7f842c899603 0x7f842c89965a 0x7f842c8996bf 0x7f842cf3c469 0x7f842d98b7b0 0x7f842d98b810 0x7f842d64bb33 0x7f842d95e31e 0x7f842d68edeb 0x7f842cbc5ec7 0x7f842cf2d13b 0x7f842db18b3b 0x7f842d366425 0x7f842d95e093 0x7f842d366425 0x7f842ed1ea0b 0x7f842ed1ee7e 0x7f842d3e6989 0x7f842cf25517 0x7f842dcd6f79 0x7f842d54de8a 0x7f845590f45b 0x7f8455914606 0x7f845554525f 0x5d80be 0x5d8d8c\n",
            "Using downloaded and verified file: /root/.medmnist/chestmnist.npz\n",
            "/usr/local/lib/python3.8/dist-packages/torchvision/models/_utils.py:208: UserWarning: The parameter 'pretrained' is deprecated since 0.13 and may be removed in the future, please use 'weights' instead.\n",
            "  warnings.warn(\n",
            "/usr/local/lib/python3.8/dist-packages/torchvision/models/_utils.py:223: UserWarning: Arguments other than a weight enum or `None` for 'weights' are deprecated since 0.13 and may be removed in the future. The current behavior is equivalent to passing `weights=None`.\n",
            "  warnings.warn(msg)\n",
            "100% 614/614 [03:23<00:00,  3.02it/s]\n",
            "100% 614/614 [03:21<00:00,  3.04it/s]\n",
            "100% 614/614 [03:21<00:00,  3.04it/s]\n",
            "100% 614/614 [03:21<00:00,  3.04it/s]\n",
            "100% 614/614 [03:21<00:00,  3.04it/s]\n",
            "100% 614/614 [03:21<00:00,  3.04it/s]\n",
            "100% 614/614 [03:21<00:00,  3.04it/s]\n",
            "100% 614/614 [03:21<00:00,  3.04it/s]\n",
            "100% 614/614 [03:21<00:00,  3.04it/s]\n",
            "100% 614/614 [03:21<00:00,  3.04it/s]\n",
            "100% 614/614 [03:21<00:00,  3.04it/s]\n",
            "100% 614/614 [03:21<00:00,  3.04it/s]\n",
            "100% 614/614 [03:21<00:00,  3.04it/s]\n",
            "100% 614/614 [03:21<00:00,  3.04it/s]\n",
            "100% 614/614 [03:21<00:00,  3.04it/s]\n",
            "100% 614/614 [03:21<00:00,  3.04it/s]\n",
            "100% 614/614 [03:21<00:00,  3.04it/s]\n",
            "100% 614/614 [03:21<00:00,  3.04it/s]\n",
            "100% 614/614 [03:21<00:00,  3.04it/s]\n",
            "100% 614/614 [03:21<00:00,  3.04it/s]\n",
            "100% 614/614 [03:21<00:00,  3.04it/s]\n",
            "100% 614/614 [03:21<00:00,  3.04it/s]\n",
            "100% 614/614 [03:21<00:00,  3.04it/s]\n",
            "100% 614/614 [03:21<00:00,  3.04it/s]\n",
            "100% 614/614 [03:21<00:00,  3.04it/s]\n",
            "100% 614/614 [03:21<00:00,  3.04it/s]\n",
            "100% 614/614 [03:21<00:00,  3.04it/s]\n",
            "100% 614/614 [03:21<00:00,  3.04it/s]\n",
            "100% 614/614 [03:21<00:00,  3.04it/s]\n",
            "100% 614/614 [03:21<00:00,  3.04it/s]\n",
            "100% 614/614 [03:21<00:00,  3.04it/s]\n",
            "100% 614/614 [03:21<00:00,  3.04it/s]\n",
            "100% 614/614 [03:21<00:00,  3.04it/s]\n",
            "100% 614/614 [03:21<00:00,  3.04it/s]\n",
            "100% 614/614 [03:21<00:00,  3.04it/s]\n",
            "100% 614/614 [03:21<00:00,  3.04it/s]\n",
            "100% 614/614 [03:21<00:00,  3.04it/s]\n",
            "100% 614/614 [03:21<00:00,  3.04it/s]\n",
            "100% 614/614 [03:21<00:00,  3.04it/s]\n",
            "100% 614/614 [03:21<00:00,  3.04it/s]\n",
            "100% 614/614 [03:21<00:00,  3.04it/s]\n",
            "100% 614/614 [03:21<00:00,  3.04it/s]\n",
            "100% 614/614 [03:21<00:00,  3.04it/s]\n",
            "100% 614/614 [03:21<00:00,  3.04it/s]\n",
            "100% 614/614 [03:21<00:00,  3.04it/s]\n",
            "100% 614/614 [03:21<00:00,  3.04it/s]\n",
            "100% 614/614 [03:21<00:00,  3.04it/s]\n",
            "100% 614/614 [03:21<00:00,  3.04it/s]\n",
            "100% 614/614 [03:21<00:00,  3.04it/s]\n",
            "100% 614/614 [03:21<00:00,  3.04it/s]\n",
            "100% 614/614 [03:21<00:00,  3.04it/s]\n",
            "100% 614/614 [03:21<00:00,  3.04it/s]\n",
            "100% 614/614 [03:21<00:00,  3.04it/s]\n",
            "100% 614/614 [03:21<00:00,  3.04it/s]\n",
            "100% 614/614 [03:21<00:00,  3.04it/s]\n",
            "100% 614/614 [03:21<00:00,  3.04it/s]\n",
            "100% 614/614 [03:21<00:00,  3.04it/s]\n",
            "100% 614/614 [03:21<00:00,  3.04it/s]\n",
            "100% 614/614 [03:21<00:00,  3.04it/s]\n",
            "100% 614/614 [03:21<00:00,  3.04it/s]\n",
            "100% 614/614 [03:21<00:00,  3.04it/s]\n",
            "100% 614/614 [03:21<00:00,  3.04it/s]\n",
            "100% 614/614 [03:21<00:00,  3.04it/s]\n",
            "100% 614/614 [03:21<00:00,  3.04it/s]\n",
            "100% 614/614 [03:21<00:00,  3.04it/s]\n",
            "100% 614/614 [03:21<00:00,  3.04it/s]\n",
            "100% 614/614 [03:21<00:00,  3.04it/s]\n",
            "100% 614/614 [03:21<00:00,  3.04it/s]\n",
            "100% 614/614 [03:21<00:00,  3.04it/s]\n",
            "100% 614/614 [03:21<00:00,  3.04it/s]\n",
            "100% 614/614 [03:21<00:00,  3.04it/s]\n",
            "100% 614/614 [03:21<00:00,  3.04it/s]\n",
            "100% 614/614 [03:21<00:00,  3.04it/s]\n",
            "100% 614/614 [03:21<00:00,  3.04it/s]\n",
            "100% 614/614 [03:21<00:00,  3.04it/s]\n",
            "100% 614/614 [03:21<00:00,  3.04it/s]\n",
            "100% 614/614 [03:21<00:00,  3.04it/s]\n",
            "100% 614/614 [03:21<00:00,  3.04it/s]\n",
            "100% 614/614 [03:21<00:00,  3.04it/s]\n",
            "100% 614/614 [03:21<00:00,  3.04it/s]\n",
            "100% 614/614 [03:21<00:00,  3.04it/s]\n",
            "100% 614/614 [03:21<00:00,  3.05it/s]\n",
            "100% 614/614 [03:21<00:00,  3.05it/s]\n",
            "100% 614/614 [03:21<00:00,  3.05it/s]\n",
            "100% 614/614 [03:21<00:00,  3.04it/s]\n",
            "100% 614/614 [03:21<00:00,  3.04it/s]\n",
            "100% 614/614 [03:21<00:00,  3.05it/s]\n",
            "100% 614/614 [03:21<00:00,  3.05it/s]\n",
            "100% 614/614 [03:21<00:00,  3.05it/s]\n",
            "100% 614/614 [03:21<00:00,  3.04it/s]\n",
            "100% 614/614 [03:21<00:00,  3.04it/s]\n",
            "100% 614/614 [03:21<00:00,  3.05it/s]\n",
            "100% 614/614 [03:21<00:00,  3.04it/s]\n",
            "100% 614/614 [03:21<00:00,  3.04it/s]\n",
            "100% 614/614 [03:21<00:00,  3.04it/s]\n",
            "100% 614/614 [03:21<00:00,  3.04it/s]\n",
            "100% 614/614 [03:21<00:00,  3.05it/s]\n",
            "100% 614/614 [03:21<00:00,  3.05it/s]\n",
            "100% 614/614 [03:21<00:00,  3.04it/s]\n",
            "100% 614/614 [03:21<00:00,  3.05it/s]\n",
            "test  auc:0.608  acc:0.944\n"
          ]
        }
      ],
      "source": [
        "!python /content/drive/MyDrive/medmnist/medmnist_test.py chestmnist 224 HAMMING resnet18 100 128"
      ]
    },
    {
      "cell_type": "code",
      "execution_count": null,
      "metadata": {
        "colab": {
          "base_uri": "https://localhost:8080/"
        },
        "id": "vZAs1DnhHQS6",
        "outputId": "e9ddf2b9-23c2-44dd-9925-8f6ed331790f"
      },
      "outputs": [
        {
          "name": "stdout",
          "output_type": "stream",
          "text": [
            "If for semantic segmentation, please install mmsegmentation first\n",
            "If for detection, please install mmdetection first\n",
            "Downloading https://zenodo.org/record/6496656/files/chestmnist.npz?download=1 to /root/.medmnist/chestmnist.npz\n",
            "100% 82802576/82802576 [04:06<00:00, 335874.41it/s]\n",
            "tcmalloc: large alloc 3937214464 bytes == 0xb5b0000 @  0x7f6c06e7a1e7 0x7f6c0470414e 0x7f6c0475c745 0x7f6c0475c9bf 0x7f6c047ff773 0x5aae14 0x49abe4 0x5d8868 0x4990ca 0x5d8868 0x4990ca 0x55cd91 0x55d743 0x642630 0x6426ae 0x644b78 0x64511c 0x677e5e 0x678029 0x7f6c06a77c87 0x5e1baa\n",
            "tcmalloc: large alloc 3937214464 bytes == 0xf6190000 @  0x7f6c06e5cb6b 0x7f6c06e7c379 0x7f6b85575935 0x7f6b85553093 0x7f6bb26274ca 0x7f6bb261f603 0x7f6bb261f65a 0x7f6bb261f6bf 0x7f6bb2cc2469 0x7f6bb37117b0 0x7f6bb3711810 0x7f6bb33d1b33 0x7f6bb36e431e 0x7f6bb3414deb 0x7f6bb294bec7 0x7f6bb2cb313b 0x7f6bb389eb3b 0x7f6bb30ec425 0x7f6bb36e4093 0x7f6bb30ec425 0x7f6bb4aa4a0b 0x7f6bb4aa4e7e 0x7f6bb316c989 0x7f6bb2cab517 0x7f6bb3a5cf79 0x7f6bb32d3e8a 0x7f6bdb69545b 0x7f6bdb69a606 0x7f6bdb2cb25f 0x5d80be 0x5d8d8c\n",
            "Using downloaded and verified file: /root/.medmnist/chestmnist.npz\n",
            "/usr/local/lib/python3.8/dist-packages/torchvision/models/_utils.py:208: UserWarning: The parameter 'pretrained' is deprecated since 0.13 and may be removed in the future, please use 'weights' instead.\n",
            "  warnings.warn(\n",
            "/usr/local/lib/python3.8/dist-packages/torchvision/models/_utils.py:223: UserWarning: Arguments other than a weight enum or `None` for 'weights' are deprecated since 0.13 and may be removed in the future. The current behavior is equivalent to passing `weights=None`.\n",
            "  warnings.warn(msg)\n",
            "100% 614/614 [03:28<00:00,  2.95it/s]\n",
            "100% 614/614 [03:21<00:00,  3.04it/s]\n",
            "100% 614/614 [03:21<00:00,  3.04it/s]\n",
            "100% 614/614 [03:21<00:00,  3.04it/s]\n",
            "100% 614/614 [03:21<00:00,  3.04it/s]\n",
            "100% 614/614 [03:21<00:00,  3.04it/s]\n",
            "100% 614/614 [03:21<00:00,  3.04it/s]\n",
            "100% 614/614 [03:21<00:00,  3.04it/s]\n",
            "100% 614/614 [03:21<00:00,  3.04it/s]\n",
            "100% 614/614 [03:21<00:00,  3.04it/s]\n",
            "100% 614/614 [03:21<00:00,  3.04it/s]\n",
            "100% 614/614 [03:21<00:00,  3.04it/s]\n",
            "100% 614/614 [03:21<00:00,  3.04it/s]\n",
            "100% 614/614 [03:21<00:00,  3.04it/s]\n",
            "100% 614/614 [03:21<00:00,  3.04it/s]\n",
            "100% 614/614 [03:21<00:00,  3.05it/s]\n",
            "100% 614/614 [03:21<00:00,  3.05it/s]\n",
            "100% 614/614 [03:21<00:00,  3.04it/s]\n",
            "100% 614/614 [03:21<00:00,  3.04it/s]\n",
            "100% 614/614 [03:21<00:00,  3.04it/s]\n",
            "100% 614/614 [03:21<00:00,  3.04it/s]\n",
            "100% 614/614 [03:21<00:00,  3.04it/s]\n",
            "100% 614/614 [03:21<00:00,  3.04it/s]\n",
            "100% 614/614 [03:21<00:00,  3.04it/s]\n",
            "100% 614/614 [03:21<00:00,  3.04it/s]\n",
            "100% 614/614 [03:21<00:00,  3.04it/s]\n",
            "100% 614/614 [03:21<00:00,  3.04it/s]\n",
            "100% 614/614 [03:21<00:00,  3.04it/s]\n",
            "100% 614/614 [03:21<00:00,  3.04it/s]\n",
            "100% 614/614 [03:21<00:00,  3.04it/s]\n",
            "100% 614/614 [03:21<00:00,  3.04it/s]\n",
            "100% 614/614 [03:21<00:00,  3.04it/s]\n",
            "100% 614/614 [03:21<00:00,  3.04it/s]\n",
            "100% 614/614 [03:21<00:00,  3.04it/s]\n",
            "100% 614/614 [03:21<00:00,  3.04it/s]\n",
            "100% 614/614 [03:21<00:00,  3.04it/s]\n",
            "100% 614/614 [03:21<00:00,  3.04it/s]\n",
            "100% 614/614 [03:21<00:00,  3.04it/s]\n",
            "100% 614/614 [03:21<00:00,  3.04it/s]\n",
            "100% 614/614 [03:21<00:00,  3.04it/s]\n",
            "100% 614/614 [03:21<00:00,  3.04it/s]\n",
            "100% 614/614 [03:21<00:00,  3.04it/s]\n",
            "100% 614/614 [03:21<00:00,  3.04it/s]\n",
            "100% 614/614 [03:21<00:00,  3.04it/s]\n",
            "100% 614/614 [03:21<00:00,  3.04it/s]\n",
            "100% 614/614 [03:21<00:00,  3.04it/s]\n",
            "100% 614/614 [03:21<00:00,  3.04it/s]\n",
            "100% 614/614 [03:21<00:00,  3.04it/s]\n",
            "100% 614/614 [03:21<00:00,  3.04it/s]\n",
            "100% 614/614 [03:21<00:00,  3.04it/s]\n",
            "100% 614/614 [03:21<00:00,  3.04it/s]\n",
            "100% 614/614 [03:21<00:00,  3.04it/s]\n",
            "100% 614/614 [03:21<00:00,  3.04it/s]\n",
            "100% 614/614 [03:21<00:00,  3.04it/s]\n",
            "100% 614/614 [03:21<00:00,  3.04it/s]\n",
            "100% 614/614 [03:21<00:00,  3.04it/s]\n",
            "100% 614/614 [03:21<00:00,  3.05it/s]\n",
            "100% 614/614 [03:21<00:00,  3.05it/s]\n",
            "100% 614/614 [03:21<00:00,  3.05it/s]\n",
            "100% 614/614 [03:21<00:00,  3.04it/s]\n",
            "100% 614/614 [03:21<00:00,  3.04it/s]\n",
            "100% 614/614 [03:21<00:00,  3.05it/s]\n",
            "100% 614/614 [03:21<00:00,  3.04it/s]\n",
            "100% 614/614 [03:21<00:00,  3.04it/s]\n",
            "100% 614/614 [03:21<00:00,  3.05it/s]\n",
            "100% 614/614 [03:21<00:00,  3.05it/s]\n",
            "100% 614/614 [03:21<00:00,  3.05it/s]\n",
            "100% 614/614 [03:21<00:00,  3.05it/s]\n",
            "100% 614/614 [03:21<00:00,  3.05it/s]\n",
            "100% 614/614 [03:21<00:00,  3.05it/s]\n",
            "100% 614/614 [03:21<00:00,  3.05it/s]\n",
            "100% 614/614 [03:21<00:00,  3.05it/s]\n",
            "100% 614/614 [03:21<00:00,  3.05it/s]\n",
            "100% 614/614 [03:21<00:00,  3.05it/s]\n",
            "100% 614/614 [03:21<00:00,  3.05it/s]\n",
            "100% 614/614 [03:21<00:00,  3.04it/s]\n",
            "100% 614/614 [03:21<00:00,  3.05it/s]\n",
            "100% 614/614 [03:21<00:00,  3.04it/s]\n",
            "100% 614/614 [03:21<00:00,  3.04it/s]\n",
            "100% 614/614 [03:21<00:00,  3.05it/s]\n",
            "100% 614/614 [03:21<00:00,  3.04it/s]\n",
            "100% 614/614 [03:21<00:00,  3.04it/s]\n",
            "100% 614/614 [03:21<00:00,  3.04it/s]\n",
            "100% 614/614 [03:21<00:00,  3.04it/s]\n",
            "100% 614/614 [03:21<00:00,  3.04it/s]\n",
            "100% 614/614 [03:21<00:00,  3.04it/s]\n",
            "100% 614/614 [03:21<00:00,  3.05it/s]\n",
            "100% 614/614 [03:21<00:00,  3.05it/s]\n",
            "100% 614/614 [03:21<00:00,  3.04it/s]\n",
            "100% 614/614 [03:21<00:00,  3.04it/s]\n",
            "100% 614/614 [03:21<00:00,  3.04it/s]\n",
            "100% 614/614 [03:21<00:00,  3.05it/s]\n",
            "100% 614/614 [03:21<00:00,  3.05it/s]\n",
            "100% 614/614 [03:21<00:00,  3.05it/s]\n",
            "100% 614/614 [03:21<00:00,  3.05it/s]\n",
            "100% 614/614 [03:21<00:00,  3.04it/s]\n",
            "100% 614/614 [03:21<00:00,  3.05it/s]\n",
            "100% 614/614 [03:21<00:00,  3.05it/s]\n",
            "100% 614/614 [03:21<00:00,  3.05it/s]\n",
            "100% 614/614 [03:21<00:00,  3.04it/s]\n",
            "test  auc:0.624  acc:0.940\n"
          ]
        }
      ],
      "source": [
        "!python /content/drive/MyDrive/medmnist/medmnist_test.py chestmnist 224 BICUBIC resnet18 100 128"
      ]
    },
    {
      "cell_type": "code",
      "execution_count": null,
      "metadata": {
        "colab": {
          "base_uri": "https://localhost:8080/"
        },
        "id": "e2dAEPBmHQS6",
        "outputId": "4b72f7ac-2deb-4e8f-9d7a-332ddf429e0f"
      },
      "outputs": [
        {
          "name": "stdout",
          "output_type": "stream",
          "text": [
            "If for semantic segmentation, please install mmsegmentation first\n",
            "If for detection, please install mmdetection first\n",
            "Using downloaded and verified file: /root/.medmnist/chestmnist.npz\n",
            "tcmalloc: large alloc 3937214464 bytes == 0xc774000 @  0x7f9e50edc1e7 0x7f9e4e76614e 0x7f9e4e7be745 0x7f9e4e7be9bf 0x7f9e4e861773 0x5aae14 0x49abe4 0x5d8868 0x4990ca 0x5d8868 0x4990ca 0x55cd91 0x55d743 0x642630 0x6426ae 0x644b78 0x64511c 0x677e5e 0x678029 0x7f9e50ad9c87 0x5e1baa\n",
            "tcmalloc: large alloc 3937214464 bytes == 0xf7354000 @  0x7f9e50ebeb6b 0x7f9e50ede379 0x7f9dcf5d7935 0x7f9dcf5b5093 0x7f9dfc6894ca 0x7f9dfc681603 0x7f9dfc68165a 0x7f9dfc6816bf 0x7f9dfcd24469 0x7f9dfd7737b0 0x7f9dfd773810 0x7f9dfd433b33 0x7f9dfd74631e 0x7f9dfd476deb 0x7f9dfc9adec7 0x7f9dfcd1513b 0x7f9dfd900b3b 0x7f9dfd14e425 0x7f9dfd746093 0x7f9dfd14e425 0x7f9dfeb06a0b 0x7f9dfeb06e7e 0x7f9dfd1ce989 0x7f9dfcd0d517 0x7f9dfdabef79 0x7f9dfd335e8a 0x7f9e256f745b 0x7f9e256fc606 0x7f9e2532d25f 0x5d80be 0x5d8d8c\n",
            "Using downloaded and verified file: /root/.medmnist/chestmnist.npz\n",
            "/usr/local/lib/python3.8/dist-packages/torchvision/models/_utils.py:208: UserWarning: The parameter 'pretrained' is deprecated since 0.13 and may be removed in the future, please use 'weights' instead.\n",
            "  warnings.warn(\n",
            "/usr/local/lib/python3.8/dist-packages/torchvision/models/_utils.py:223: UserWarning: Arguments other than a weight enum or `None` for 'weights' are deprecated since 0.13 and may be removed in the future. The current behavior is equivalent to passing `weights=None`.\n",
            "  warnings.warn(msg)\n",
            "100% 614/614 [03:23<00:00,  3.02it/s]\n",
            "100% 614/614 [03:21<00:00,  3.04it/s]\n",
            "100% 614/614 [03:21<00:00,  3.04it/s]\n",
            "100% 614/614 [03:21<00:00,  3.04it/s]\n",
            "100% 614/614 [03:21<00:00,  3.04it/s]\n",
            "100% 614/614 [03:21<00:00,  3.04it/s]\n",
            "100% 614/614 [03:21<00:00,  3.04it/s]\n",
            "100% 614/614 [03:21<00:00,  3.04it/s]\n",
            "100% 614/614 [03:21<00:00,  3.04it/s]\n",
            "100% 614/614 [03:21<00:00,  3.05it/s]\n",
            "100% 614/614 [03:21<00:00,  3.05it/s]\n",
            "100% 614/614 [03:21<00:00,  3.04it/s]\n",
            "100% 614/614 [03:21<00:00,  3.04it/s]\n",
            "100% 614/614 [03:21<00:00,  3.04it/s]\n",
            "100% 614/614 [03:21<00:00,  3.04it/s]\n",
            "100% 614/614 [03:21<00:00,  3.04it/s]\n",
            "100% 614/614 [03:21<00:00,  3.04it/s]\n",
            "100% 614/614 [03:21<00:00,  3.04it/s]\n",
            "100% 614/614 [03:21<00:00,  3.04it/s]\n",
            "100% 614/614 [03:21<00:00,  3.05it/s]\n",
            "100% 614/614 [03:21<00:00,  3.04it/s]\n",
            "100% 614/614 [03:21<00:00,  3.04it/s]\n",
            "100% 614/614 [03:21<00:00,  3.04it/s]\n",
            "100% 614/614 [03:21<00:00,  3.04it/s]\n",
            "100% 614/614 [03:21<00:00,  3.04it/s]\n",
            "100% 614/614 [03:21<00:00,  3.04it/s]\n",
            "100% 614/614 [03:21<00:00,  3.05it/s]\n",
            "100% 614/614 [03:21<00:00,  3.04it/s]\n",
            "100% 614/614 [03:21<00:00,  3.05it/s]\n",
            "100% 614/614 [03:21<00:00,  3.04it/s]\n",
            "100% 614/614 [03:21<00:00,  3.05it/s]\n",
            "100% 614/614 [03:21<00:00,  3.05it/s]\n",
            "100% 614/614 [03:21<00:00,  3.05it/s]\n",
            "100% 614/614 [03:21<00:00,  3.05it/s]\n",
            "100% 614/614 [03:21<00:00,  3.05it/s]\n",
            "100% 614/614 [03:21<00:00,  3.05it/s]\n",
            "100% 614/614 [03:21<00:00,  3.05it/s]\n",
            "100% 614/614 [03:21<00:00,  3.05it/s]\n",
            "100% 614/614 [03:21<00:00,  3.05it/s]\n",
            "100% 614/614 [03:21<00:00,  3.05it/s]\n",
            "100% 614/614 [03:21<00:00,  3.05it/s]\n",
            "100% 614/614 [03:21<00:00,  3.05it/s]\n",
            "100% 614/614 [03:21<00:00,  3.05it/s]\n",
            "100% 614/614 [03:21<00:00,  3.05it/s]\n",
            "100% 614/614 [03:21<00:00,  3.05it/s]\n",
            "100% 614/614 [03:21<00:00,  3.05it/s]\n",
            "100% 614/614 [03:21<00:00,  3.05it/s]\n",
            "100% 614/614 [03:21<00:00,  3.04it/s]\n",
            "100% 614/614 [03:21<00:00,  3.05it/s]\n",
            "100% 614/614 [03:21<00:00,  3.05it/s]\n",
            "100% 614/614 [03:21<00:00,  3.05it/s]\n",
            "100% 614/614 [03:21<00:00,  3.05it/s]\n",
            "100% 614/614 [03:21<00:00,  3.05it/s]\n",
            "100% 614/614 [03:21<00:00,  3.05it/s]\n",
            "100% 614/614 [03:21<00:00,  3.05it/s]\n",
            "100% 614/614 [03:21<00:00,  3.05it/s]\n",
            "100% 614/614 [03:21<00:00,  3.05it/s]\n",
            "100% 614/614 [03:21<00:00,  3.05it/s]\n",
            "100% 614/614 [03:21<00:00,  3.05it/s]\n",
            "100% 614/614 [03:21<00:00,  3.05it/s]\n",
            "100% 614/614 [03:21<00:00,  3.05it/s]\n",
            "100% 614/614 [03:21<00:00,  3.05it/s]\n",
            "100% 614/614 [03:21<00:00,  3.04it/s]\n",
            "100% 614/614 [03:21<00:00,  3.05it/s]\n",
            "100% 614/614 [03:21<00:00,  3.05it/s]\n",
            "100% 614/614 [03:21<00:00,  3.05it/s]\n",
            "100% 614/614 [03:21<00:00,  3.05it/s]\n",
            "100% 614/614 [03:21<00:00,  3.05it/s]\n",
            "100% 614/614 [03:21<00:00,  3.05it/s]\n",
            "100% 614/614 [03:21<00:00,  3.05it/s]\n",
            "100% 614/614 [03:21<00:00,  3.05it/s]\n",
            "100% 614/614 [03:21<00:00,  3.05it/s]\n",
            "100% 614/614 [03:21<00:00,  3.05it/s]\n",
            "100% 614/614 [03:21<00:00,  3.05it/s]\n",
            "100% 614/614 [03:21<00:00,  3.05it/s]\n",
            "100% 614/614 [03:21<00:00,  3.04it/s]\n",
            "100% 614/614 [03:21<00:00,  3.04it/s]\n",
            "100% 614/614 [03:21<00:00,  3.04it/s]\n",
            "100% 614/614 [03:21<00:00,  3.04it/s]\n",
            "100% 614/614 [03:21<00:00,  3.04it/s]\n",
            "100% 614/614 [03:21<00:00,  3.04it/s]\n",
            "100% 614/614 [03:21<00:00,  3.04it/s]\n",
            "100% 614/614 [03:21<00:00,  3.04it/s]\n",
            "100% 614/614 [03:21<00:00,  3.04it/s]\n",
            "100% 614/614 [03:21<00:00,  3.04it/s]\n",
            "100% 614/614 [03:21<00:00,  3.04it/s]\n",
            "100% 614/614 [03:21<00:00,  3.04it/s]\n",
            "100% 614/614 [03:21<00:00,  3.04it/s]\n",
            "100% 614/614 [03:21<00:00,  3.04it/s]\n",
            "100% 614/614 [03:21<00:00,  3.04it/s]\n",
            "100% 614/614 [03:21<00:00,  3.04it/s]\n",
            "100% 614/614 [03:21<00:00,  3.04it/s]\n",
            "100% 614/614 [03:21<00:00,  3.04it/s]\n",
            "100% 614/614 [03:21<00:00,  3.04it/s]\n",
            "100% 614/614 [03:21<00:00,  3.04it/s]\n",
            "100% 614/614 [03:21<00:00,  3.04it/s]\n",
            "100% 614/614 [03:21<00:00,  3.04it/s]\n",
            "100% 614/614 [03:21<00:00,  3.04it/s]\n",
            "100% 614/614 [03:21<00:00,  3.04it/s]\n",
            "100% 614/614 [03:21<00:00,  3.04it/s]\n",
            "test  auc:0.648  acc:0.944\n"
          ]
        }
      ],
      "source": [
        "!python /content/drive/MyDrive/medmnist/medmnist_test.py chestmnist 224 LANCZOS resnet18 100 128"
      ]
    },
    {
      "cell_type": "markdown",
      "metadata": {
        "id": "EebSjlcZFQZp"
      },
      "source": [
        "## chestmnist_resnet50"
      ]
    },
    {
      "cell_type": "code",
      "execution_count": null,
      "metadata": {
        "colab": {
          "base_uri": "https://localhost:8080/"
        },
        "id": "zvFPv2RPHd4_",
        "outputId": "9c7a17c4-0f98-400f-8def-25bd79b2aa0b"
      },
      "outputs": [
        {
          "name": "stdout",
          "output_type": "stream",
          "text": [
            "If for semantic segmentation, please install mmsegmentation first\n",
            "If for detection, please install mmdetection first\n",
            "Downloading https://zenodo.org/record/6496656/files/chestmnist.npz?download=1 to /root/.medmnist/chestmnist.npz\n",
            "100% 82802576/82802576 [00:04<00:00, 20593879.30it/s]\n",
            "tcmalloc: large alloc 3937214464 bytes == 0xbc16000 @  0x7f06aeb301e7 0x7f06ac3ba14e 0x7f06ac412745 0x7f06ac4129bf 0x7f06ac4b5773 0x5aae14 0x49abe4 0x5d8868 0x4990ca 0x5d8868 0x4990ca 0x55cd91 0x55d743 0x642630 0x6426ae 0x644b78 0x64511c 0x677e5e 0x678029 0x7f06ae72dc87 0x5e1baa\n",
            "tcmalloc: large alloc 3937214464 bytes == 0xf67f6000 @  0x7f06aeb12b6b 0x7f06aeb32379 0x7f06a15fcdc5 0x7f06a15da053 0x7f06443720ba 0x7f064436a1f3 0x7f064436a24a 0x7f064436a2af 0x7f0644a0d049 0x7f064545c3a0 0x7f064545c400 0x7f064511c723 0x7f064542ef0e 0x7f064515f9db 0x7f0644696ab7 0x7f06449fddd3 0x7f06455e972b 0x7f0644e37015 0x7f064542ec83 0x7f0644e37015 0x7f06467f19cb 0x7f06467f1e3e 0x7f0644eb7579 0x7f06449f6107 0x7f06457a7b69 0x7f064501ea7a 0x7f066d658dab 0x7f066d65e894 0x7f066d27849f 0x5d80be 0x5d8d8c\n",
            "Using downloaded and verified file: /root/.medmnist/chestmnist.npz\n",
            "/usr/local/lib/python3.8/dist-packages/torchvision/models/_utils.py:208: UserWarning: The parameter 'pretrained' is deprecated since 0.13 and may be removed in the future, please use 'weights' instead.\n",
            "  warnings.warn(\n",
            "/usr/local/lib/python3.8/dist-packages/torchvision/models/_utils.py:223: UserWarning: Arguments other than a weight enum or `None` for 'weights' are deprecated since 0.13 and may be removed in the future. The current behavior is equivalent to passing `weights=None`.\n",
            "  warnings.warn(msg)\n",
            "100% 614/614 [01:42<00:00,  5.99it/s]\n",
            "100% 614/614 [01:35<00:00,  6.46it/s]\n",
            "100% 614/614 [01:35<00:00,  6.46it/s]\n",
            "100% 614/614 [01:35<00:00,  6.46it/s]\n",
            "100% 614/614 [01:35<00:00,  6.46it/s]\n",
            "100% 614/614 [01:35<00:00,  6.46it/s]\n",
            "100% 614/614 [01:35<00:00,  6.46it/s]\n",
            "100% 614/614 [01:35<00:00,  6.46it/s]\n",
            "100% 614/614 [01:35<00:00,  6.46it/s]\n",
            "100% 614/614 [01:35<00:00,  6.46it/s]\n",
            "100% 614/614 [01:35<00:00,  6.46it/s]\n",
            "100% 614/614 [01:35<00:00,  6.46it/s]\n",
            "100% 614/614 [01:35<00:00,  6.46it/s]\n",
            "100% 614/614 [01:35<00:00,  6.46it/s]\n",
            "100% 614/614 [01:35<00:00,  6.46it/s]\n",
            "100% 614/614 [01:35<00:00,  6.46it/s]\n",
            "100% 614/614 [01:34<00:00,  6.46it/s]\n",
            "100% 614/614 [01:34<00:00,  6.47it/s]\n",
            "100% 614/614 [01:34<00:00,  6.47it/s]\n",
            "100% 614/614 [01:34<00:00,  6.46it/s]\n",
            "100% 614/614 [01:35<00:00,  6.46it/s]\n",
            "100% 614/614 [01:35<00:00,  6.46it/s]\n",
            "100% 614/614 [01:34<00:00,  6.46it/s]\n",
            "100% 614/614 [01:34<00:00,  6.47it/s]\n",
            "100% 614/614 [01:34<00:00,  6.46it/s]\n",
            "100% 614/614 [01:35<00:00,  6.46it/s]\n",
            "100% 614/614 [01:35<00:00,  6.46it/s]\n",
            "100% 614/614 [01:35<00:00,  6.46it/s]\n",
            "100% 614/614 [01:34<00:00,  6.46it/s]\n",
            "100% 614/614 [01:34<00:00,  6.47it/s]\n",
            "100% 614/614 [01:34<00:00,  6.46it/s]\n",
            "100% 614/614 [01:34<00:00,  6.47it/s]\n",
            "100% 614/614 [01:34<00:00,  6.46it/s]\n",
            "100% 614/614 [01:34<00:00,  6.46it/s]\n",
            "100% 614/614 [01:34<00:00,  6.46it/s]\n",
            "100% 614/614 [01:35<00:00,  6.46it/s]\n",
            "100% 614/614 [01:35<00:00,  6.46it/s]\n",
            "100% 614/614 [01:35<00:00,  6.46it/s]\n",
            "100% 614/614 [01:34<00:00,  6.47it/s]\n",
            "100% 614/614 [01:34<00:00,  6.46it/s]\n",
            "100% 614/614 [01:34<00:00,  6.46it/s]\n",
            "100% 614/614 [01:34<00:00,  6.46it/s]\n",
            "100% 614/614 [01:34<00:00,  6.46it/s]\n",
            "100% 614/614 [01:34<00:00,  6.46it/s]\n",
            "100% 614/614 [01:34<00:00,  6.46it/s]\n",
            "100% 614/614 [01:34<00:00,  6.46it/s]\n",
            "100% 614/614 [01:34<00:00,  6.46it/s]\n",
            "100% 614/614 [01:34<00:00,  6.46it/s]\n",
            "100% 614/614 [01:34<00:00,  6.46it/s]\n",
            "100% 614/614 [01:34<00:00,  6.46it/s]\n",
            "100% 614/614 [01:35<00:00,  6.46it/s]\n",
            "100% 614/614 [01:35<00:00,  6.46it/s]\n",
            "100% 614/614 [01:34<00:00,  6.46it/s]\n",
            "100% 614/614 [01:34<00:00,  6.46it/s]\n",
            "100% 614/614 [01:34<00:00,  6.46it/s]\n",
            "100% 614/614 [01:34<00:00,  6.47it/s]\n",
            "100% 614/614 [01:34<00:00,  6.46it/s]\n",
            "100% 614/614 [01:34<00:00,  6.46it/s]\n",
            "100% 614/614 [01:35<00:00,  6.46it/s]\n",
            "100% 614/614 [01:34<00:00,  6.46it/s]\n",
            "100% 614/614 [01:35<00:00,  6.46it/s]\n",
            "100% 614/614 [01:35<00:00,  6.46it/s]\n",
            "100% 614/614 [01:34<00:00,  6.46it/s]\n",
            "100% 614/614 [01:35<00:00,  6.46it/s]\n",
            "100% 614/614 [01:34<00:00,  6.46it/s]\n",
            "100% 614/614 [01:35<00:00,  6.46it/s]\n",
            "100% 614/614 [01:35<00:00,  6.46it/s]\n",
            "100% 614/614 [01:35<00:00,  6.46it/s]\n",
            "100% 614/614 [01:34<00:00,  6.47it/s]\n",
            "100% 614/614 [01:34<00:00,  6.46it/s]\n",
            "100% 614/614 [01:35<00:00,  6.46it/s]\n",
            "100% 614/614 [01:35<00:00,  6.46it/s]\n",
            "100% 614/614 [01:35<00:00,  6.46it/s]\n",
            "100% 614/614 [01:35<00:00,  6.46it/s]\n",
            "100% 614/614 [01:34<00:00,  6.47it/s]\n",
            "100% 614/614 [01:35<00:00,  6.46it/s]\n",
            "100% 614/614 [01:34<00:00,  6.46it/s]\n",
            "100% 614/614 [01:34<00:00,  6.46it/s]\n",
            "100% 614/614 [01:34<00:00,  6.46it/s]\n",
            "100% 614/614 [01:35<00:00,  6.46it/s]\n",
            "100% 614/614 [01:35<00:00,  6.46it/s]\n",
            "100% 614/614 [01:34<00:00,  6.46it/s]\n",
            "100% 614/614 [01:35<00:00,  6.46it/s]\n",
            "100% 614/614 [01:35<00:00,  6.46it/s]\n",
            "100% 614/614 [01:34<00:00,  6.46it/s]\n",
            "100% 614/614 [01:34<00:00,  6.46it/s]\n",
            "100% 614/614 [01:35<00:00,  6.46it/s]\n",
            "100% 614/614 [01:34<00:00,  6.46it/s]\n",
            "100% 614/614 [01:35<00:00,  6.46it/s]\n",
            "100% 614/614 [01:35<00:00,  6.46it/s]\n",
            "100% 614/614 [01:34<00:00,  6.46it/s]\n",
            "100% 614/614 [01:34<00:00,  6.46it/s]\n",
            "100% 614/614 [01:35<00:00,  6.46it/s]\n",
            "100% 614/614 [01:34<00:00,  6.46it/s]\n",
            "100% 614/614 [01:35<00:00,  6.46it/s]\n",
            "100% 614/614 [01:35<00:00,  6.46it/s]\n",
            "100% 614/614 [01:35<00:00,  6.45it/s]\n",
            "100% 614/614 [01:35<00:00,  6.45it/s]\n",
            "100% 614/614 [01:35<00:00,  6.45it/s]\n",
            "100% 614/614 [01:35<00:00,  6.45it/s]\n",
            "test  auc:0.607  acc:0.946\n"
          ]
        }
      ],
      "source": [
        "!python /content/drive/MyDrive/medmnist/medmnist_test.py chestmnist 224 NEAREST resnet50 100 128"
      ]
    },
    {
      "cell_type": "code",
      "execution_count": null,
      "metadata": {
        "colab": {
          "base_uri": "https://localhost:8080/"
        },
        "id": "LpIDyfBhHd5A",
        "outputId": "e02a4d62-aaca-4779-fba1-e1ad7de18a57"
      },
      "outputs": [
        {
          "name": "stdout",
          "output_type": "stream",
          "text": [
            "If for semantic segmentation, please install mmsegmentation first\n",
            "If for detection, please install mmdetection first\n",
            "Using downloaded and verified file: /root/.medmnist/chestmnist.npz\n",
            "tcmalloc: large alloc 3937214464 bytes == 0xcbd8000 @  0x7f2e081bf1e7 0x7f2e05a4914e 0x7f2e05aa1745 0x7f2e05aa19bf 0x7f2e05b44773 0x5aae14 0x49abe4 0x5d8868 0x4990ca 0x5d8868 0x4990ca 0x55cd91 0x55d743 0x642630 0x6426ae 0x644b78 0x64511c 0x677e5e 0x678029 0x7f2e07dbcc87 0x5e1baa\n",
            "tcmalloc: large alloc 3937214464 bytes == 0xf77b8000 @  0x7f2e081a1b6b 0x7f2e081c1379 0x7f2dfac8bdc5 0x7f2dfac69053 0x7f2d9da010ba 0x7f2d9d9f91f3 0x7f2d9d9f924a 0x7f2d9d9f92af 0x7f2d9e09c049 0x7f2d9eaeb3a0 0x7f2d9eaeb400 0x7f2d9e7ab723 0x7f2d9eabdf0e 0x7f2d9e7ee9db 0x7f2d9dd25ab7 0x7f2d9e08cdd3 0x7f2d9ec7872b 0x7f2d9e4c6015 0x7f2d9eabdc83 0x7f2d9e4c6015 0x7f2d9fe809cb 0x7f2d9fe80e3e 0x7f2d9e546579 0x7f2d9e085107 0x7f2d9ee36b69 0x7f2d9e6ada7a 0x7f2dc6ce7dab 0x7f2dc6ced894 0x7f2dc690749f 0x5d80be 0x5d8d8c\n",
            "Using downloaded and verified file: /root/.medmnist/chestmnist.npz\n",
            "/usr/local/lib/python3.8/dist-packages/torchvision/models/_utils.py:208: UserWarning: The parameter 'pretrained' is deprecated since 0.13 and may be removed in the future, please use 'weights' instead.\n",
            "  warnings.warn(\n",
            "/usr/local/lib/python3.8/dist-packages/torchvision/models/_utils.py:223: UserWarning: Arguments other than a weight enum or `None` for 'weights' are deprecated since 0.13 and may be removed in the future. The current behavior is equivalent to passing `weights=None`.\n",
            "  warnings.warn(msg)\n",
            "100% 614/614 [01:37<00:00,  6.30it/s]\n",
            "100% 614/614 [01:35<00:00,  6.46it/s]\n",
            "100% 614/614 [01:35<00:00,  6.46it/s]\n",
            "100% 614/614 [01:35<00:00,  6.46it/s]\n",
            "100% 614/614 [01:35<00:00,  6.46it/s]\n",
            "100% 614/614 [01:35<00:00,  6.46it/s]\n",
            "100% 614/614 [01:35<00:00,  6.46it/s]\n",
            "100% 614/614 [01:35<00:00,  6.46it/s]\n",
            "100% 614/614 [01:35<00:00,  6.46it/s]\n",
            "100% 614/614 [01:34<00:00,  6.46it/s]\n",
            "100% 614/614 [01:34<00:00,  6.46it/s]\n",
            "100% 614/614 [01:35<00:00,  6.46it/s]\n",
            "100% 614/614 [01:34<00:00,  6.46it/s]\n",
            "100% 614/614 [01:35<00:00,  6.46it/s]\n",
            "100% 614/614 [01:34<00:00,  6.46it/s]\n",
            "100% 614/614 [01:34<00:00,  6.46it/s]\n",
            "100% 614/614 [01:34<00:00,  6.46it/s]\n",
            "100% 614/614 [01:35<00:00,  6.46it/s]\n",
            "100% 614/614 [01:35<00:00,  6.46it/s]\n",
            "100% 614/614 [01:35<00:00,  6.46it/s]\n",
            "100% 614/614 [01:35<00:00,  6.46it/s]\n",
            "100% 614/614 [01:35<00:00,  6.46it/s]\n",
            "100% 614/614 [01:35<00:00,  6.46it/s]\n",
            "100% 614/614 [01:35<00:00,  6.46it/s]\n",
            "100% 614/614 [01:35<00:00,  6.46it/s]\n",
            "100% 614/614 [01:35<00:00,  6.46it/s]\n",
            "100% 614/614 [01:35<00:00,  6.46it/s]\n",
            "100% 614/614 [01:35<00:00,  6.46it/s]\n",
            "100% 614/614 [01:34<00:00,  6.46it/s]\n",
            "100% 614/614 [01:34<00:00,  6.46it/s]\n",
            "100% 614/614 [01:34<00:00,  6.47it/s]\n",
            "100% 614/614 [01:34<00:00,  6.47it/s]\n",
            "100% 614/614 [01:34<00:00,  6.47it/s]\n",
            "100% 614/614 [01:34<00:00,  6.46it/s]\n",
            "100% 614/614 [01:34<00:00,  6.47it/s]\n",
            "100% 614/614 [01:35<00:00,  6.46it/s]\n",
            "100% 614/614 [01:34<00:00,  6.46it/s]\n",
            "100% 614/614 [01:34<00:00,  6.46it/s]\n",
            "100% 614/614 [01:34<00:00,  6.46it/s]\n",
            "100% 614/614 [01:34<00:00,  6.47it/s]\n",
            "100% 614/614 [01:34<00:00,  6.46it/s]\n",
            "100% 614/614 [01:34<00:00,  6.47it/s]\n",
            "100% 614/614 [01:34<00:00,  6.46it/s]\n",
            "100% 614/614 [01:34<00:00,  6.46it/s]\n",
            "100% 614/614 [01:34<00:00,  6.46it/s]\n",
            "100% 614/614 [01:34<00:00,  6.47it/s]\n",
            "100% 614/614 [01:34<00:00,  6.47it/s]\n",
            "100% 614/614 [01:34<00:00,  6.46it/s]\n",
            "100% 614/614 [01:34<00:00,  6.46it/s]\n",
            "100% 614/614 [01:35<00:00,  6.46it/s]\n",
            "100% 614/614 [01:34<00:00,  6.47it/s]\n",
            "100% 614/614 [01:34<00:00,  6.47it/s]\n",
            "100% 614/614 [01:34<00:00,  6.46it/s]\n",
            "100% 614/614 [01:34<00:00,  6.47it/s]\n",
            "100% 614/614 [01:34<00:00,  6.46it/s]\n",
            "100% 614/614 [01:34<00:00,  6.46it/s]\n",
            "100% 614/614 [01:34<00:00,  6.46it/s]\n",
            "100% 614/614 [01:34<00:00,  6.47it/s]\n",
            "100% 614/614 [01:34<00:00,  6.47it/s]\n",
            "100% 614/614 [01:34<00:00,  6.47it/s]\n",
            "100% 614/614 [01:34<00:00,  6.46it/s]\n",
            "100% 614/614 [01:34<00:00,  6.47it/s]\n",
            "100% 614/614 [01:34<00:00,  6.47it/s]\n",
            "100% 614/614 [01:34<00:00,  6.46it/s]\n",
            "100% 614/614 [01:35<00:00,  6.46it/s]\n",
            "100% 614/614 [01:34<00:00,  6.47it/s]\n",
            "100% 614/614 [01:34<00:00,  6.46it/s]\n",
            "100% 614/614 [01:34<00:00,  6.47it/s]\n",
            "100% 614/614 [01:34<00:00,  6.47it/s]\n",
            "100% 614/614 [01:34<00:00,  6.47it/s]\n",
            "100% 614/614 [01:34<00:00,  6.46it/s]\n",
            "100% 614/614 [01:34<00:00,  6.46it/s]\n",
            "100% 614/614 [01:34<00:00,  6.47it/s]\n",
            "100% 614/614 [01:34<00:00,  6.46it/s]\n",
            "100% 614/614 [01:34<00:00,  6.47it/s]\n",
            "100% 614/614 [01:34<00:00,  6.47it/s]\n",
            "100% 614/614 [01:34<00:00,  6.47it/s]\n",
            "100% 614/614 [01:34<00:00,  6.46it/s]\n",
            "100% 614/614 [01:34<00:00,  6.46it/s]\n",
            "100% 614/614 [01:34<00:00,  6.46it/s]\n",
            "100% 614/614 [01:35<00:00,  6.46it/s]\n",
            "100% 614/614 [01:34<00:00,  6.46it/s]\n",
            "100% 614/614 [01:34<00:00,  6.47it/s]\n",
            "100% 614/614 [01:34<00:00,  6.47it/s]\n",
            "100% 614/614 [01:34<00:00,  6.46it/s]\n",
            "100% 614/614 [01:34<00:00,  6.47it/s]\n",
            "100% 614/614 [01:34<00:00,  6.47it/s]\n",
            "100% 614/614 [01:34<00:00,  6.47it/s]\n",
            "100% 614/614 [01:34<00:00,  6.47it/s]\n",
            "100% 614/614 [01:34<00:00,  6.47it/s]\n",
            "100% 614/614 [01:34<00:00,  6.47it/s]\n",
            "100% 614/614 [01:34<00:00,  6.47it/s]\n",
            "100% 614/614 [01:34<00:00,  6.47it/s]\n",
            "100% 614/614 [01:35<00:00,  6.46it/s]\n",
            "100% 614/614 [01:35<00:00,  6.46it/s]\n",
            "100% 614/614 [01:35<00:00,  6.46it/s]\n",
            "100% 614/614 [01:35<00:00,  6.46it/s]\n",
            "100% 614/614 [01:35<00:00,  6.46it/s]\n",
            "100% 614/614 [01:35<00:00,  6.46it/s]\n",
            "100% 614/614 [01:35<00:00,  6.46it/s]\n",
            "test  auc:0.620  acc:0.945\n"
          ]
        }
      ],
      "source": [
        "!python /content/drive/MyDrive/medmnist/medmnist_test.py chestmnist 224 BILINEAR resnet50 100 128"
      ]
    },
    {
      "cell_type": "code",
      "execution_count": null,
      "metadata": {
        "colab": {
          "base_uri": "https://localhost:8080/"
        },
        "id": "cPihzHK0Hd5A",
        "outputId": "289d23a3-7319-41ed-de47-150abe2e11c8"
      },
      "outputs": [
        {
          "name": "stdout",
          "output_type": "stream",
          "text": [
            "If for semantic segmentation, please install mmsegmentation first\n",
            "If for detection, please install mmdetection first\n",
            "Using downloaded and verified file: /root/.medmnist/chestmnist.npz\n",
            "tcmalloc: large alloc 3937214464 bytes == 0xb3ba000 @  0x7fbab026d1e7 0x7fbaadaf714e 0x7fbaadb4f745 0x7fbaadb4f9bf 0x7fbaadbf2773 0x5aae14 0x49abe4 0x5d8868 0x4990ca 0x5d8868 0x4990ca 0x55cd91 0x55d743 0x642630 0x6426ae 0x644b78 0x64511c 0x677e5e 0x678029 0x7fbaafe6ac87 0x5e1baa\n",
            "tcmalloc: large alloc 3937214464 bytes == 0xf5f9a000 @  0x7fbab024fb6b 0x7fbab026f379 0x7fbaa2d39dc5 0x7fbaa2d17053 0x7fba45aaf0ba 0x7fba45aa71f3 0x7fba45aa724a 0x7fba45aa72af 0x7fba4614a049 0x7fba46b993a0 0x7fba46b99400 0x7fba46859723 0x7fba46b6bf0e 0x7fba4689c9db 0x7fba45dd3ab7 0x7fba4613add3 0x7fba46d2672b 0x7fba46574015 0x7fba46b6bc83 0x7fba46574015 0x7fba47f2e9cb 0x7fba47f2ee3e 0x7fba465f4579 0x7fba46133107 0x7fba46ee4b69 0x7fba4675ba7a 0x7fba6ed95dab 0x7fba6ed9b894 0x7fba6e9b549f 0x5d80be 0x5d8d8c\n",
            "Using downloaded and verified file: /root/.medmnist/chestmnist.npz\n",
            "/usr/local/lib/python3.8/dist-packages/torchvision/models/_utils.py:208: UserWarning: The parameter 'pretrained' is deprecated since 0.13 and may be removed in the future, please use 'weights' instead.\n",
            "  warnings.warn(\n",
            "/usr/local/lib/python3.8/dist-packages/torchvision/models/_utils.py:223: UserWarning: Arguments other than a weight enum or `None` for 'weights' are deprecated since 0.13 and may be removed in the future. The current behavior is equivalent to passing `weights=None`.\n",
            "  warnings.warn(msg)\n",
            "100% 614/614 [01:37<00:00,  6.30it/s]\n",
            "100% 614/614 [01:35<00:00,  6.46it/s]\n",
            "100% 614/614 [01:34<00:00,  6.46it/s]\n",
            "100% 614/614 [01:35<00:00,  6.46it/s]\n",
            "100% 614/614 [01:35<00:00,  6.46it/s]\n",
            "100% 614/614 [01:35<00:00,  6.46it/s]\n",
            "100% 614/614 [01:35<00:00,  6.46it/s]\n",
            "100% 614/614 [01:35<00:00,  6.46it/s]\n",
            "100% 614/614 [01:35<00:00,  6.46it/s]\n",
            "100% 614/614 [01:35<00:00,  6.46it/s]\n",
            "100% 614/614 [01:35<00:00,  6.46it/s]\n",
            "100% 614/614 [01:35<00:00,  6.46it/s]\n",
            "100% 614/614 [01:35<00:00,  6.46it/s]\n",
            "100% 614/614 [01:35<00:00,  6.46it/s]\n",
            "100% 614/614 [01:35<00:00,  6.46it/s]\n",
            "100% 614/614 [01:35<00:00,  6.46it/s]\n",
            "100% 614/614 [01:35<00:00,  6.46it/s]\n",
            "100% 614/614 [01:35<00:00,  6.46it/s]\n",
            "100% 614/614 [01:35<00:00,  6.46it/s]\n",
            "100% 614/614 [01:35<00:00,  6.46it/s]\n",
            "100% 614/614 [01:35<00:00,  6.46it/s]\n",
            "100% 614/614 [01:35<00:00,  6.46it/s]\n",
            "100% 614/614 [01:35<00:00,  6.46it/s]\n",
            "100% 614/614 [01:35<00:00,  6.46it/s]\n",
            "100% 614/614 [01:35<00:00,  6.46it/s]\n",
            "100% 614/614 [01:35<00:00,  6.46it/s]\n",
            "100% 614/614 [01:35<00:00,  6.46it/s]\n",
            "100% 614/614 [01:35<00:00,  6.46it/s]\n",
            "100% 614/614 [01:34<00:00,  6.46it/s]\n",
            "100% 614/614 [01:35<00:00,  6.46it/s]\n",
            "100% 614/614 [01:35<00:00,  6.46it/s]\n",
            "100% 614/614 [01:35<00:00,  6.46it/s]\n",
            "100% 614/614 [01:35<00:00,  6.46it/s]\n",
            "100% 614/614 [01:34<00:00,  6.46it/s]\n",
            "100% 614/614 [01:35<00:00,  6.46it/s]\n",
            "100% 614/614 [01:35<00:00,  6.46it/s]\n",
            "100% 614/614 [01:35<00:00,  6.46it/s]\n",
            "100% 614/614 [01:35<00:00,  6.46it/s]\n",
            "100% 614/614 [01:35<00:00,  6.46it/s]\n",
            "100% 614/614 [01:35<00:00,  6.46it/s]\n",
            "100% 614/614 [01:35<00:00,  6.46it/s]\n",
            "100% 614/614 [01:35<00:00,  6.46it/s]\n",
            "100% 614/614 [01:35<00:00,  6.46it/s]\n",
            "100% 614/614 [01:35<00:00,  6.46it/s]\n",
            "100% 614/614 [01:35<00:00,  6.46it/s]\n",
            "100% 614/614 [01:35<00:00,  6.46it/s]\n",
            "100% 614/614 [01:35<00:00,  6.46it/s]\n",
            "100% 614/614 [01:35<00:00,  6.46it/s]\n",
            "100% 614/614 [01:35<00:00,  6.46it/s]\n",
            "100% 614/614 [01:35<00:00,  6.46it/s]\n",
            "100% 614/614 [01:35<00:00,  6.46it/s]\n",
            "100% 614/614 [01:35<00:00,  6.46it/s]\n",
            "100% 614/614 [01:35<00:00,  6.46it/s]\n",
            "100% 614/614 [01:35<00:00,  6.46it/s]\n",
            "100% 614/614 [01:35<00:00,  6.46it/s]\n",
            "100% 614/614 [01:35<00:00,  6.46it/s]\n",
            "100% 614/614 [01:35<00:00,  6.46it/s]\n",
            "100% 614/614 [01:35<00:00,  6.46it/s]\n",
            "100% 614/614 [01:35<00:00,  6.46it/s]\n",
            "100% 614/614 [01:35<00:00,  6.46it/s]\n",
            "100% 614/614 [01:35<00:00,  6.46it/s]\n",
            "100% 614/614 [01:35<00:00,  6.46it/s]\n",
            "100% 614/614 [01:35<00:00,  6.46it/s]\n",
            "100% 614/614 [01:35<00:00,  6.46it/s]\n",
            "100% 614/614 [01:35<00:00,  6.46it/s]\n",
            "100% 614/614 [01:35<00:00,  6.46it/s]\n",
            "100% 614/614 [01:35<00:00,  6.46it/s]\n",
            "100% 614/614 [01:35<00:00,  6.46it/s]\n",
            "100% 614/614 [01:35<00:00,  6.46it/s]\n",
            "100% 614/614 [01:35<00:00,  6.46it/s]\n",
            "100% 614/614 [01:34<00:00,  6.46it/s]\n",
            "100% 614/614 [01:35<00:00,  6.46it/s]\n",
            "100% 614/614 [01:35<00:00,  6.46it/s]\n",
            "100% 614/614 [01:35<00:00,  6.46it/s]\n",
            "100% 614/614 [01:35<00:00,  6.46it/s]\n",
            "100% 614/614 [01:35<00:00,  6.46it/s]\n",
            "100% 614/614 [01:35<00:00,  6.46it/s]\n",
            "100% 614/614 [01:34<00:00,  6.46it/s]\n",
            "100% 614/614 [01:35<00:00,  6.46it/s]\n",
            "100% 614/614 [01:35<00:00,  6.46it/s]\n",
            "100% 614/614 [01:35<00:00,  6.46it/s]\n",
            "100% 614/614 [01:35<00:00,  6.46it/s]\n",
            "100% 614/614 [01:35<00:00,  6.46it/s]\n",
            "100% 614/614 [01:35<00:00,  6.46it/s]\n",
            "100% 614/614 [01:35<00:00,  6.46it/s]\n",
            "100% 614/614 [01:35<00:00,  6.46it/s]\n",
            "100% 614/614 [01:35<00:00,  6.46it/s]\n",
            "100% 614/614 [01:35<00:00,  6.46it/s]\n",
            "100% 614/614 [01:35<00:00,  6.46it/s]\n",
            "100% 614/614 [01:35<00:00,  6.46it/s]\n",
            "100% 614/614 [01:35<00:00,  6.46it/s]\n",
            "100% 614/614 [01:35<00:00,  6.46it/s]\n",
            "100% 614/614 [01:35<00:00,  6.46it/s]\n",
            "100% 614/614 [01:35<00:00,  6.46it/s]\n",
            "100% 614/614 [01:35<00:00,  6.46it/s]\n",
            "100% 614/614 [01:35<00:00,  6.46it/s]\n",
            "100% 614/614 [01:35<00:00,  6.46it/s]\n",
            "100% 614/614 [01:35<00:00,  6.46it/s]\n",
            "100% 614/614 [01:35<00:00,  6.46it/s]\n",
            "100% 614/614 [01:35<00:00,  6.46it/s]\n",
            "test  auc:0.616  acc:0.945\n"
          ]
        }
      ],
      "source": [
        "!python /content/drive/MyDrive/medmnist/medmnist_test.py chestmnist 224 HAMMING resnet50 100 128"
      ]
    },
    {
      "cell_type": "code",
      "execution_count": null,
      "metadata": {
        "colab": {
          "base_uri": "https://localhost:8080/"
        },
        "id": "iGnNxzkBHd5A",
        "outputId": "92a33ee0-d6e8-4e41-c232-00d60af219ef"
      },
      "outputs": [
        {
          "name": "stdout",
          "output_type": "stream",
          "text": [
            "If for semantic segmentation, please install mmsegmentation first\n",
            "If for detection, please install mmdetection first\n",
            "Using downloaded and verified file: /root/.medmnist/chestmnist.npz\n",
            "tcmalloc: large alloc 3937214464 bytes == 0xca30000 @  0x7fe1854401e7 0x7fe182cca14e 0x7fe182d22745 0x7fe182d229bf 0x7fe182dc5773 0x5aae14 0x49abe4 0x5d8868 0x4990ca 0x5d8868 0x4990ca 0x55cd91 0x55d743 0x642630 0x6426ae 0x644b78 0x64511c 0x677e5e 0x678029 0x7fe18503dc87 0x5e1baa\n",
            "tcmalloc: large alloc 3937214464 bytes == 0xf7610000 @  0x7fe185422b6b 0x7fe185442379 0x7fe177f0cdc5 0x7fe177eea053 0x7fe11ac820ba 0x7fe11ac7a1f3 0x7fe11ac7a24a 0x7fe11ac7a2af 0x7fe11b31d049 0x7fe11bd6c3a0 0x7fe11bd6c400 0x7fe11ba2c723 0x7fe11bd3ef0e 0x7fe11ba6f9db 0x7fe11afa6ab7 0x7fe11b30ddd3 0x7fe11bef972b 0x7fe11b747015 0x7fe11bd3ec83 0x7fe11b747015 0x7fe11d1019cb 0x7fe11d101e3e 0x7fe11b7c7579 0x7fe11b306107 0x7fe11c0b7b69 0x7fe11b92ea7a 0x7fe143f68dab 0x7fe143f6e894 0x7fe143b8849f 0x5d80be 0x5d8d8c\n",
            "Using downloaded and verified file: /root/.medmnist/chestmnist.npz\n",
            "/usr/local/lib/python3.8/dist-packages/torchvision/models/_utils.py:208: UserWarning: The parameter 'pretrained' is deprecated since 0.13 and may be removed in the future, please use 'weights' instead.\n",
            "  warnings.warn(\n",
            "/usr/local/lib/python3.8/dist-packages/torchvision/models/_utils.py:223: UserWarning: Arguments other than a weight enum or `None` for 'weights' are deprecated since 0.13 and may be removed in the future. The current behavior is equivalent to passing `weights=None`.\n",
            "  warnings.warn(msg)\n",
            "100% 614/614 [01:37<00:00,  6.29it/s]\n",
            "100% 614/614 [01:35<00:00,  6.45it/s]\n",
            "100% 614/614 [01:35<00:00,  6.45it/s]\n",
            "100% 614/614 [01:35<00:00,  6.45it/s]\n",
            "100% 614/614 [01:35<00:00,  6.45it/s]\n",
            "100% 614/614 [01:35<00:00,  6.45it/s]\n",
            "100% 614/614 [01:35<00:00,  6.45it/s]\n",
            "100% 614/614 [01:35<00:00,  6.45it/s]\n",
            "100% 614/614 [01:35<00:00,  6.45it/s]\n",
            "100% 614/614 [01:35<00:00,  6.45it/s]\n",
            "100% 614/614 [01:35<00:00,  6.45it/s]\n",
            "100% 614/614 [01:35<00:00,  6.45it/s]\n",
            "100% 614/614 [01:35<00:00,  6.45it/s]\n",
            "100% 614/614 [01:35<00:00,  6.45it/s]\n",
            "100% 614/614 [01:35<00:00,  6.45it/s]\n",
            "100% 614/614 [01:35<00:00,  6.45it/s]\n",
            "100% 614/614 [01:35<00:00,  6.45it/s]\n",
            "100% 614/614 [01:35<00:00,  6.45it/s]\n",
            "100% 614/614 [01:35<00:00,  6.45it/s]\n",
            "100% 614/614 [01:35<00:00,  6.45it/s]\n",
            "100% 614/614 [01:35<00:00,  6.45it/s]\n",
            "100% 614/614 [01:35<00:00,  6.45it/s]\n",
            "100% 614/614 [01:35<00:00,  6.45it/s]\n",
            "100% 614/614 [01:35<00:00,  6.45it/s]\n",
            "100% 614/614 [01:35<00:00,  6.45it/s]\n",
            "100% 614/614 [01:35<00:00,  6.45it/s]\n",
            "100% 614/614 [01:35<00:00,  6.45it/s]\n",
            "100% 614/614 [01:35<00:00,  6.45it/s]\n",
            "100% 614/614 [01:35<00:00,  6.45it/s]\n",
            "100% 614/614 [01:35<00:00,  6.45it/s]\n",
            "100% 614/614 [01:35<00:00,  6.45it/s]\n",
            "100% 614/614 [01:35<00:00,  6.45it/s]\n",
            "100% 614/614 [01:35<00:00,  6.45it/s]\n",
            "100% 614/614 [01:35<00:00,  6.45it/s]\n",
            "100% 614/614 [01:35<00:00,  6.45it/s]\n",
            "100% 614/614 [01:35<00:00,  6.45it/s]\n",
            "100% 614/614 [01:35<00:00,  6.45it/s]\n",
            "100% 614/614 [01:35<00:00,  6.45it/s]\n",
            "100% 614/614 [01:35<00:00,  6.45it/s]\n",
            "100% 614/614 [01:35<00:00,  6.45it/s]\n",
            "100% 614/614 [01:35<00:00,  6.45it/s]\n",
            "100% 614/614 [01:35<00:00,  6.45it/s]\n",
            "100% 614/614 [01:35<00:00,  6.45it/s]\n",
            "100% 614/614 [01:35<00:00,  6.45it/s]\n",
            "100% 614/614 [01:35<00:00,  6.45it/s]\n",
            "100% 614/614 [01:35<00:00,  6.45it/s]\n",
            "100% 614/614 [01:35<00:00,  6.45it/s]\n",
            "100% 614/614 [01:35<00:00,  6.45it/s]\n",
            "100% 614/614 [01:35<00:00,  6.45it/s]\n",
            "100% 614/614 [01:35<00:00,  6.45it/s]\n",
            "100% 614/614 [01:35<00:00,  6.45it/s]\n",
            "100% 614/614 [01:35<00:00,  6.45it/s]\n",
            "100% 614/614 [01:35<00:00,  6.45it/s]\n",
            "100% 614/614 [01:35<00:00,  6.45it/s]\n",
            "100% 614/614 [01:35<00:00,  6.45it/s]\n",
            "100% 614/614 [01:35<00:00,  6.45it/s]\n",
            "100% 614/614 [01:35<00:00,  6.45it/s]\n",
            "100% 614/614 [01:35<00:00,  6.45it/s]\n",
            "100% 614/614 [01:35<00:00,  6.45it/s]\n",
            "100% 614/614 [01:35<00:00,  6.45it/s]\n",
            "100% 614/614 [01:35<00:00,  6.45it/s]\n",
            "100% 614/614 [01:35<00:00,  6.45it/s]\n",
            "100% 614/614 [01:35<00:00,  6.45it/s]\n",
            "100% 614/614 [01:35<00:00,  6.45it/s]\n",
            "100% 614/614 [01:35<00:00,  6.45it/s]\n",
            "100% 614/614 [01:35<00:00,  6.45it/s]\n",
            "100% 614/614 [01:35<00:00,  6.45it/s]\n",
            "100% 614/614 [01:35<00:00,  6.45it/s]\n",
            "100% 614/614 [01:35<00:00,  6.45it/s]\n",
            "100% 614/614 [01:35<00:00,  6.45it/s]\n",
            "100% 614/614 [01:35<00:00,  6.45it/s]\n",
            "100% 614/614 [01:35<00:00,  6.45it/s]\n",
            "100% 614/614 [01:35<00:00,  6.45it/s]\n",
            "100% 614/614 [01:35<00:00,  6.45it/s]\n",
            "100% 614/614 [01:35<00:00,  6.45it/s]\n",
            "100% 614/614 [01:35<00:00,  6.45it/s]\n",
            "100% 614/614 [01:35<00:00,  6.45it/s]\n",
            "100% 614/614 [01:35<00:00,  6.45it/s]\n",
            "100% 614/614 [01:35<00:00,  6.45it/s]\n",
            "100% 614/614 [01:35<00:00,  6.45it/s]\n",
            "100% 614/614 [01:35<00:00,  6.45it/s]\n",
            "100% 614/614 [01:35<00:00,  6.45it/s]\n",
            "100% 614/614 [01:35<00:00,  6.45it/s]\n",
            "100% 614/614 [01:35<00:00,  6.45it/s]\n",
            "100% 614/614 [01:35<00:00,  6.45it/s]\n",
            "100% 614/614 [01:35<00:00,  6.45it/s]\n",
            "100% 614/614 [01:35<00:00,  6.45it/s]\n",
            "100% 614/614 [01:35<00:00,  6.45it/s]\n",
            "100% 614/614 [01:35<00:00,  6.45it/s]\n",
            "100% 614/614 [01:35<00:00,  6.45it/s]\n",
            "100% 614/614 [01:35<00:00,  6.45it/s]\n",
            "100% 614/614 [01:35<00:00,  6.45it/s]\n",
            "100% 614/614 [01:35<00:00,  6.45it/s]\n",
            "100% 614/614 [01:35<00:00,  6.45it/s]\n",
            "100% 614/614 [01:35<00:00,  6.45it/s]\n",
            "100% 614/614 [01:35<00:00,  6.45it/s]\n",
            "100% 614/614 [01:35<00:00,  6.45it/s]\n",
            "100% 614/614 [01:35<00:00,  6.45it/s]\n",
            "100% 614/614 [01:35<00:00,  6.45it/s]\n",
            "100% 614/614 [01:35<00:00,  6.45it/s]\n",
            "test  auc:0.637  acc:0.941\n"
          ]
        }
      ],
      "source": [
        "!python /content/drive/MyDrive/medmnist/medmnist_test.py chestmnist 224 BICUBIC resnet50 100 128"
      ]
    },
    {
      "cell_type": "code",
      "execution_count": null,
      "metadata": {
        "colab": {
          "base_uri": "https://localhost:8080/"
        },
        "id": "I65GGpe4Hd5A",
        "outputId": "f0fab259-ce82-4c15-c85f-7605037c24a6"
      },
      "outputs": [
        {
          "name": "stdout",
          "output_type": "stream",
          "text": [
            "If for semantic segmentation, please install mmsegmentation first\n",
            "If for detection, please install mmdetection first\n",
            "Using downloaded and verified file: /root/.medmnist/chestmnist.npz\n",
            "tcmalloc: large alloc 3937214464 bytes == 0xb0e2000 @  0x7fa6f99dd1e7 0x7fa6f726714e 0x7fa6f72bf745 0x7fa6f72bf9bf 0x7fa6f7362773 0x5aae14 0x49abe4 0x5d8868 0x4990ca 0x5d8868 0x4990ca 0x55cd91 0x55d743 0x642630 0x6426ae 0x644b78 0x64511c 0x677e5e 0x678029 0x7fa6f95dac87 0x5e1baa\n",
            "tcmalloc: large alloc 3937214464 bytes == 0xf5cc2000 @  0x7fa6f99bfb6b 0x7fa6f99df379 0x7fa6ec4a9dc5 0x7fa6ec487053 0x7fa68f21f0ba 0x7fa68f2171f3 0x7fa68f21724a 0x7fa68f2172af 0x7fa68f8ba049 0x7fa6903093a0 0x7fa690309400 0x7fa68ffc9723 0x7fa6902dbf0e 0x7fa69000c9db 0x7fa68f543ab7 0x7fa68f8aadd3 0x7fa69049672b 0x7fa68fce4015 0x7fa6902dbc83 0x7fa68fce4015 0x7fa69169e9cb 0x7fa69169ee3e 0x7fa68fd64579 0x7fa68f8a3107 0x7fa690654b69 0x7fa68fecba7a 0x7fa6b8505dab 0x7fa6b850b894 0x7fa6b812549f 0x5d80be 0x5d8d8c\n",
            "Using downloaded and verified file: /root/.medmnist/chestmnist.npz\n",
            "/usr/local/lib/python3.8/dist-packages/torchvision/models/_utils.py:208: UserWarning: The parameter 'pretrained' is deprecated since 0.13 and may be removed in the future, please use 'weights' instead.\n",
            "  warnings.warn(\n",
            "/usr/local/lib/python3.8/dist-packages/torchvision/models/_utils.py:223: UserWarning: Arguments other than a weight enum or `None` for 'weights' are deprecated since 0.13 and may be removed in the future. The current behavior is equivalent to passing `weights=None`.\n",
            "  warnings.warn(msg)\n",
            "100% 614/614 [01:37<00:00,  6.30it/s]\n",
            "100% 614/614 [01:35<00:00,  6.46it/s]\n",
            "100% 614/614 [01:35<00:00,  6.46it/s]\n",
            "100% 614/614 [01:35<00:00,  6.46it/s]\n",
            "100% 614/614 [01:35<00:00,  6.46it/s]\n",
            "100% 614/614 [01:35<00:00,  6.46it/s]\n",
            "100% 614/614 [01:35<00:00,  6.46it/s]\n",
            "100% 614/614 [01:35<00:00,  6.46it/s]\n",
            "100% 614/614 [01:34<00:00,  6.46it/s]\n",
            "100% 614/614 [01:35<00:00,  6.46it/s]\n",
            "100% 614/614 [01:34<00:00,  6.46it/s]\n",
            "100% 614/614 [01:35<00:00,  6.46it/s]\n",
            "100% 614/614 [01:35<00:00,  6.46it/s]\n",
            "100% 614/614 [01:35<00:00,  6.46it/s]\n",
            "100% 614/614 [01:35<00:00,  6.46it/s]\n",
            "100% 614/614 [01:35<00:00,  6.46it/s]\n",
            "100% 614/614 [01:35<00:00,  6.46it/s]\n",
            "100% 614/614 [01:35<00:00,  6.46it/s]\n",
            "100% 614/614 [01:35<00:00,  6.46it/s]\n",
            "100% 614/614 [01:35<00:00,  6.46it/s]\n",
            "100% 614/614 [01:35<00:00,  6.46it/s]\n",
            "100% 614/614 [01:35<00:00,  6.46it/s]\n",
            "100% 614/614 [01:35<00:00,  6.46it/s]\n",
            "100% 614/614 [01:35<00:00,  6.46it/s]\n",
            "100% 614/614 [01:35<00:00,  6.46it/s]\n",
            "100% 614/614 [01:35<00:00,  6.46it/s]\n",
            "100% 614/614 [01:35<00:00,  6.46it/s]\n",
            "100% 614/614 [01:35<00:00,  6.46it/s]\n",
            "100% 614/614 [01:35<00:00,  6.46it/s]\n",
            "100% 614/614 [01:35<00:00,  6.46it/s]\n",
            "100% 614/614 [01:34<00:00,  6.46it/s]\n",
            "100% 614/614 [01:35<00:00,  6.46it/s]\n",
            "100% 614/614 [01:35<00:00,  6.46it/s]\n",
            "100% 614/614 [01:35<00:00,  6.46it/s]\n",
            "100% 614/614 [01:35<00:00,  6.46it/s]\n",
            "100% 614/614 [01:35<00:00,  6.46it/s]\n",
            "100% 614/614 [01:35<00:00,  6.46it/s]\n",
            "100% 614/614 [01:35<00:00,  6.46it/s]\n",
            "100% 614/614 [01:35<00:00,  6.46it/s]\n",
            "100% 614/614 [01:34<00:00,  6.46it/s]\n",
            "100% 614/614 [01:35<00:00,  6.46it/s]\n",
            "100% 614/614 [01:35<00:00,  6.46it/s]\n",
            "100% 614/614 [01:35<00:00,  6.46it/s]\n",
            "100% 614/614 [01:35<00:00,  6.46it/s]\n",
            "100% 614/614 [01:35<00:00,  6.46it/s]\n",
            "100% 614/614 [01:35<00:00,  6.46it/s]\n",
            "100% 614/614 [01:35<00:00,  6.46it/s]\n",
            "100% 614/614 [01:35<00:00,  6.46it/s]\n",
            "100% 614/614 [01:35<00:00,  6.46it/s]\n",
            "100% 614/614 [01:35<00:00,  6.46it/s]\n",
            "100% 614/614 [01:35<00:00,  6.46it/s]\n",
            "100% 614/614 [01:35<00:00,  6.46it/s]\n",
            "100% 614/614 [01:35<00:00,  6.46it/s]\n",
            "100% 614/614 [01:34<00:00,  6.46it/s]\n",
            "100% 614/614 [01:35<00:00,  6.46it/s]\n",
            "100% 614/614 [01:35<00:00,  6.46it/s]\n",
            "100% 614/614 [01:35<00:00,  6.46it/s]\n",
            "100% 614/614 [01:34<00:00,  6.46it/s]\n",
            "100% 614/614 [01:35<00:00,  6.46it/s]\n",
            "100% 614/614 [01:35<00:00,  6.46it/s]\n",
            "100% 614/614 [01:35<00:00,  6.46it/s]\n",
            "100% 614/614 [01:35<00:00,  6.46it/s]\n",
            "100% 614/614 [01:35<00:00,  6.46it/s]\n",
            "100% 614/614 [01:35<00:00,  6.46it/s]\n",
            "100% 614/614 [01:35<00:00,  6.46it/s]\n",
            "100% 614/614 [01:35<00:00,  6.46it/s]\n",
            "100% 614/614 [01:35<00:00,  6.46it/s]\n",
            "100% 614/614 [01:35<00:00,  6.46it/s]\n",
            "100% 614/614 [01:35<00:00,  6.46it/s]\n",
            "100% 614/614 [01:34<00:00,  6.46it/s]\n",
            "100% 614/614 [01:35<00:00,  6.46it/s]\n",
            "100% 614/614 [01:35<00:00,  6.46it/s]\n",
            "100% 614/614 [01:35<00:00,  6.46it/s]\n",
            "100% 614/614 [01:35<00:00,  6.46it/s]\n",
            "100% 614/614 [01:35<00:00,  6.46it/s]\n",
            "100% 614/614 [01:35<00:00,  6.46it/s]\n",
            "100% 614/614 [01:34<00:00,  6.46it/s]\n",
            "100% 614/614 [01:35<00:00,  6.46it/s]\n",
            "100% 614/614 [01:35<00:00,  6.46it/s]\n",
            "100% 614/614 [01:35<00:00,  6.46it/s]\n",
            "100% 614/614 [01:35<00:00,  6.46it/s]\n",
            "100% 614/614 [01:35<00:00,  6.46it/s]\n",
            "100% 614/614 [01:35<00:00,  6.46it/s]\n",
            "100% 614/614 [01:35<00:00,  6.46it/s]\n",
            "100% 614/614 [01:35<00:00,  6.46it/s]\n",
            "100% 614/614 [01:35<00:00,  6.46it/s]\n",
            "100% 614/614 [01:35<00:00,  6.46it/s]\n",
            "100% 614/614 [01:35<00:00,  6.46it/s]\n",
            "100% 614/614 [01:35<00:00,  6.46it/s]\n",
            "100% 614/614 [01:35<00:00,  6.46it/s]\n",
            "100% 614/614 [01:35<00:00,  6.46it/s]\n",
            "100% 614/614 [01:35<00:00,  6.46it/s]\n",
            "100% 614/614 [01:34<00:00,  6.46it/s]\n",
            "100% 614/614 [01:34<00:00,  6.46it/s]\n",
            "100% 614/614 [01:35<00:00,  6.46it/s]\n",
            "100% 614/614 [01:35<00:00,  6.46it/s]\n",
            "100% 614/614 [01:35<00:00,  6.46it/s]\n",
            "100% 614/614 [01:35<00:00,  6.46it/s]\n",
            "100% 614/614 [01:35<00:00,  6.46it/s]\n",
            "100% 614/614 [01:35<00:00,  6.46it/s]\n",
            "test  auc:0.616  acc:0.945\n"
          ]
        }
      ],
      "source": [
        "!python /content/drive/MyDrive/medmnist/medmnist_test.py chestmnist 224 LANCZOS resnet50 100 128"
      ]
    },
    {
      "cell_type": "markdown",
      "metadata": {
        "id": "OuFGhVcDFVL5"
      },
      "source": [
        "## chestmnist_poolformer"
      ]
    },
    {
      "cell_type": "code",
      "execution_count": null,
      "metadata": {
        "colab": {
          "base_uri": "https://localhost:8080/"
        },
        "id": "yyRCTX_kHm1X",
        "outputId": "dd24021f-83d0-4bb5-dcd8-1adade3aa9c3"
      },
      "outputs": [
        {
          "name": "stdout",
          "output_type": "stream",
          "text": [
            "If for semantic segmentation, please install mmsegmentation first\n",
            "If for detection, please install mmdetection first\n",
            "Downloading https://zenodo.org/record/6496656/files/chestmnist.npz?download=1 to /root/.medmnist/chestmnist.npz\n",
            "100% 82802576/82802576 [02:21<00:00, 585231.61it/s]\n",
            "tcmalloc: large alloc 3937214464 bytes == 0xb328000 @  0x7ff912f2f1e7 0x7ff9107b914e 0x7ff910811745 0x7ff9108119bf 0x7ff9108b4773 0x5aae14 0x49abe4 0x5d8868 0x4990ca 0x5d8868 0x4990ca 0x55cd91 0x55d743 0x642630 0x6426ae 0x644b78 0x64511c 0x677e5e 0x678029 0x7ff912b2cc87 0x5e1baa\n",
            "tcmalloc: large alloc 3937214464 bytes == 0xf5f08000 @  0x7ff912f11b6b 0x7ff912f31379 0x7ff905211935 0x7ff9051ef093 0x7ff8a8bf84ca 0x7ff8a8bf0603 0x7ff8a8bf065a 0x7ff8a8bf06bf 0x7ff8a9293469 0x7ff8a9ce27b0 0x7ff8a9ce2810 0x7ff8a99a2b33 0x7ff8a9cb531e 0x7ff8a99e5deb 0x7ff8a8f1cec7 0x7ff8a928413b 0x7ff8a9e6fb3b 0x7ff8a96bd425 0x7ff8a9cb5093 0x7ff8a96bd425 0x7ff8ab075a0b 0x7ff8ab075e7e 0x7ff8a973d989 0x7ff8a927c517 0x7ff8aa02df79 0x7ff8a98a4e8a 0x7ff8d1c6645b 0x7ff8d1c6b606 0x7ff8d189c25f 0x5d80be 0x5d8d8c\n",
            "Using downloaded and verified file: /root/.medmnist/chestmnist.npz\n",
            "100% 614/614 [01:04<00:00,  9.48it/s]\n",
            "100% 614/614 [00:56<00:00, 10.89it/s]\n",
            "100% 614/614 [00:56<00:00, 10.89it/s]\n",
            "100% 614/614 [00:56<00:00, 10.90it/s]\n",
            "100% 614/614 [00:56<00:00, 10.89it/s]\n",
            "100% 614/614 [00:56<00:00, 10.89it/s]\n",
            "100% 614/614 [00:56<00:00, 10.89it/s]\n",
            "100% 614/614 [00:56<00:00, 10.89it/s]\n",
            "100% 614/614 [00:56<00:00, 10.90it/s]\n",
            "100% 614/614 [00:56<00:00, 10.88it/s]\n",
            "100% 614/614 [00:56<00:00, 10.88it/s]\n",
            "100% 614/614 [00:56<00:00, 10.88it/s]\n",
            "100% 614/614 [00:56<00:00, 10.88it/s]\n",
            "100% 614/614 [00:56<00:00, 10.88it/s]\n",
            "100% 614/614 [00:56<00:00, 10.88it/s]\n",
            "100% 614/614 [00:56<00:00, 10.87it/s]\n",
            "100% 614/614 [00:56<00:00, 10.89it/s]\n",
            "100% 614/614 [00:56<00:00, 10.89it/s]\n",
            "100% 614/614 [00:56<00:00, 10.88it/s]\n",
            "100% 614/614 [00:56<00:00, 10.88it/s]\n",
            "100% 614/614 [00:56<00:00, 10.89it/s]\n",
            "100% 614/614 [00:56<00:00, 10.88it/s]\n",
            "100% 614/614 [00:56<00:00, 10.88it/s]\n",
            "100% 614/614 [00:56<00:00, 10.88it/s]\n",
            "100% 614/614 [00:56<00:00, 10.87it/s]\n",
            "100% 614/614 [00:56<00:00, 10.89it/s]\n",
            "100% 614/614 [00:56<00:00, 10.88it/s]\n",
            "100% 614/614 [00:56<00:00, 10.88it/s]\n",
            "100% 614/614 [00:56<00:00, 10.88it/s]\n",
            "100% 614/614 [00:56<00:00, 10.88it/s]\n",
            "100% 614/614 [00:56<00:00, 10.88it/s]\n",
            "100% 614/614 [00:56<00:00, 10.88it/s]\n",
            "100% 614/614 [00:56<00:00, 10.88it/s]\n",
            "100% 614/614 [00:56<00:00, 10.89it/s]\n",
            "100% 614/614 [00:56<00:00, 10.89it/s]\n",
            "100% 614/614 [00:56<00:00, 10.89it/s]\n",
            "100% 614/614 [00:56<00:00, 10.90it/s]\n",
            "100% 614/614 [00:56<00:00, 10.90it/s]\n",
            "100% 614/614 [00:56<00:00, 10.90it/s]\n",
            "100% 614/614 [00:56<00:00, 10.89it/s]\n",
            "100% 614/614 [00:56<00:00, 10.90it/s]\n",
            "100% 614/614 [00:56<00:00, 10.90it/s]\n",
            "100% 614/614 [00:56<00:00, 10.90it/s]\n",
            "100% 614/614 [00:56<00:00, 10.90it/s]\n",
            "100% 614/614 [00:56<00:00, 10.90it/s]\n",
            "100% 614/614 [00:56<00:00, 10.92it/s]\n",
            "100% 614/614 [00:56<00:00, 10.94it/s]\n",
            "100% 614/614 [00:56<00:00, 10.93it/s]\n",
            "100% 614/614 [00:56<00:00, 10.92it/s]\n",
            "100% 614/614 [00:56<00:00, 10.93it/s]\n",
            "100% 614/614 [00:56<00:00, 10.93it/s]\n",
            "100% 614/614 [00:56<00:00, 10.94it/s]\n",
            "100% 614/614 [00:56<00:00, 10.94it/s]\n",
            "100% 614/614 [00:56<00:00, 10.93it/s]\n",
            "100% 614/614 [00:56<00:00, 10.93it/s]\n",
            "100% 614/614 [00:56<00:00, 10.94it/s]\n",
            "100% 614/614 [00:56<00:00, 10.94it/s]\n",
            "100% 614/614 [00:56<00:00, 10.93it/s]\n",
            "100% 614/614 [00:56<00:00, 10.94it/s]\n",
            "100% 614/614 [00:56<00:00, 10.92it/s]\n",
            "100% 614/614 [00:56<00:00, 10.94it/s]\n",
            "100% 614/614 [00:56<00:00, 10.94it/s]\n",
            "100% 614/614 [00:56<00:00, 10.94it/s]\n",
            "100% 614/614 [00:56<00:00, 10.93it/s]\n",
            "100% 614/614 [00:56<00:00, 10.92it/s]\n",
            "100% 614/614 [00:56<00:00, 10.94it/s]\n",
            "100% 614/614 [00:56<00:00, 10.94it/s]\n",
            "100% 614/614 [00:56<00:00, 10.94it/s]\n",
            "100% 614/614 [00:56<00:00, 10.93it/s]\n",
            "100% 614/614 [00:56<00:00, 10.93it/s]\n",
            "100% 614/614 [00:56<00:00, 10.94it/s]\n",
            "100% 614/614 [00:56<00:00, 10.95it/s]\n",
            "100% 614/614 [00:56<00:00, 10.95it/s]\n",
            "100% 614/614 [00:56<00:00, 10.94it/s]\n",
            "100% 614/614 [00:56<00:00, 10.93it/s]\n",
            "100% 614/614 [00:56<00:00, 10.94it/s]\n",
            "100% 614/614 [00:56<00:00, 10.94it/s]\n",
            "100% 614/614 [00:56<00:00, 10.94it/s]\n",
            "100% 614/614 [00:56<00:00, 10.93it/s]\n",
            "100% 614/614 [00:56<00:00, 10.93it/s]\n",
            "100% 614/614 [00:56<00:00, 10.94it/s]\n",
            "100% 614/614 [00:56<00:00, 10.94it/s]\n",
            "100% 614/614 [00:56<00:00, 10.94it/s]\n",
            "100% 614/614 [00:56<00:00, 10.94it/s]\n",
            "100% 614/614 [00:56<00:00, 10.93it/s]\n",
            "100% 614/614 [00:56<00:00, 10.94it/s]\n",
            "100% 614/614 [00:56<00:00, 10.95it/s]\n",
            "100% 614/614 [00:56<00:00, 10.94it/s]\n",
            "100% 614/614 [00:56<00:00, 10.93it/s]\n",
            "100% 614/614 [00:56<00:00, 10.93it/s]\n",
            "100% 614/614 [00:56<00:00, 10.95it/s]\n",
            "100% 614/614 [00:56<00:00, 10.94it/s]\n",
            "100% 614/614 [00:56<00:00, 10.94it/s]\n",
            "100% 614/614 [00:56<00:00, 10.93it/s]\n",
            "100% 614/614 [00:56<00:00, 10.94it/s]\n",
            "100% 614/614 [00:56<00:00, 10.94it/s]\n",
            "100% 614/614 [00:56<00:00, 10.94it/s]\n",
            "100% 614/614 [00:56<00:00, 10.94it/s]\n",
            "100% 614/614 [00:56<00:00, 10.94it/s]\n",
            "100% 614/614 [00:56<00:00, 10.93it/s]\n",
            "test  auc:0.527  acc:0.947\n"
          ]
        }
      ],
      "source": [
        "!python /content/drive/MyDrive/medmnist/medmnist_test.py chestmnist 224 NEAREST poolformer 100 128"
      ]
    },
    {
      "cell_type": "code",
      "execution_count": null,
      "metadata": {
        "colab": {
          "base_uri": "https://localhost:8080/"
        },
        "id": "N4X7XxeAHm1Y",
        "outputId": "dfbeab04-57de-408c-d0e9-67fc810fb46c"
      },
      "outputs": [
        {
          "name": "stdout",
          "output_type": "stream",
          "text": [
            "If for semantic segmentation, please install mmsegmentation first\n",
            "If for detection, please install mmdetection first\n",
            "Using downloaded and verified file: /root/.medmnist/chestmnist.npz\n",
            "tcmalloc: large alloc 3937214464 bytes == 0xb250000 @  0x7f9fec4fc1e7 0x7f9fe9d8614e 0x7f9fe9dde745 0x7f9fe9dde9bf 0x7f9fe9e81773 0x5aae14 0x49abe4 0x5d8868 0x4990ca 0x5d8868 0x4990ca 0x55cd91 0x55d743 0x642630 0x6426ae 0x644b78 0x64511c 0x677e5e 0x678029 0x7f9fec0f9c87 0x5e1baa\n",
            "tcmalloc: large alloc 3937214464 bytes == 0xf5e30000 @  0x7f9fec4deb6b 0x7f9fec4fe379 0x7f9fdefc9935 0x7f9fdefa7093 0x7f9f821c54ca 0x7f9f821bd603 0x7f9f821bd65a 0x7f9f821bd6bf 0x7f9f82860469 0x7f9f832af7b0 0x7f9f832af810 0x7f9f82f6fb33 0x7f9f8328231e 0x7f9f82fb2deb 0x7f9f824e9ec7 0x7f9f8285113b 0x7f9f8343cb3b 0x7f9f82c8a425 0x7f9f83282093 0x7f9f82c8a425 0x7f9f84642a0b 0x7f9f84642e7e 0x7f9f82d0a989 0x7f9f82849517 0x7f9f835faf79 0x7f9f82e71e8a 0x7f9fab23345b 0x7f9fab238606 0x7f9faae6925f 0x5d80be 0x5d8d8c\n",
            "Using downloaded and verified file: /root/.medmnist/chestmnist.npz\n",
            "100% 614/614 [00:58<00:00, 10.46it/s]\n",
            "100% 614/614 [00:56<00:00, 10.89it/s]\n",
            "100% 614/614 [00:56<00:00, 10.91it/s]\n",
            "100% 614/614 [00:56<00:00, 10.93it/s]\n",
            "100% 614/614 [00:56<00:00, 10.92it/s]\n",
            "100% 614/614 [00:56<00:00, 10.92it/s]\n",
            "100% 614/614 [00:56<00:00, 10.92it/s]\n",
            "100% 614/614 [00:56<00:00, 10.91it/s]\n",
            "100% 614/614 [00:56<00:00, 10.92it/s]\n",
            "100% 614/614 [00:56<00:00, 10.92it/s]\n",
            "100% 614/614 [00:56<00:00, 10.92it/s]\n",
            "100% 614/614 [00:56<00:00, 10.91it/s]\n",
            "100% 614/614 [00:56<00:00, 10.90it/s]\n",
            "100% 614/614 [00:56<00:00, 10.93it/s]\n",
            "100% 614/614 [00:56<00:00, 10.93it/s]\n",
            "100% 614/614 [00:56<00:00, 10.93it/s]\n",
            "100% 614/614 [00:56<00:00, 10.92it/s]\n",
            "100% 614/614 [00:56<00:00, 10.91it/s]\n",
            "100% 614/614 [00:56<00:00, 10.93it/s]\n",
            "100% 614/614 [00:56<00:00, 10.93it/s]\n",
            "100% 614/614 [00:56<00:00, 10.93it/s]\n",
            "100% 614/614 [00:56<00:00, 10.93it/s]\n",
            "100% 614/614 [00:56<00:00, 10.92it/s]\n",
            "100% 614/614 [00:56<00:00, 10.93it/s]\n",
            "100% 614/614 [00:56<00:00, 10.92it/s]\n",
            "100% 614/614 [00:56<00:00, 10.93it/s]\n",
            "100% 614/614 [00:56<00:00, 10.92it/s]\n",
            "100% 614/614 [00:56<00:00, 10.91it/s]\n",
            "100% 614/614 [00:56<00:00, 10.93it/s]\n",
            "100% 614/614 [00:56<00:00, 10.93it/s]\n",
            "100% 614/614 [00:56<00:00, 10.93it/s]\n",
            "100% 614/614 [00:56<00:00, 10.93it/s]\n",
            "100% 614/614 [00:56<00:00, 10.92it/s]\n",
            "100% 614/614 [00:56<00:00, 10.92it/s]\n",
            "100% 614/614 [00:56<00:00, 10.91it/s]\n",
            "100% 614/614 [00:56<00:00, 10.91it/s]\n",
            "100% 614/614 [00:56<00:00, 10.91it/s]\n",
            "100% 614/614 [00:56<00:00, 10.91it/s]\n",
            "100% 614/614 [00:56<00:00, 10.92it/s]\n",
            "100% 614/614 [00:56<00:00, 10.92it/s]\n",
            "100% 614/614 [00:56<00:00, 10.92it/s]\n",
            "100% 614/614 [00:56<00:00, 10.92it/s]\n",
            "100% 614/614 [00:56<00:00, 10.91it/s]\n",
            "100% 614/614 [00:56<00:00, 10.91it/s]\n",
            "100% 614/614 [00:56<00:00, 10.92it/s]\n",
            "100% 614/614 [00:56<00:00, 10.93it/s]\n",
            "100% 614/614 [00:56<00:00, 10.91it/s]\n",
            "100% 614/614 [00:56<00:00, 10.92it/s]\n",
            "100% 614/614 [00:56<00:00, 10.93it/s]\n",
            "100% 614/614 [00:56<00:00, 10.93it/s]\n",
            "100% 614/614 [00:56<00:00, 10.93it/s]\n",
            "100% 614/614 [00:56<00:00, 10.92it/s]\n",
            "100% 614/614 [00:56<00:00, 10.92it/s]\n",
            "100% 614/614 [00:56<00:00, 10.93it/s]\n",
            "100% 614/614 [00:56<00:00, 10.93it/s]\n",
            "100% 614/614 [00:56<00:00, 10.92it/s]\n",
            "100% 614/614 [00:56<00:00, 10.91it/s]\n",
            "100% 614/614 [00:56<00:00, 10.91it/s]\n",
            "100% 614/614 [00:56<00:00, 10.92it/s]\n",
            "100% 614/614 [00:56<00:00, 10.92it/s]\n",
            "100% 614/614 [00:56<00:00, 10.90it/s]\n",
            "100% 614/614 [00:56<00:00, 10.91it/s]\n",
            "100% 614/614 [00:56<00:00, 10.90it/s]\n",
            "100% 614/614 [00:56<00:00, 10.92it/s]\n",
            "100% 614/614 [00:56<00:00, 10.91it/s]\n",
            "100% 614/614 [00:56<00:00, 10.91it/s]\n",
            "100% 614/614 [00:56<00:00, 10.90it/s]\n",
            "100% 614/614 [00:56<00:00, 10.88it/s]\n",
            "100% 614/614 [00:56<00:00, 10.88it/s]\n",
            "100% 614/614 [00:56<00:00, 10.86it/s]\n",
            "100% 614/614 [00:56<00:00, 10.86it/s]\n",
            "100% 614/614 [00:56<00:00, 10.86it/s]\n",
            "100% 614/614 [00:56<00:00, 10.86it/s]\n",
            "100% 614/614 [00:56<00:00, 10.87it/s]\n",
            "100% 614/614 [00:56<00:00, 10.86it/s]\n",
            "100% 614/614 [00:56<00:00, 10.88it/s]\n",
            "100% 614/614 [00:56<00:00, 10.90it/s]\n",
            "100% 614/614 [00:56<00:00, 10.91it/s]\n",
            "100% 614/614 [00:56<00:00, 10.92it/s]\n",
            "100% 614/614 [00:56<00:00, 10.92it/s]\n",
            "100% 614/614 [00:56<00:00, 10.88it/s]\n",
            "100% 614/614 [00:56<00:00, 10.87it/s]\n",
            "100% 614/614 [00:56<00:00, 10.87it/s]\n",
            "100% 614/614 [00:56<00:00, 10.87it/s]\n",
            "100% 614/614 [00:56<00:00, 10.87it/s]\n",
            "100% 614/614 [00:56<00:00, 10.86it/s]\n",
            "100% 614/614 [00:56<00:00, 10.87it/s]\n",
            "100% 614/614 [00:56<00:00, 10.88it/s]\n",
            "100% 614/614 [00:56<00:00, 10.87it/s]\n",
            "100% 614/614 [00:56<00:00, 10.87it/s]\n",
            "100% 614/614 [00:56<00:00, 10.87it/s]\n",
            "100% 614/614 [00:56<00:00, 10.87it/s]\n",
            "100% 614/614 [00:56<00:00, 10.87it/s]\n",
            "100% 614/614 [00:56<00:00, 10.87it/s]\n",
            "100% 614/614 [00:56<00:00, 10.86it/s]\n",
            "100% 614/614 [00:56<00:00, 10.88it/s]\n",
            "100% 614/614 [00:56<00:00, 10.87it/s]\n",
            "100% 614/614 [00:56<00:00, 10.88it/s]\n",
            "100% 614/614 [00:56<00:00, 10.87it/s]\n",
            "100% 614/614 [00:56<00:00, 10.88it/s]\n",
            "test  auc:0.518  acc:0.947\n"
          ]
        }
      ],
      "source": [
        "!python /content/drive/MyDrive/medmnist/medmnist_test.py chestmnist 224 BILINEAR poolformer 100 128"
      ]
    },
    {
      "cell_type": "code",
      "execution_count": null,
      "metadata": {
        "colab": {
          "base_uri": "https://localhost:8080/"
        },
        "id": "7Nt5n_tXHm1Y",
        "outputId": "1fbae79d-3036-47d2-c89a-ae2bd607d87e"
      },
      "outputs": [
        {
          "name": "stdout",
          "output_type": "stream",
          "text": [
            "If for semantic segmentation, please install mmsegmentation first\n",
            "If for detection, please install mmdetection first\n",
            "Using downloaded and verified file: /root/.medmnist/chestmnist.npz\n",
            "tcmalloc: large alloc 3937214464 bytes == 0xbb96000 @  0x7fecb176d1e7 0x7fecaeff714e 0x7fecaf04f745 0x7fecaf04f9bf 0x7fecaf0f2773 0x5aae14 0x49abe4 0x5d8868 0x4990ca 0x5d8868 0x4990ca 0x55cd91 0x55d743 0x642630 0x6426ae 0x644b78 0x64511c 0x677e5e 0x678029 0x7fecb136ac87 0x5e1baa\n",
            "tcmalloc: large alloc 3937214464 bytes == 0xf6776000 @  0x7fecb174fb6b 0x7fecb176f379 0x7feca423a935 0x7feca4218093 0x7fec4722e4ca 0x7fec47226603 0x7fec4722665a 0x7fec472266bf 0x7fec478c9469 0x7fec483187b0 0x7fec48318810 0x7fec47fd8b33 0x7fec482eb31e 0x7fec4801bdeb 0x7fec47552ec7 0x7fec478ba13b 0x7fec484a5b3b 0x7fec47cf3425 0x7fec482eb093 0x7fec47cf3425 0x7fec496aba0b 0x7fec496abe7e 0x7fec47d73989 0x7fec478b2517 0x7fec48663f79 0x7fec47edae8a 0x7fec7029c45b 0x7fec702a1606 0x7fec6fed225f 0x5d80be 0x5d8d8c\n",
            "Using downloaded and verified file: /root/.medmnist/chestmnist.npz\n",
            "100% 614/614 [00:58<00:00, 10.44it/s]\n",
            "100% 614/614 [00:56<00:00, 10.89it/s]\n",
            "100% 614/614 [00:56<00:00, 10.89it/s]\n",
            "100% 614/614 [00:56<00:00, 10.89it/s]\n",
            "100% 614/614 [00:56<00:00, 10.88it/s]\n",
            "100% 614/614 [00:56<00:00, 10.89it/s]\n",
            "100% 614/614 [00:56<00:00, 10.89it/s]\n",
            "100% 614/614 [00:56<00:00, 10.89it/s]\n",
            "100% 614/614 [00:56<00:00, 10.89it/s]\n",
            "100% 614/614 [00:56<00:00, 10.88it/s]\n",
            "100% 614/614 [00:56<00:00, 10.89it/s]\n",
            "100% 614/614 [00:56<00:00, 10.89it/s]\n",
            "100% 614/614 [00:56<00:00, 10.87it/s]\n",
            "100% 614/614 [00:56<00:00, 10.87it/s]\n",
            "100% 614/614 [00:56<00:00, 10.86it/s]\n",
            "100% 614/614 [00:56<00:00, 10.86it/s]\n",
            "100% 614/614 [00:56<00:00, 10.86it/s]\n",
            "100% 614/614 [00:56<00:00, 10.86it/s]\n",
            "100% 614/614 [00:56<00:00, 10.87it/s]\n",
            "100% 614/614 [00:56<00:00, 10.88it/s]\n",
            "100% 614/614 [00:56<00:00, 10.91it/s]\n",
            "100% 614/614 [00:56<00:00, 10.90it/s]\n",
            "100% 614/614 [00:56<00:00, 10.87it/s]\n",
            "100% 614/614 [00:56<00:00, 10.87it/s]\n",
            "100% 614/614 [00:56<00:00, 10.86it/s]\n",
            "100% 614/614 [00:56<00:00, 10.88it/s]\n",
            "100% 614/614 [00:56<00:00, 10.87it/s]\n",
            "100% 614/614 [00:56<00:00, 10.87it/s]\n",
            "100% 614/614 [00:56<00:00, 10.87it/s]\n",
            "100% 614/614 [00:56<00:00, 10.87it/s]\n",
            "100% 614/614 [00:56<00:00, 10.88it/s]\n",
            "100% 614/614 [00:56<00:00, 10.88it/s]\n",
            "100% 614/614 [00:56<00:00, 10.88it/s]\n",
            "100% 614/614 [00:56<00:00, 10.88it/s]\n",
            "100% 614/614 [00:56<00:00, 10.88it/s]\n",
            "100% 614/614 [00:56<00:00, 10.88it/s]\n",
            "100% 614/614 [00:56<00:00, 10.88it/s]\n",
            "100% 614/614 [00:56<00:00, 10.87it/s]\n",
            "100% 614/614 [00:56<00:00, 10.87it/s]\n",
            "100% 614/614 [00:56<00:00, 10.87it/s]\n",
            "100% 614/614 [00:56<00:00, 10.88it/s]\n",
            "100% 614/614 [00:56<00:00, 10.87it/s]\n",
            "100% 614/614 [00:56<00:00, 10.87it/s]\n",
            "100% 614/614 [00:56<00:00, 10.87it/s]\n",
            "100% 614/614 [00:56<00:00, 10.87it/s]\n",
            "100% 614/614 [00:56<00:00, 10.86it/s]\n",
            "100% 614/614 [00:56<00:00, 10.88it/s]\n",
            "100% 614/614 [00:56<00:00, 10.87it/s]\n",
            "100% 614/614 [00:56<00:00, 10.88it/s]\n",
            "100% 614/614 [00:56<00:00, 10.87it/s]\n",
            "100% 614/614 [00:56<00:00, 10.88it/s]\n",
            "100% 614/614 [00:56<00:00, 10.87it/s]\n",
            "100% 614/614 [00:56<00:00, 10.88it/s]\n",
            "100% 614/614 [00:56<00:00, 10.87it/s]\n",
            "100% 614/614 [00:56<00:00, 10.88it/s]\n",
            "100% 614/614 [00:56<00:00, 10.87it/s]\n",
            "100% 614/614 [00:56<00:00, 10.87it/s]\n",
            "100% 614/614 [00:56<00:00, 10.88it/s]\n",
            "100% 614/614 [00:56<00:00, 10.87it/s]\n",
            "100% 614/614 [00:56<00:00, 10.87it/s]\n",
            "100% 614/614 [00:56<00:00, 10.88it/s]\n",
            "100% 614/614 [00:56<00:00, 10.88it/s]\n",
            "100% 614/614 [00:56<00:00, 10.89it/s]\n",
            "100% 614/614 [00:56<00:00, 10.87it/s]\n",
            "100% 614/614 [00:56<00:00, 10.86it/s]\n",
            "100% 614/614 [00:56<00:00, 10.86it/s]\n",
            "100% 614/614 [00:56<00:00, 10.87it/s]\n",
            "100% 614/614 [00:56<00:00, 10.87it/s]\n",
            "100% 614/614 [00:56<00:00, 10.87it/s]\n",
            "100% 614/614 [00:56<00:00, 10.87it/s]\n",
            "100% 614/614 [00:56<00:00, 10.88it/s]\n",
            "100% 614/614 [00:56<00:00, 10.87it/s]\n",
            "100% 614/614 [00:56<00:00, 10.88it/s]\n",
            "100% 614/614 [00:56<00:00, 10.87it/s]\n",
            "100% 614/614 [00:56<00:00, 10.87it/s]\n",
            "100% 614/614 [00:56<00:00, 10.87it/s]\n",
            "100% 614/614 [00:56<00:00, 10.88it/s]\n",
            "100% 614/614 [00:56<00:00, 10.87it/s]\n",
            "100% 614/614 [00:56<00:00, 10.89it/s]\n",
            "100% 614/614 [00:56<00:00, 10.87it/s]\n",
            "100% 614/614 [00:56<00:00, 10.86it/s]\n",
            "100% 614/614 [00:56<00:00, 10.88it/s]\n",
            "100% 614/614 [00:56<00:00, 10.91it/s]\n",
            "100% 614/614 [00:56<00:00, 10.91it/s]\n",
            "100% 614/614 [00:56<00:00, 10.91it/s]\n",
            "100% 614/614 [00:56<00:00, 10.90it/s]\n",
            "100% 614/614 [00:56<00:00, 10.91it/s]\n",
            "100% 614/614 [00:56<00:00, 10.91it/s]\n",
            "100% 614/614 [00:56<00:00, 10.91it/s]\n",
            "100% 614/614 [00:56<00:00, 10.91it/s]\n",
            "100% 614/614 [00:56<00:00, 10.91it/s]\n",
            "100% 614/614 [00:56<00:00, 10.92it/s]\n",
            "100% 614/614 [00:56<00:00, 10.93it/s]\n",
            "100% 614/614 [00:56<00:00, 10.93it/s]\n",
            "100% 614/614 [00:56<00:00, 10.92it/s]\n",
            "100% 614/614 [00:56<00:00, 10.92it/s]\n",
            "100% 614/614 [00:56<00:00, 10.93it/s]\n",
            "100% 614/614 [00:56<00:00, 10.93it/s]\n",
            "100% 614/614 [00:56<00:00, 10.93it/s]\n",
            "100% 614/614 [00:56<00:00, 10.92it/s]\n",
            "test  auc:0.523  acc:0.947\n"
          ]
        }
      ],
      "source": [
        "!python /content/drive/MyDrive/medmnist/medmnist_test.py chestmnist 224 HAMMING poolformer 100 128"
      ]
    },
    {
      "cell_type": "code",
      "execution_count": null,
      "metadata": {
        "colab": {
          "base_uri": "https://localhost:8080/"
        },
        "id": "JJSY1EhuHm1Y",
        "outputId": "e14af042-0ba4-4064-a0fd-cc6abc8e751a"
      },
      "outputs": [
        {
          "name": "stdout",
          "output_type": "stream",
          "text": [
            "If for semantic segmentation, please install mmsegmentation first\n",
            "If for detection, please install mmdetection first\n",
            "Using downloaded and verified file: /root/.medmnist/chestmnist.npz\n",
            "tcmalloc: large alloc 3937214464 bytes == 0xbfe0000 @  0x7f1f5b8dd1e7 0x7f1f5916714e 0x7f1f591bf745 0x7f1f591bf9bf 0x7f1f59262773 0x5aae14 0x49abe4 0x5d8868 0x4990ca 0x5d8868 0x4990ca 0x55cd91 0x55d743 0x642630 0x6426ae 0x644b78 0x64511c 0x677e5e 0x678029 0x7f1f5b4dac87 0x5e1baa\n",
            "tcmalloc: large alloc 3937214464 bytes == 0xf6bc0000 @  0x7f1f5b8bfb6b 0x7f1f5b8df379 0x7f1f4e3aa935 0x7f1f4e388093 0x7f1ef139e4ca 0x7f1ef1396603 0x7f1ef139665a 0x7f1ef13966bf 0x7f1ef1a39469 0x7f1ef24887b0 0x7f1ef2488810 0x7f1ef2148b33 0x7f1ef245b31e 0x7f1ef218bdeb 0x7f1ef16c2ec7 0x7f1ef1a2a13b 0x7f1ef2615b3b 0x7f1ef1e63425 0x7f1ef245b093 0x7f1ef1e63425 0x7f1ef381ba0b 0x7f1ef381be7e 0x7f1ef1ee3989 0x7f1ef1a22517 0x7f1ef27d3f79 0x7f1ef204ae8a 0x7f1f1a40c45b 0x7f1f1a411606 0x7f1f1a04225f 0x5d80be 0x5d8d8c\n",
            "Using downloaded and verified file: /root/.medmnist/chestmnist.npz\n",
            "100% 614/614 [00:58<00:00, 10.51it/s]\n",
            "100% 614/614 [00:56<00:00, 10.93it/s]\n",
            "100% 614/614 [00:56<00:00, 10.94it/s]\n",
            "100% 614/614 [00:56<00:00, 10.95it/s]\n",
            "100% 614/614 [00:56<00:00, 10.96it/s]\n",
            "100% 614/614 [00:56<00:00, 10.93it/s]\n",
            "100% 614/614 [00:56<00:00, 10.95it/s]\n",
            "100% 614/614 [00:56<00:00, 10.95it/s]\n",
            "100% 614/614 [00:56<00:00, 10.94it/s]\n",
            "100% 614/614 [00:56<00:00, 10.95it/s]\n",
            "100% 614/614 [00:56<00:00, 10.94it/s]\n",
            "100% 614/614 [00:56<00:00, 10.94it/s]\n",
            "100% 614/614 [00:56<00:00, 10.95it/s]\n",
            "100% 614/614 [00:56<00:00, 10.96it/s]\n",
            "100% 614/614 [00:56<00:00, 10.95it/s]\n",
            "100% 614/614 [00:56<00:00, 10.95it/s]\n",
            "100% 614/614 [00:56<00:00, 10.94it/s]\n",
            "100% 614/614 [00:56<00:00, 10.93it/s]\n",
            "100% 614/614 [00:56<00:00, 10.94it/s]\n",
            "100% 614/614 [00:56<00:00, 10.95it/s]\n",
            "100% 614/614 [00:56<00:00, 10.95it/s]\n",
            "100% 614/614 [00:56<00:00, 10.95it/s]\n",
            "100% 614/614 [00:56<00:00, 10.88it/s]\n",
            "100% 614/614 [00:56<00:00, 10.93it/s]\n",
            "100% 614/614 [00:56<00:00, 10.95it/s]\n",
            "100% 614/614 [00:56<00:00, 10.95it/s]\n",
            "100% 614/614 [00:56<00:00, 10.95it/s]\n",
            "100% 614/614 [00:56<00:00, 10.95it/s]\n",
            "100% 614/614 [00:56<00:00, 10.88it/s]\n",
            "100% 614/614 [00:56<00:00, 10.96it/s]\n",
            "100% 614/614 [00:56<00:00, 10.94it/s]\n",
            "100% 614/614 [00:56<00:00, 10.95it/s]\n",
            "100% 614/614 [00:56<00:00, 10.95it/s]\n",
            "100% 614/614 [00:56<00:00, 10.95it/s]\n",
            "100% 614/614 [00:56<00:00, 10.95it/s]\n",
            "100% 614/614 [00:56<00:00, 10.95it/s]\n",
            "100% 614/614 [00:56<00:00, 10.95it/s]\n",
            "100% 614/614 [00:56<00:00, 10.96it/s]\n",
            "100% 614/614 [00:56<00:00, 10.96it/s]\n",
            "100% 614/614 [00:56<00:00, 10.96it/s]\n",
            "100% 614/614 [00:56<00:00, 10.96it/s]\n",
            "100% 614/614 [00:56<00:00, 10.95it/s]\n",
            "100% 614/614 [00:56<00:00, 10.95it/s]\n",
            "100% 614/614 [00:56<00:00, 10.96it/s]\n",
            "100% 614/614 [00:56<00:00, 10.96it/s]\n",
            "100% 614/614 [00:56<00:00, 10.95it/s]\n",
            "100% 614/614 [00:56<00:00, 10.96it/s]\n",
            "100% 614/614 [00:56<00:00, 10.96it/s]\n",
            "100% 614/614 [00:56<00:00, 10.94it/s]\n",
            "100% 614/614 [00:56<00:00, 10.95it/s]\n",
            "100% 614/614 [00:56<00:00, 10.92it/s]\n",
            "100% 614/614 [00:56<00:00, 10.90it/s]\n",
            "100% 614/614 [00:56<00:00, 10.90it/s]\n",
            "100% 614/614 [00:56<00:00, 10.89it/s]\n",
            "100% 614/614 [00:56<00:00, 10.89it/s]\n",
            "100% 614/614 [00:56<00:00, 10.89it/s]\n",
            "100% 614/614 [00:56<00:00, 10.89it/s]\n",
            "100% 614/614 [00:56<00:00, 10.89it/s]\n",
            "100% 614/614 [00:56<00:00, 10.90it/s]\n",
            "100% 614/614 [00:56<00:00, 10.89it/s]\n",
            "100% 614/614 [00:56<00:00, 10.89it/s]\n",
            "100% 614/614 [00:56<00:00, 10.89it/s]\n",
            "100% 614/614 [00:56<00:00, 10.89it/s]\n",
            "100% 614/614 [00:56<00:00, 10.89it/s]\n",
            "100% 614/614 [00:56<00:00, 10.89it/s]\n",
            "100% 614/614 [00:56<00:00, 10.92it/s]\n",
            "100% 614/614 [00:56<00:00, 10.89it/s]\n",
            "100% 614/614 [00:56<00:00, 10.89it/s]\n",
            "100% 614/614 [00:56<00:00, 10.89it/s]\n",
            "100% 614/614 [00:56<00:00, 10.89it/s]\n",
            "100% 614/614 [00:56<00:00, 10.90it/s]\n",
            "100% 614/614 [00:56<00:00, 10.92it/s]\n",
            "100% 614/614 [00:56<00:00, 10.89it/s]\n",
            "100% 614/614 [00:56<00:00, 10.91it/s]\n",
            "100% 614/614 [00:56<00:00, 10.89it/s]\n",
            "100% 614/614 [00:56<00:00, 10.89it/s]\n",
            "100% 614/614 [00:56<00:00, 10.90it/s]\n",
            "100% 614/614 [00:56<00:00, 10.86it/s]\n",
            "100% 614/614 [00:56<00:00, 10.89it/s]\n",
            "100% 614/614 [00:56<00:00, 10.89it/s]\n",
            "100% 614/614 [00:56<00:00, 10.89it/s]\n",
            "100% 614/614 [00:56<00:00, 10.89it/s]\n",
            "100% 614/614 [00:56<00:00, 10.94it/s]\n",
            "100% 614/614 [00:56<00:00, 10.94it/s]\n",
            "100% 614/614 [00:56<00:00, 10.94it/s]\n",
            "100% 614/614 [00:56<00:00, 10.94it/s]\n",
            "100% 614/614 [00:56<00:00, 10.95it/s]\n",
            "100% 614/614 [00:56<00:00, 10.94it/s]\n",
            "100% 614/614 [00:56<00:00, 10.94it/s]\n",
            "100% 614/614 [00:56<00:00, 10.95it/s]\n",
            "100% 614/614 [00:56<00:00, 10.96it/s]\n",
            "100% 614/614 [00:56<00:00, 10.95it/s]\n",
            "100% 614/614 [00:56<00:00, 10.95it/s]\n",
            "100% 614/614 [00:56<00:00, 10.96it/s]\n",
            "100% 614/614 [00:56<00:00, 10.94it/s]\n",
            "100% 614/614 [00:56<00:00, 10.95it/s]\n",
            "100% 614/614 [00:56<00:00, 10.95it/s]\n",
            "100% 614/614 [00:56<00:00, 10.96it/s]\n",
            "100% 614/614 [00:56<00:00, 10.95it/s]\n",
            "100% 614/614 [00:56<00:00, 10.95it/s]\n",
            "test  auc:0.526  acc:0.947\n"
          ]
        }
      ],
      "source": [
        "!python /content/drive/MyDrive/medmnist/medmnist_test.py chestmnist 224 BICUBIC poolformer 100 128"
      ]
    },
    {
      "cell_type": "code",
      "execution_count": null,
      "metadata": {
        "colab": {
          "base_uri": "https://localhost:8080/"
        },
        "id": "TeRNftO_Hm1Y",
        "outputId": "694bdf49-53a8-4558-92d9-8c6e49c4a3de"
      },
      "outputs": [
        {
          "name": "stdout",
          "output_type": "stream",
          "text": [
            "If for semantic segmentation, please install mmsegmentation first\n",
            "If for detection, please install mmdetection first\n",
            "Using downloaded and verified file: /root/.medmnist/chestmnist.npz\n",
            "tcmalloc: large alloc 3937214464 bytes == 0xb7d8000 @  0x7fd62b2761e7 0x7fd628b0014e 0x7fd628b58745 0x7fd628b589bf 0x7fd628bfb773 0x5aae14 0x49abe4 0x5d8868 0x4990ca 0x5d8868 0x4990ca 0x55cd91 0x55d743 0x642630 0x6426ae 0x644b78 0x64511c 0x677e5e 0x678029 0x7fd62ae73c87 0x5e1baa\n",
            "tcmalloc: large alloc 3937214464 bytes == 0xf63b8000 @  0x7fd62b258b6b 0x7fd62b278379 0x7fd61dd43935 0x7fd61dd21093 0x7fd5c0d374ca 0x7fd5c0d2f603 0x7fd5c0d2f65a 0x7fd5c0d2f6bf 0x7fd5c13d2469 0x7fd5c1e217b0 0x7fd5c1e21810 0x7fd5c1ae1b33 0x7fd5c1df431e 0x7fd5c1b24deb 0x7fd5c105bec7 0x7fd5c13c313b 0x7fd5c1faeb3b 0x7fd5c17fc425 0x7fd5c1df4093 0x7fd5c17fc425 0x7fd5c31b4a0b 0x7fd5c31b4e7e 0x7fd5c187c989 0x7fd5c13bb517 0x7fd5c216cf79 0x7fd5c19e3e8a 0x7fd5e9da545b 0x7fd5e9daa606 0x7fd5e99db25f 0x5d80be 0x5d8d8c\n",
            "Using downloaded and verified file: /root/.medmnist/chestmnist.npz\n",
            "100% 614/614 [00:58<00:00, 10.47it/s]\n",
            "100% 614/614 [00:56<00:00, 10.92it/s]\n",
            "100% 614/614 [00:56<00:00, 10.92it/s]\n",
            "100% 614/614 [00:56<00:00, 10.92it/s]\n",
            "100% 614/614 [00:56<00:00, 10.94it/s]\n",
            "100% 614/614 [00:56<00:00, 10.95it/s]\n",
            "100% 614/614 [00:56<00:00, 10.94it/s]\n",
            "100% 614/614 [00:56<00:00, 10.93it/s]\n",
            "100% 614/614 [00:56<00:00, 10.94it/s]\n",
            "100% 614/614 [00:56<00:00, 10.94it/s]\n",
            "100% 614/614 [00:56<00:00, 10.94it/s]\n",
            "100% 614/614 [00:56<00:00, 10.94it/s]\n",
            "100% 614/614 [00:56<00:00, 10.91it/s]\n",
            "100% 614/614 [00:56<00:00, 10.91it/s]\n",
            "100% 614/614 [00:56<00:00, 10.95it/s]\n",
            "100% 614/614 [00:56<00:00, 10.93it/s]\n",
            "100% 614/614 [00:56<00:00, 10.95it/s]\n",
            "100% 614/614 [00:56<00:00, 10.95it/s]\n",
            "100% 614/614 [00:56<00:00, 10.94it/s]\n",
            "100% 614/614 [00:56<00:00, 10.95it/s]\n",
            "100% 614/614 [00:56<00:00, 10.94it/s]\n",
            "100% 614/614 [00:56<00:00, 10.94it/s]\n",
            "100% 614/614 [00:56<00:00, 10.94it/s]\n",
            "100% 614/614 [00:56<00:00, 10.95it/s]\n",
            "100% 614/614 [00:56<00:00, 10.95it/s]\n",
            "100% 614/614 [00:56<00:00, 10.94it/s]\n",
            "100% 614/614 [00:56<00:00, 10.95it/s]\n",
            "100% 614/614 [00:56<00:00, 10.95it/s]\n",
            "100% 614/614 [00:56<00:00, 10.96it/s]\n",
            "100% 614/614 [00:56<00:00, 10.95it/s]\n",
            "100% 614/614 [00:56<00:00, 10.95it/s]\n",
            "100% 614/614 [00:56<00:00, 10.96it/s]\n",
            "100% 614/614 [00:56<00:00, 10.96it/s]\n",
            "100% 614/614 [00:56<00:00, 10.96it/s]\n",
            "100% 614/614 [00:56<00:00, 10.95it/s]\n",
            "100% 614/614 [00:56<00:00, 10.94it/s]\n",
            "100% 614/614 [00:56<00:00, 10.94it/s]\n",
            "100% 614/614 [00:56<00:00, 10.96it/s]\n",
            "100% 614/614 [00:55<00:00, 10.97it/s]\n",
            "100% 614/614 [00:56<00:00, 10.96it/s]\n",
            "100% 614/614 [00:56<00:00, 10.96it/s]\n",
            "100% 614/614 [00:56<00:00, 10.95it/s]\n",
            "100% 614/614 [00:55<00:00, 10.96it/s]\n",
            "100% 614/614 [00:56<00:00, 10.95it/s]\n",
            "100% 614/614 [00:56<00:00, 10.96it/s]\n",
            "100% 614/614 [00:56<00:00, 10.96it/s]\n",
            "100% 614/614 [00:56<00:00, 10.95it/s]\n",
            "100% 614/614 [00:56<00:00, 10.96it/s]\n",
            "100% 614/614 [00:56<00:00, 10.93it/s]\n",
            "100% 614/614 [00:56<00:00, 10.93it/s]\n",
            "100% 614/614 [00:56<00:00, 10.95it/s]\n",
            "100% 614/614 [00:56<00:00, 10.93it/s]\n",
            "100% 614/614 [00:56<00:00, 10.96it/s]\n",
            "100% 614/614 [00:56<00:00, 10.96it/s]\n",
            "100% 614/614 [00:56<00:00, 10.96it/s]\n",
            "100% 614/614 [00:56<00:00, 10.95it/s]\n",
            "100% 614/614 [00:56<00:00, 10.94it/s]\n",
            "100% 614/614 [00:56<00:00, 10.93it/s]\n",
            "100% 614/614 [00:56<00:00, 10.92it/s]\n",
            "100% 614/614 [00:56<00:00, 10.90it/s]\n",
            "100% 614/614 [00:56<00:00, 10.94it/s]\n",
            "100% 614/614 [00:56<00:00, 10.93it/s]\n",
            "100% 614/614 [00:56<00:00, 10.95it/s]\n",
            "100% 614/614 [00:56<00:00, 10.95it/s]\n",
            "100% 614/614 [00:56<00:00, 10.95it/s]\n",
            "100% 614/614 [00:56<00:00, 10.94it/s]\n",
            "100% 614/614 [00:56<00:00, 10.89it/s]\n",
            "100% 614/614 [00:56<00:00, 10.91it/s]\n",
            "100% 614/614 [00:56<00:00, 10.91it/s]\n",
            "100% 614/614 [00:56<00:00, 10.91it/s]\n",
            "100% 614/614 [00:56<00:00, 10.89it/s]\n",
            "100% 614/614 [00:56<00:00, 10.88it/s]\n",
            "100% 614/614 [00:56<00:00, 10.92it/s]\n",
            "100% 614/614 [00:56<00:00, 10.89it/s]\n",
            "100% 614/614 [00:56<00:00, 10.90it/s]\n",
            "100% 614/614 [00:56<00:00, 10.92it/s]\n",
            "100% 614/614 [00:56<00:00, 10.92it/s]\n",
            "100% 614/614 [00:56<00:00, 10.91it/s]\n",
            "100% 614/614 [00:56<00:00, 10.87it/s]\n",
            "100% 614/614 [00:56<00:00, 10.89it/s]\n",
            "100% 614/614 [00:56<00:00, 10.87it/s]\n",
            "100% 614/614 [00:56<00:00, 10.92it/s]\n",
            "100% 614/614 [00:56<00:00, 10.92it/s]\n",
            "100% 614/614 [00:56<00:00, 10.93it/s]\n",
            "100% 614/614 [00:56<00:00, 10.91it/s]\n",
            "100% 614/614 [00:56<00:00, 10.93it/s]\n",
            "100% 614/614 [00:56<00:00, 10.91it/s]\n",
            "100% 614/614 [00:56<00:00, 10.91it/s]\n",
            "100% 614/614 [00:56<00:00, 10.94it/s]\n",
            "100% 614/614 [00:56<00:00, 10.95it/s]\n",
            "100% 614/614 [00:56<00:00, 10.93it/s]\n",
            "100% 614/614 [00:56<00:00, 10.93it/s]\n",
            "100% 614/614 [00:56<00:00, 10.93it/s]\n",
            "100% 614/614 [00:56<00:00, 10.92it/s]\n",
            "100% 614/614 [00:56<00:00, 10.91it/s]\n",
            "100% 614/614 [00:56<00:00, 10.92it/s]\n",
            "100% 614/614 [00:56<00:00, 10.92it/s]\n",
            "100% 614/614 [00:56<00:00, 10.94it/s]\n",
            "100% 614/614 [00:56<00:00, 10.93it/s]\n",
            "100% 614/614 [00:56<00:00, 10.93it/s]\n",
            "test  auc:0.521  acc:0.947\n"
          ]
        }
      ],
      "source": [
        "!python /content/drive/MyDrive/medmnist/medmnist_test.py chestmnist 224 LANCZOS poolformer 100 128"
      ]
    },
    {
      "cell_type": "markdown",
      "metadata": {
        "id": "hyNIxF-YFe0x"
      },
      "source": [
        "# pneumonialmnist"
      ]
    },
    {
      "cell_type": "markdown",
      "metadata": {
        "id": "2fVAINrWFi85"
      },
      "source": [
        "## pneumonialmnist_net3"
      ]
    },
    {
      "cell_type": "code",
      "execution_count": null,
      "metadata": {
        "id": "MZqSuU3PIYHN"
      },
      "outputs": [],
      "source": [
        "!python /content/drive/MyDrive/medmnist/medmnist_test.py pneumonialmnist 224 NEAREST net3 100 128"
      ]
    },
    {
      "cell_type": "code",
      "execution_count": null,
      "metadata": {
        "id": "-MqpdMmlIYHO"
      },
      "outputs": [],
      "source": [
        "!python /content/drive/MyDrive/medmnist/medmnist_test.py pneumonialmnist 224 BILINEAR net3 100 128"
      ]
    },
    {
      "cell_type": "code",
      "execution_count": null,
      "metadata": {
        "id": "7qKY8aEcIYHO"
      },
      "outputs": [],
      "source": [
        "!python /content/drive/MyDrive/medmnist/medmnist_test.py pneumonialmnist 224 HAMMING net3 100 128"
      ]
    },
    {
      "cell_type": "code",
      "execution_count": null,
      "metadata": {
        "id": "hD4uZkfmIYHO"
      },
      "outputs": [],
      "source": [
        "!python /content/drive/MyDrive/medmnist/medmnist_test.py pneumonialmnist 224 BICUBIC net3 100 128"
      ]
    },
    {
      "cell_type": "code",
      "execution_count": null,
      "metadata": {
        "id": "hOx7B0bFIYHO"
      },
      "outputs": [],
      "source": [
        "!python /content/drive/MyDrive/medmnist/medmnist_test.py pneumonialmnist 224 LANCZOS net3 100 128"
      ]
    },
    {
      "cell_type": "markdown",
      "metadata": {
        "id": "Ko0hp5K9FpFf"
      },
      "source": [
        "## pneumonialmnist_net5"
      ]
    },
    {
      "cell_type": "code",
      "execution_count": null,
      "metadata": {
        "id": "n7Fkrwa_IimF"
      },
      "outputs": [],
      "source": [
        "!python /content/drive/MyDrive/medmnist/medmnist_test.py pneumonialmnist 224 NEAREST net5 100 128"
      ]
    },
    {
      "cell_type": "code",
      "execution_count": null,
      "metadata": {
        "id": "klPzQ-NCIimF"
      },
      "outputs": [],
      "source": [
        "!python /content/drive/MyDrive/medmnist/medmnist_test.py pneumonialmnist 224 BILINEAR net5 100 128"
      ]
    },
    {
      "cell_type": "code",
      "execution_count": null,
      "metadata": {
        "id": "dFwZUagxIimF"
      },
      "outputs": [],
      "source": [
        "!python /content/drive/MyDrive/medmnist/medmnist_test.py pneumonialmnist 224 HAMMING net5 100 128"
      ]
    },
    {
      "cell_type": "code",
      "execution_count": null,
      "metadata": {
        "id": "USWhB5XUIimF"
      },
      "outputs": [],
      "source": [
        "!python /content/drive/MyDrive/medmnist/medmnist_test.py pneumonialmnist 224 BICUBIC net5 100 128"
      ]
    },
    {
      "cell_type": "code",
      "execution_count": null,
      "metadata": {
        "id": "Iv-nvrbeIimF"
      },
      "outputs": [],
      "source": [
        "!python /content/drive/MyDrive/medmnist/medmnist_test.py pneumonialmnist 224 LANCZOS net5 100 128"
      ]
    },
    {
      "cell_type": "markdown",
      "metadata": {
        "id": "fBo_tq4oFrnp"
      },
      "source": [
        "## pneumonialmnist_resnet18"
      ]
    },
    {
      "cell_type": "code",
      "execution_count": null,
      "metadata": {
        "id": "HX5NJ36JIpV3"
      },
      "outputs": [],
      "source": [
        "!python /content/drive/MyDrive/medmnist/medmnist_test.py pneumonialmnist 224 NEAREST resnet18 100 128"
      ]
    },
    {
      "cell_type": "code",
      "execution_count": null,
      "metadata": {
        "id": "-59XvsulIpV4"
      },
      "outputs": [],
      "source": [
        "!python /content/drive/MyDrive/medmnist/medmnist_test.py pneumonialmnist 224 BILINEAR resnet18 100 128"
      ]
    },
    {
      "cell_type": "code",
      "execution_count": null,
      "metadata": {
        "id": "WGDU90LGIpV4"
      },
      "outputs": [],
      "source": [
        "!python /content/drive/MyDrive/medmnist/medmnist_test.py pneumonialmnist 224 HAMMING resnet18 100 128"
      ]
    },
    {
      "cell_type": "code",
      "execution_count": null,
      "metadata": {
        "id": "BCRocCPRIpV4"
      },
      "outputs": [],
      "source": [
        "!python /content/drive/MyDrive/medmnist/medmnist_test.py pneumonialmnist 224 BICUBIC resnet18 100 128"
      ]
    },
    {
      "cell_type": "code",
      "execution_count": null,
      "metadata": {
        "id": "FBOMG14GIpV4"
      },
      "outputs": [],
      "source": [
        "!python /content/drive/MyDrive/medmnist/medmnist_test.py pneumonialmnist 224 LANCZOS resnet18 100 128"
      ]
    },
    {
      "cell_type": "markdown",
      "metadata": {
        "id": "j-6P5HgCFvbn"
      },
      "source": [
        "## pneumonialmnist_resnet50"
      ]
    },
    {
      "cell_type": "code",
      "execution_count": null,
      "metadata": {
        "id": "IJYGQgYGIzGE"
      },
      "outputs": [],
      "source": [
        "!python /content/drive/MyDrive/medmnist/medmnist_test.py pneumonialmnist 224 NEAREST resnet50 100 128"
      ]
    },
    {
      "cell_type": "code",
      "execution_count": null,
      "metadata": {
        "id": "GiV9GpfEIzGE"
      },
      "outputs": [],
      "source": [
        "!python /content/drive/MyDrive/medmnist/medmnist_test.py pneumonialmnist 224 BILINEAR resnet50 100 128"
      ]
    },
    {
      "cell_type": "code",
      "execution_count": null,
      "metadata": {
        "id": "IBj0h4-HIzGE"
      },
      "outputs": [],
      "source": [
        "!python /content/drive/MyDrive/medmnist/medmnist_test.py pneumonialmnist 224 HAMMING resnet50 100 128"
      ]
    },
    {
      "cell_type": "code",
      "execution_count": null,
      "metadata": {
        "id": "rz2LmkfoIzGE"
      },
      "outputs": [],
      "source": [
        "!python /content/drive/MyDrive/medmnist/medmnist_test.py pneumonialmnist 224 BICUBIC resnet50 100 128"
      ]
    },
    {
      "cell_type": "code",
      "execution_count": null,
      "metadata": {
        "id": "NQHNfjFrIzGF"
      },
      "outputs": [],
      "source": [
        "!python /content/drive/MyDrive/medmnist/medmnist_test.py pneumonialmnist 224 LANCZOS resnet50 100 128"
      ]
    },
    {
      "cell_type": "markdown",
      "metadata": {
        "id": "T4AGZZyLFygH"
      },
      "source": [
        "## pneumonialmnist_poolformer"
      ]
    },
    {
      "cell_type": "code",
      "execution_count": null,
      "metadata": {
        "id": "WIiR8FTUI9f8"
      },
      "outputs": [],
      "source": [
        "!python /content/drive/MyDrive/medmnist/medmnist_test.py pneumonialmnist 224 NEAREST poolformer 100 128"
      ]
    },
    {
      "cell_type": "code",
      "execution_count": null,
      "metadata": {
        "id": "Y_TbU9WpI9f8"
      },
      "outputs": [],
      "source": [
        "!python /content/drive/MyDrive/medmnist/medmnist_test.py pneumonialmnist 224 BILINEAR poolformer 100 128"
      ]
    },
    {
      "cell_type": "code",
      "execution_count": null,
      "metadata": {
        "id": "ihRjDWFBI9f8"
      },
      "outputs": [],
      "source": [
        "!python /content/drive/MyDrive/medmnist/medmnist_test.py pneumonialmnist 224 HAMMING poolformer 100 128"
      ]
    },
    {
      "cell_type": "code",
      "execution_count": null,
      "metadata": {
        "id": "5WmbP0gNI9f8"
      },
      "outputs": [],
      "source": [
        "!python /content/drive/MyDrive/medmnist/medmnist_test.py pneumonialmnist 224 BICUBIC poolformer 100 128"
      ]
    },
    {
      "cell_type": "code",
      "execution_count": null,
      "metadata": {
        "id": "KNkETFqcI9f9"
      },
      "outputs": [],
      "source": [
        "!python /content/drive/MyDrive/medmnist/medmnist_test.py pneumonialmnist 224 LANCZOS poolformer 100 128"
      ]
    },
    {
      "cell_type": "markdown",
      "metadata": {
        "id": "ySJkDhqyF1vR"
      },
      "source": [
        "# retinamnist"
      ]
    },
    {
      "cell_type": "markdown",
      "metadata": {
        "id": "mIkuc1UjF7ve"
      },
      "source": [
        "## retinamnist_net3"
      ]
    },
    {
      "cell_type": "code",
      "execution_count": null,
      "metadata": {
        "id": "loCK3CJZJO7K"
      },
      "outputs": [],
      "source": [
        "!python /content/drive/MyDrive/medmnist/medmnist_test.py retinamnist 224 NEAREST net3 100 128"
      ]
    },
    {
      "cell_type": "code",
      "execution_count": null,
      "metadata": {
        "id": "r_PRtigVJO7K"
      },
      "outputs": [],
      "source": [
        "!python /content/drive/MyDrive/medmnist/medmnist_test.py retinamnist 224 BILINEAR net3 100 128"
      ]
    },
    {
      "cell_type": "code",
      "execution_count": null,
      "metadata": {
        "id": "AXy6DkHLJO7L"
      },
      "outputs": [],
      "source": [
        "!python /content/drive/MyDrive/medmnist/medmnist_test.py retinamnist 224 HAMMING net3 100 128"
      ]
    },
    {
      "cell_type": "code",
      "execution_count": null,
      "metadata": {
        "id": "R8FLCEuiJO7L"
      },
      "outputs": [],
      "source": [
        "!python /content/drive/MyDrive/medmnist/medmnist_test.py retinamnist 224 BICUBIC net3 100 128"
      ]
    },
    {
      "cell_type": "code",
      "execution_count": null,
      "metadata": {
        "id": "acmqGyLrJO7L"
      },
      "outputs": [],
      "source": [
        "!python /content/drive/MyDrive/medmnist/medmnist_test.py retinamnist 224 LANCZOS net3 100 128"
      ]
    },
    {
      "cell_type": "markdown",
      "metadata": {
        "id": "VHm9RfY2F-OW"
      },
      "source": [
        "## retinamnist_net5"
      ]
    },
    {
      "cell_type": "code",
      "execution_count": null,
      "metadata": {
        "id": "NgZInfxhJaoZ"
      },
      "outputs": [],
      "source": [
        "!python /content/drive/MyDrive/medmnist/medmnist_test.py retinamnist 224 NEAREST net5 100 128"
      ]
    },
    {
      "cell_type": "code",
      "execution_count": null,
      "metadata": {
        "id": "1Uy7KWKsJaoa"
      },
      "outputs": [],
      "source": [
        "!python /content/drive/MyDrive/medmnist/medmnist_test.py retinamnist 224 BILINEAR net5 100 128"
      ]
    },
    {
      "cell_type": "code",
      "execution_count": null,
      "metadata": {
        "id": "KdjrGhoZJaoa"
      },
      "outputs": [],
      "source": [
        "!python /content/drive/MyDrive/medmnist/medmnist_test.py retinamnist 224 HAMMING net5 100 128"
      ]
    },
    {
      "cell_type": "code",
      "execution_count": null,
      "metadata": {
        "id": "5UPjQlS-Jaoa"
      },
      "outputs": [],
      "source": [
        "!python /content/drive/MyDrive/medmnist/medmnist_test.py retinamnist 224 BICUBIC net5 100 128"
      ]
    },
    {
      "cell_type": "code",
      "execution_count": null,
      "metadata": {
        "id": "T86P9pF-Jaoa"
      },
      "outputs": [],
      "source": [
        "!python /content/drive/MyDrive/medmnist/medmnist_test.py retinamnist 224 LANCZOS net5 100 128"
      ]
    },
    {
      "cell_type": "markdown",
      "metadata": {
        "id": "kG8Ae7Q4GAiw"
      },
      "source": [
        "## retinamnist_resnet18"
      ]
    },
    {
      "cell_type": "code",
      "execution_count": null,
      "metadata": {
        "id": "POuaWR4FJh3p"
      },
      "outputs": [],
      "source": [
        "!python /content/drive/MyDrive/medmnist/medmnist_test.py retinamnist 224 NEAREST resnet18 100 128"
      ]
    },
    {
      "cell_type": "code",
      "execution_count": null,
      "metadata": {
        "id": "_d5VSNnJJh3p"
      },
      "outputs": [],
      "source": [
        "!python /content/drive/MyDrive/medmnist/medmnist_test.py retinamnist 224 BILINEAR resnet18 100 128"
      ]
    },
    {
      "cell_type": "code",
      "execution_count": null,
      "metadata": {
        "id": "WlFniA9iJh3q"
      },
      "outputs": [],
      "source": [
        "!python /content/drive/MyDrive/medmnist/medmnist_test.py retinamnist 224 HAMMING resnet18 100 128"
      ]
    },
    {
      "cell_type": "code",
      "execution_count": null,
      "metadata": {
        "id": "hXl6A-P-Jh3q"
      },
      "outputs": [],
      "source": [
        "!python /content/drive/MyDrive/medmnist/medmnist_test.py retinamnist 224 BICUBIC resnet18 100 128"
      ]
    },
    {
      "cell_type": "code",
      "execution_count": null,
      "metadata": {
        "id": "wRJo7RuPJh3q"
      },
      "outputs": [],
      "source": [
        "!python /content/drive/MyDrive/medmnist/medmnist_test.py retinamnist 224 LANCZOS resnet18 100 128"
      ]
    },
    {
      "cell_type": "markdown",
      "metadata": {
        "id": "TEgoAm50GDXO"
      },
      "source": [
        "## retinamnist_resnet50"
      ]
    },
    {
      "cell_type": "code",
      "execution_count": null,
      "metadata": {
        "id": "nZQvGBShJq18"
      },
      "outputs": [],
      "source": [
        "!python /content/drive/MyDrive/medmnist/medmnist_test.py retinamnist 224 NEAREST resnet50 100 128"
      ]
    },
    {
      "cell_type": "code",
      "execution_count": null,
      "metadata": {
        "id": "HvrlzEoOJq19"
      },
      "outputs": [],
      "source": [
        "!python /content/drive/MyDrive/medmnist/medmnist_test.py retinamnist 224 BILINEAR resnet50 100 128"
      ]
    },
    {
      "cell_type": "code",
      "execution_count": null,
      "metadata": {
        "id": "AjTuESJYJq19"
      },
      "outputs": [],
      "source": [
        "!python /content/drive/MyDrive/medmnist/medmnist_test.py retinamnist 224 HAMMING resnet50 100 128"
      ]
    },
    {
      "cell_type": "code",
      "execution_count": null,
      "metadata": {
        "id": "_U65GHCSJq19"
      },
      "outputs": [],
      "source": [
        "!python /content/drive/MyDrive/medmnist/medmnist_test.py retinamnist 224 BICUBIC resnet50 100 128"
      ]
    },
    {
      "cell_type": "code",
      "execution_count": null,
      "metadata": {
        "id": "NH6sjbUeJq19"
      },
      "outputs": [],
      "source": [
        "!python /content/drive/MyDrive/medmnist/medmnist_test.py retinamnist 224 LANCZOS resnet50 100 128"
      ]
    },
    {
      "cell_type": "markdown",
      "metadata": {
        "id": "RNbwefJaGGLm"
      },
      "source": [
        "## retinamnist_poolformer"
      ]
    },
    {
      "cell_type": "code",
      "execution_count": null,
      "metadata": {
        "id": "HoxEbNNGJz6Q"
      },
      "outputs": [],
      "source": [
        "!python /content/drive/MyDrive/medmnist/medmnist_test.py retinamnist 224 NEAREST poolformer 100 128"
      ]
    },
    {
      "cell_type": "code",
      "execution_count": null,
      "metadata": {
        "id": "-S5HHwJ-Jz6Q"
      },
      "outputs": [],
      "source": [
        "!python /content/drive/MyDrive/medmnist/medmnist_test.py retinamnist 224 BILINEAR poolformer 100 128"
      ]
    },
    {
      "cell_type": "code",
      "execution_count": null,
      "metadata": {
        "id": "Zqj45IDUJz6Q"
      },
      "outputs": [],
      "source": [
        "!python /content/drive/MyDrive/medmnist/medmnist_test.py retinamnist 224 HAMMING poolformer 100 128"
      ]
    },
    {
      "cell_type": "code",
      "execution_count": null,
      "metadata": {
        "id": "niDOZOUEJz6R"
      },
      "outputs": [],
      "source": [
        "!python /content/drive/MyDrive/medmnist/medmnist_test.py retinamnist 224 BICUBIC poolformer 100 128"
      ]
    },
    {
      "cell_type": "code",
      "execution_count": null,
      "metadata": {
        "id": "yG1HGeAuJz6R"
      },
      "outputs": [],
      "source": [
        "!python /content/drive/MyDrive/medmnist/medmnist_test.py retinamnist 224 LANCZOS poolformer 100 128"
      ]
    },
    {
      "cell_type": "markdown",
      "metadata": {
        "id": "OUexhrLWGSpW"
      },
      "source": [
        "# breastmnist"
      ]
    },
    {
      "cell_type": "markdown",
      "metadata": {
        "id": "W82dyDpUGX_1"
      },
      "source": [
        "## breastmnist_net3"
      ]
    },
    {
      "cell_type": "code",
      "execution_count": null,
      "metadata": {
        "id": "S1V1NxdLKOtv"
      },
      "outputs": [],
      "source": [
        "!python /content/drive/MyDrive/medmnist/medmnist_test.py breastmnist 224 NEAREST net3 100 128"
      ]
    },
    {
      "cell_type": "code",
      "execution_count": null,
      "metadata": {
        "id": "qvfIFBHFKOtw"
      },
      "outputs": [],
      "source": [
        "!python /content/drive/MyDrive/medmnist/medmnist_test.py breastmnist 224 BILINEAR net3 100 128"
      ]
    },
    {
      "cell_type": "code",
      "execution_count": null,
      "metadata": {
        "id": "mLbrFbvqKOtw"
      },
      "outputs": [],
      "source": [
        "!python /content/drive/MyDrive/medmnist/medmnist_test.py breastmnist 224 HAMMING net3 100 128"
      ]
    },
    {
      "cell_type": "code",
      "execution_count": null,
      "metadata": {
        "id": "t0ozRb4MKOtw"
      },
      "outputs": [],
      "source": [
        "!python /content/drive/MyDrive/medmnist/medmnist_test.py breastmnist 224 BICUBIC net3 100 128"
      ]
    },
    {
      "cell_type": "code",
      "execution_count": null,
      "metadata": {
        "id": "QBrGiWqIKOtw"
      },
      "outputs": [],
      "source": [
        "!python /content/drive/MyDrive/medmnist/medmnist_test.py breastmnist 224 LANCZOS net3 100 128"
      ]
    },
    {
      "cell_type": "markdown",
      "metadata": {
        "id": "ukVRwgKnGad4"
      },
      "source": [
        "## breastmnist_net5"
      ]
    },
    {
      "cell_type": "code",
      "execution_count": null,
      "metadata": {
        "id": "XAmHcDKnKYg8"
      },
      "outputs": [],
      "source": [
        "!python /content/drive/MyDrive/medmnist/medmnist_test.py breastmnist 224 NEAREST net5 100 128"
      ]
    },
    {
      "cell_type": "code",
      "execution_count": null,
      "metadata": {
        "id": "Uw1UQ2E-KYg8"
      },
      "outputs": [],
      "source": [
        "!python /content/drive/MyDrive/medmnist/medmnist_test.py breastmnist 224 BILINEAR net5 100 128"
      ]
    },
    {
      "cell_type": "code",
      "execution_count": null,
      "metadata": {
        "id": "d58Bg6zZKYg8"
      },
      "outputs": [],
      "source": [
        "!python /content/drive/MyDrive/medmnist/medmnist_test.py breastmnist 224 HAMMING net5 100 128"
      ]
    },
    {
      "cell_type": "code",
      "execution_count": null,
      "metadata": {
        "id": "eMcTywgoKYg9"
      },
      "outputs": [],
      "source": [
        "!python /content/drive/MyDrive/medmnist/medmnist_test.py breastmnist 224 BICUBIC net5 100 128"
      ]
    },
    {
      "cell_type": "code",
      "execution_count": null,
      "metadata": {
        "id": "0WxCfjVrKYg9"
      },
      "outputs": [],
      "source": [
        "!python /content/drive/MyDrive/medmnist/medmnist_test.py breastmnist 224 LANCZOS net5 100 128"
      ]
    },
    {
      "cell_type": "markdown",
      "metadata": {
        "id": "7zQbF4GRGcou"
      },
      "source": [
        "## breastmnist_resnet18"
      ]
    },
    {
      "cell_type": "code",
      "execution_count": null,
      "metadata": {
        "id": "wV4fTej2Kd81"
      },
      "outputs": [],
      "source": [
        "!python /content/drive/MyDrive/medmnist/medmnist_test.py breastmnist 224 NEAREST resnet18 100 128"
      ]
    },
    {
      "cell_type": "code",
      "execution_count": null,
      "metadata": {
        "id": "tX-i-yhPKd82"
      },
      "outputs": [],
      "source": [
        "!python /content/drive/MyDrive/medmnist/medmnist_test.py breastmnist 224 BILINEAR resnet18 100 128"
      ]
    },
    {
      "cell_type": "code",
      "execution_count": null,
      "metadata": {
        "id": "Ch7duSgkKd82"
      },
      "outputs": [],
      "source": [
        "!python /content/drive/MyDrive/medmnist/medmnist_test.py breastmnist 224 HAMMING resnet18 100 128"
      ]
    },
    {
      "cell_type": "code",
      "execution_count": null,
      "metadata": {
        "id": "WG39Hi30Kd83"
      },
      "outputs": [],
      "source": [
        "!python /content/drive/MyDrive/medmnist/medmnist_test.py breastmnist 224 BICUBIC resnet18 100 128"
      ]
    },
    {
      "cell_type": "code",
      "execution_count": null,
      "metadata": {
        "id": "JEIQATBxKd83"
      },
      "outputs": [],
      "source": [
        "!python /content/drive/MyDrive/medmnist/medmnist_test.py breastmnist 224 LANCZOS resnet18 100 128"
      ]
    },
    {
      "cell_type": "markdown",
      "metadata": {
        "id": "_DNiYPJcGfV9"
      },
      "source": [
        "## breastmnist_resnet50"
      ]
    },
    {
      "cell_type": "code",
      "execution_count": null,
      "metadata": {
        "id": "HgDIchppKkn-"
      },
      "outputs": [],
      "source": [
        "!python /content/drive/MyDrive/medmnist/medmnist_test.py breastmnist 224 NEAREST resnet50 100 128"
      ]
    },
    {
      "cell_type": "code",
      "execution_count": null,
      "metadata": {
        "id": "j-F--37gKkn-"
      },
      "outputs": [],
      "source": [
        "!python /content/drive/MyDrive/medmnist/medmnist_test.py breastmnist 224 BILINEAR resnet50 100 128"
      ]
    },
    {
      "cell_type": "code",
      "execution_count": null,
      "metadata": {
        "id": "TSsoSKdZKkn-"
      },
      "outputs": [],
      "source": [
        "!python /content/drive/MyDrive/medmnist/medmnist_test.py breastmnist 224 HAMMING resnet50 100 128"
      ]
    },
    {
      "cell_type": "code",
      "execution_count": null,
      "metadata": {
        "id": "iSg0pELbKkn-"
      },
      "outputs": [],
      "source": [
        "!python /content/drive/MyDrive/medmnist/medmnist_test.py breastmnist 224 BICUBIC resnet50 100 128"
      ]
    },
    {
      "cell_type": "code",
      "execution_count": null,
      "metadata": {
        "id": "Fv48NnqVKkn-"
      },
      "outputs": [],
      "source": [
        "!python /content/drive/MyDrive/medmnist/medmnist_test.py breastmnist 224 LANCZOS resnet50 100 128"
      ]
    },
    {
      "cell_type": "markdown",
      "metadata": {
        "id": "xTDO0No1Gh91"
      },
      "source": [
        "## breastmnist_poolformer"
      ]
    },
    {
      "cell_type": "code",
      "execution_count": null,
      "metadata": {
        "id": "2VuMlR12KsGt"
      },
      "outputs": [],
      "source": [
        "!python /content/drive/MyDrive/medmnist/medmnist_test.py breastmnist 224 NEAREST poolformer 100 128"
      ]
    },
    {
      "cell_type": "code",
      "execution_count": null,
      "metadata": {
        "id": "W2iQNPFHKsGt"
      },
      "outputs": [],
      "source": [
        "!python /content/drive/MyDrive/medmnist/medmnist_test.py breastmnist 224 BILINEAR poolformer 100 128"
      ]
    },
    {
      "cell_type": "code",
      "execution_count": null,
      "metadata": {
        "id": "aEGA96O1KsGt"
      },
      "outputs": [],
      "source": [
        "!python /content/drive/MyDrive/medmnist/medmnist_test.py breastmnist 224 HAMMING poolformer 100 128"
      ]
    },
    {
      "cell_type": "code",
      "execution_count": null,
      "metadata": {
        "id": "mdBTI8-aKsGt"
      },
      "outputs": [],
      "source": [
        "!python /content/drive/MyDrive/medmnist/medmnist_test.py breastmnist 224 BICUBIC poolformer 100 128"
      ]
    },
    {
      "cell_type": "code",
      "execution_count": null,
      "metadata": {
        "id": "pKe1yNjrKsGu"
      },
      "outputs": [],
      "source": [
        "!python /content/drive/MyDrive/medmnist/medmnist_test.py breastmnist 224 LANCZOS poolformer 100 128"
      ]
    }
  ],
  "metadata": {
    "accelerator": "GPU",
    "colab": {
      "provenance": []
    },
    "gpuClass": "standard",
    "kernelspec": {
      "display_name": "Python 3.9.2 64-bit ('3.9.2')",
      "language": "python",
      "name": "python3"
    },
    "language_info": {
      "name": "python",
      "version": "3.9.2"
    },
    "vscode": {
      "interpreter": {
        "hash": "2d7b087156161fb625e4a6c422e95b511bfa45e0ec345ce3e52f6d7ffde7b07a"
      }
    }
  },
  "nbformat": 4,
  "nbformat_minor": 0
}
